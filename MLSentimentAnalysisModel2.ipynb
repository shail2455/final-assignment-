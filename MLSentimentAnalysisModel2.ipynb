{
  "nbformat": 4,
  "nbformat_minor": 0,
  "metadata": {
    "colab": {
      "name": "MLSentimentAnalysisModel2.ipynb",
      "provenance": []
    },
    "kernelspec": {
      "name": "python3",
      "display_name": "Python 3"
    },
    "language_info": {
      "name": "python"
    },
    "accelerator": "GPU"
  },
  "cells": [
    {
      "cell_type": "markdown",
      "metadata": {
        "id": "t3Su20HqFfGE"
      },
      "source": [
        "**IMPORTING THE NECESSARY LIBRARIES**"
      ]
    },
    {
      "cell_type": "code",
      "metadata": {
        "id": "YgRiIVfVSgak"
      },
      "source": [
        "import pandas as pd\n",
        "import numpy as np\n",
        "import matplotlib.pyplot as plt\n",
        "import seaborn as sns\n",
        "%matplotlib inline"
      ],
      "execution_count": 1,
      "outputs": []
    },
    {
      "cell_type": "markdown",
      "metadata": {
        "id": "mP56p70sFnbg"
      },
      "source": [
        "**READING THE CSV FILES USING PANDAS**"
      ]
    },
    {
      "cell_type": "code",
      "metadata": {
        "id": "XpVBm4npF7Cx"
      },
      "source": [
        "df_books_neg=pd.read_csv('/content/negative_books.csv')\n",
        "df_books_pos=pd.read_csv('/content/positive_books.csv')\n",
        "df_dvd_neg=pd.read_csv('/content/negative_dvd.csv')\n",
        "df_dvd_pos=pd.read_csv('/content/positive_dvd.csv')\n",
        "df_ele_neg=pd.read_csv('/content/negative_ele.csv')\n",
        "df_ele_pos=pd.read_csv('/content/positive_ele.csv')\n",
        "df_kit_neg=pd.read_csv('/content/negative_kit.csv')\n",
        "df_kit_pos=pd.read_csv('/content/positive_kit.csv')"
      ],
      "execution_count": 2,
      "outputs": []
    },
    {
      "cell_type": "code",
      "metadata": {
        "id": "GWKndHR1F7II",
        "colab": {
          "base_uri": "https://localhost:8080/",
          "height": 293
        },
        "outputId": "3cc9dced-f148-4dce-aa13-a328fe5e0016"
      },
      "source": [
        "df_books_neg.head()"
      ],
      "execution_count": 3,
      "outputs": [
        {
          "output_type": "execute_result",
          "data": {
            "text/html": [
              "<div>\n",
              "<style scoped>\n",
              "    .dataframe tbody tr th:only-of-type {\n",
              "        vertical-align: middle;\n",
              "    }\n",
              "\n",
              "    .dataframe tbody tr th {\n",
              "        vertical-align: top;\n",
              "    }\n",
              "\n",
              "    .dataframe thead th {\n",
              "        text-align: right;\n",
              "    }\n",
              "</style>\n",
              "<table border=\"1\" class=\"dataframe\">\n",
              "  <thead>\n",
              "    <tr style=\"text-align: right;\">\n",
              "      <th></th>\n",
              "      <th>unique_id</th>\n",
              "      <th>asin</th>\n",
              "      <th>product_name</th>\n",
              "      <th>product_type</th>\n",
              "      <th>helpful</th>\n",
              "      <th>rating</th>\n",
              "      <th>title</th>\n",
              "      <th>date</th>\n",
              "      <th>reviewer</th>\n",
              "      <th>reviewer_location</th>\n",
              "      <th>review_text</th>\n",
              "    </tr>\n",
              "  </thead>\n",
              "  <tbody>\n",
              "    <tr>\n",
              "      <th>0</th>\n",
              "      <td>0312355645:horrible_book,_horrible.:mark_gospri</td>\n",
              "      <td>0312355645</td>\n",
              "      <td>Running with Scissors: A Memoir: Books: August...</td>\n",
              "      <td>books</td>\n",
              "      <td>4 of 9</td>\n",
              "      <td>1.0</td>\n",
              "      <td>Horrible book, horrible.</td>\n",
              "      <td>November 14, 2006</td>\n",
              "      <td>Mark Gospri</td>\n",
              "      <td>NaN</td>\n",
              "      <td>THis book was horrible.  If it was possible to...</td>\n",
              "    </tr>\n",
              "    <tr>\n",
              "      <th>1</th>\n",
              "      <td>1559278676:shallow_self-indulgence:joseph_s._p...</td>\n",
              "      <td>1559278676</td>\n",
              "      <td>Running with Scissors: A Memoir: Books: August...</td>\n",
              "      <td>books</td>\n",
              "      <td>1 of 6</td>\n",
              "      <td>1.0</td>\n",
              "      <td>shallow self-indulgence</td>\n",
              "      <td>November 15, 2006</td>\n",
              "      <td>Joseph S. Perrott \"avid reader\"</td>\n",
              "      <td>philadelphia, pa. United States</td>\n",
              "      <td>I like to use the Amazon reviews when purchasi...</td>\n",
              "    </tr>\n",
              "    <tr>\n",
              "      <th>2</th>\n",
              "      <td>1559278676:horrible_book,_horrible.:mark_gospri</td>\n",
              "      <td>1559278676</td>\n",
              "      <td>Running with Scissors: A Memoir: Books: August...</td>\n",
              "      <td>books</td>\n",
              "      <td>4 of 9</td>\n",
              "      <td>1.0</td>\n",
              "      <td>Horrible book, horrible.</td>\n",
              "      <td>November 14, 2006</td>\n",
              "      <td>Mark Gospri</td>\n",
              "      <td>NaN</td>\n",
              "      <td>THis book was horrible.  If it was possible to...</td>\n",
              "    </tr>\n",
              "    <tr>\n",
              "      <th>3</th>\n",
              "      <td>0425193373:disappointment:reader_\"reader\"</td>\n",
              "      <td>0425193373</td>\n",
              "      <td>Fierce Conversations: Achieving Sucess at Work...</td>\n",
              "      <td>books</td>\n",
              "      <td>10 of 13</td>\n",
              "      <td>1.0</td>\n",
              "      <td>Disappointment</td>\n",
              "      <td>March 13, 2006</td>\n",
              "      <td>Reader \"Reader\"</td>\n",
              "      <td>NaN</td>\n",
              "      <td>I'm not sure who's writing these reviews, but ...</td>\n",
              "    </tr>\n",
              "    <tr>\n",
              "      <th>4</th>\n",
              "      <td>0142004030:a_disappointing_mess:a._ross</td>\n",
              "      <td>0142004030</td>\n",
              "      <td>Lost in a Good Book (Thursday Next Novels): Bo...</td>\n",
              "      <td>books</td>\n",
              "      <td>6 of 7</td>\n",
              "      <td>2.0</td>\n",
              "      <td>A Disappointing Mess</td>\n",
              "      <td>May 17, 2006</td>\n",
              "      <td>A. Ross</td>\n",
              "      <td>Washington, DC</td>\n",
              "      <td>I picked up the first book in this series (The...</td>\n",
              "    </tr>\n",
              "  </tbody>\n",
              "</table>\n",
              "</div>"
            ],
            "text/plain": [
              "                                           unique_id  ...                                        review_text\n",
              "0    0312355645:horrible_book,_horrible.:mark_gospri  ...  THis book was horrible.  If it was possible to...\n",
              "1  1559278676:shallow_self-indulgence:joseph_s._p...  ...  I like to use the Amazon reviews when purchasi...\n",
              "2    1559278676:horrible_book,_horrible.:mark_gospri  ...  THis book was horrible.  If it was possible to...\n",
              "3          0425193373:disappointment:reader_\"reader\"  ...  I'm not sure who's writing these reviews, but ...\n",
              "4            0142004030:a_disappointing_mess:a._ross  ...  I picked up the first book in this series (The...\n",
              "\n",
              "[5 rows x 11 columns]"
            ]
          },
          "metadata": {},
          "execution_count": 3
        }
      ]
    },
    {
      "cell_type": "code",
      "metadata": {
        "id": "wfwEYaiCF7Js",
        "colab": {
          "base_uri": "https://localhost:8080/",
          "height": 293
        },
        "outputId": "ab228f77-9af3-4ff4-a28a-0a3e36cc9405"
      },
      "source": [
        "df_books_pos.head()"
      ],
      "execution_count": 4,
      "outputs": [
        {
          "output_type": "execute_result",
          "data": {
            "text/html": [
              "<div>\n",
              "<style scoped>\n",
              "    .dataframe tbody tr th:only-of-type {\n",
              "        vertical-align: middle;\n",
              "    }\n",
              "\n",
              "    .dataframe tbody tr th {\n",
              "        vertical-align: top;\n",
              "    }\n",
              "\n",
              "    .dataframe thead th {\n",
              "        text-align: right;\n",
              "    }\n",
              "</style>\n",
              "<table border=\"1\" class=\"dataframe\">\n",
              "  <thead>\n",
              "    <tr style=\"text-align: right;\">\n",
              "      <th></th>\n",
              "      <th>unique_id</th>\n",
              "      <th>asin</th>\n",
              "      <th>product_name</th>\n",
              "      <th>product_type</th>\n",
              "      <th>helpful</th>\n",
              "      <th>rating</th>\n",
              "      <th>title</th>\n",
              "      <th>date</th>\n",
              "      <th>reviewer</th>\n",
              "      <th>reviewer_location</th>\n",
              "      <th>review_text</th>\n",
              "    </tr>\n",
              "  </thead>\n",
              "  <tbody>\n",
              "    <tr>\n",
              "      <th>0</th>\n",
              "      <td>0785758968:one_of_the_best_crichton_novels:jos...</td>\n",
              "      <td>0785758968</td>\n",
              "      <td>Sphere: Books: Michael Crichton</td>\n",
              "      <td>books</td>\n",
              "      <td>0 of 1</td>\n",
              "      <td>5.0</td>\n",
              "      <td>One of the best Crichton novels</td>\n",
              "      <td>July 1, 2006</td>\n",
              "      <td>Joseph M</td>\n",
              "      <td>Colorado, USA</td>\n",
              "      <td>Sphere by Michael Crichton is an excellant nov...</td>\n",
              "    </tr>\n",
              "    <tr>\n",
              "      <th>1</th>\n",
              "      <td>0452279550:the_medicine_of_the_future:wafa_rashed</td>\n",
              "      <td>0452279550</td>\n",
              "      <td>Healing from the Heart: A Leading Surgeon Comb...</td>\n",
              "      <td>books</td>\n",
              "      <td>34 of 41</td>\n",
              "      <td>4.0</td>\n",
              "      <td>The Medicine of the Future</td>\n",
              "      <td>November 6, 2002</td>\n",
              "      <td>Wafa Rashed</td>\n",
              "      <td>Jabriya, KUWAIT</td>\n",
              "      <td>Dr. Oz is an accomplished heart surgeon in the...</td>\n",
              "    </tr>\n",
              "    <tr>\n",
              "      <th>2</th>\n",
              "      <td>1599620065:beautiful!:sarah_silva_\"sar\"</td>\n",
              "      <td>1599620065</td>\n",
              "      <td>Mythology: DC Comics Art of Alex Ross 2007 Cal...</td>\n",
              "      <td>books</td>\n",
              "      <td>NaN</td>\n",
              "      <td>5.0</td>\n",
              "      <td>Beautiful!</td>\n",
              "      <td>June 13, 2006</td>\n",
              "      <td>Sarah Silva \"Sar\"</td>\n",
              "      <td>San Diego, CA USA</td>\n",
              "      <td>The most gorgeous artwork in comic books. Cont...</td>\n",
              "    </tr>\n",
              "    <tr>\n",
              "      <th>3</th>\n",
              "      <td>0743277724:for_lovers_of_robicheaux:g._rousseau</td>\n",
              "      <td>0743277724</td>\n",
              "      <td>Pegasus Descending: A Dave Robicheaux Novel (D...</td>\n",
              "      <td>books</td>\n",
              "      <td>1 of 1</td>\n",
              "      <td>4.0</td>\n",
              "      <td>For lovers of Robicheaux</td>\n",
              "      <td>November 2, 2006</td>\n",
              "      <td>G. Rousseau</td>\n",
              "      <td>Finistere, France</td>\n",
              "      <td>This book is for lovers of Robicheaux.  His de...</td>\n",
              "    </tr>\n",
              "    <tr>\n",
              "      <th>4</th>\n",
              "      <td>061318114X:excellent_and_broad_survey_of_the_d...</td>\n",
              "      <td>061318114X</td>\n",
              "      <td>Guns, Germs, and Steel: The Fates of Human Soc...</td>\n",
              "      <td>books</td>\n",
              "      <td>7 of 9</td>\n",
              "      <td>5.0</td>\n",
              "      <td>Excellent and broad survey of the development ...</td>\n",
              "      <td>October 6, 2006</td>\n",
              "      <td>Patrick D. Goonan \"www.meaningful-life.us\"</td>\n",
              "      <td>Pleasanton, CA</td>\n",
              "      <td>This is going to be a short and sweet review b...</td>\n",
              "    </tr>\n",
              "  </tbody>\n",
              "</table>\n",
              "</div>"
            ],
            "text/plain": [
              "                                           unique_id  ...                                        review_text\n",
              "0  0785758968:one_of_the_best_crichton_novels:jos...  ...  Sphere by Michael Crichton is an excellant nov...\n",
              "1  0452279550:the_medicine_of_the_future:wafa_rashed  ...  Dr. Oz is an accomplished heart surgeon in the...\n",
              "2            1599620065:beautiful!:sarah_silva_\"sar\"  ...  The most gorgeous artwork in comic books. Cont...\n",
              "3    0743277724:for_lovers_of_robicheaux:g._rousseau  ...  This book is for lovers of Robicheaux.  His de...\n",
              "4  061318114X:excellent_and_broad_survey_of_the_d...  ...  This is going to be a short and sweet review b...\n",
              "\n",
              "[5 rows x 11 columns]"
            ]
          },
          "metadata": {},
          "execution_count": 4
        }
      ]
    },
    {
      "cell_type": "code",
      "metadata": {
        "id": "xkE_kaF3F7MT",
        "colab": {
          "base_uri": "https://localhost:8080/",
          "height": 293
        },
        "outputId": "37c9ab43-b20f-46d0-e062-d518e77c40e4"
      },
      "source": [
        "df_dvd_neg.head()"
      ],
      "execution_count": 5,
      "outputs": [
        {
          "output_type": "execute_result",
          "data": {
            "text/html": [
              "<div>\n",
              "<style scoped>\n",
              "    .dataframe tbody tr th:only-of-type {\n",
              "        vertical-align: middle;\n",
              "    }\n",
              "\n",
              "    .dataframe tbody tr th {\n",
              "        vertical-align: top;\n",
              "    }\n",
              "\n",
              "    .dataframe thead th {\n",
              "        text-align: right;\n",
              "    }\n",
              "</style>\n",
              "<table border=\"1\" class=\"dataframe\">\n",
              "  <thead>\n",
              "    <tr style=\"text-align: right;\">\n",
              "      <th></th>\n",
              "      <th>unique_id</th>\n",
              "      <th>asin</th>\n",
              "      <th>product_name</th>\n",
              "      <th>product_type</th>\n",
              "      <th>helpful</th>\n",
              "      <th>rating</th>\n",
              "      <th>title</th>\n",
              "      <th>date</th>\n",
              "      <th>reviewer</th>\n",
              "      <th>reviewer_location</th>\n",
              "      <th>review_text</th>\n",
              "    </tr>\n",
              "  </thead>\n",
              "  <tbody>\n",
              "    <tr>\n",
              "      <th>0</th>\n",
              "      <td>B00064LJVE:one_of_the_worst_movies_i_have_ever...</td>\n",
              "      <td>B00064LJVE</td>\n",
              "      <td>The Village (Widescreen Edition) (Vista Series...</td>\n",
              "      <td>dvd</td>\n",
              "      <td>0 of 4</td>\n",
              "      <td>1.0</td>\n",
              "      <td>One of the worst movies I have ever seen.</td>\n",
              "      <td>October 29, 2006</td>\n",
              "      <td>Fer360</td>\n",
              "      <td>New England, USA</td>\n",
              "      <td>This entire movie could have run in only 20 mi...</td>\n",
              "    </tr>\n",
              "    <tr>\n",
              "      <th>1</th>\n",
              "      <td>B0000TG9E2:another_classic,_ruined_by_disney:p...</td>\n",
              "      <td>B0000TG9E2</td>\n",
              "      <td>Alice in Wonderland (Masterpiece Edition): DVD...</td>\n",
              "      <td>dvd</td>\n",
              "      <td>2 of 25</td>\n",
              "      <td>1.0</td>\n",
              "      <td>Another classic, ruined by Disney</td>\n",
              "      <td>July 1, 2006</td>\n",
              "      <td>poopear \"i eat $h!7\"</td>\n",
              "      <td>Acidville, CA</td>\n",
              "      <td>If you are looking for a good movie to buy for...</td>\n",
              "    </tr>\n",
              "    <tr>\n",
              "      <th>2</th>\n",
              "      <td>B000BYA4F6:fun_to_watch:t._cole_\"mrsavidreader\"</td>\n",
              "      <td>B000BYA4F6</td>\n",
              "      <td>Sabrina Bryan: Byou - The Hot New Dance Workou...</td>\n",
              "      <td>dvd</td>\n",
              "      <td>9 of 12</td>\n",
              "      <td>2.0</td>\n",
              "      <td>Fun to Watch</td>\n",
              "      <td>March 28, 2006</td>\n",
              "      <td>T. Cole \"mrsavidreader\"</td>\n",
              "      <td>Woodbridge, VA</td>\n",
              "      <td>Fun to watch but my 9 1/2 yr. old daughter cou...</td>\n",
              "    </tr>\n",
              "    <tr>\n",
              "      <th>3</th>\n",
              "      <td>B00006IUJ1:did_we_see_the_same_movie?:kelly_tu...</td>\n",
              "      <td>B00006IUJ1</td>\n",
              "      <td>The Diamond Arm: DVD: Yuri Nikulin,Nina Grebes...</td>\n",
              "      <td>dvd</td>\n",
              "      <td>3 of 25</td>\n",
              "      <td>2.0</td>\n",
              "      <td>Did we see the same movie?</td>\n",
              "      <td>February 16, 2005</td>\n",
              "      <td>Kelly Turner \"Saucybetty\"</td>\n",
              "      <td>Palos Verdes Estates, CA</td>\n",
              "      <td>Every review I've read about this movie pops a...</td>\n",
              "    </tr>\n",
              "    <tr>\n",
              "      <th>4</th>\n",
              "      <td>B000GFLKF8:not_too_impressed:jeffrey_a._thompson</td>\n",
              "      <td>B000GFLKF8</td>\n",
              "      <td>Inside Man (Widescreen Edition): DVD: Denzel W...</td>\n",
              "      <td>dvd</td>\n",
              "      <td>0 of 1</td>\n",
              "      <td>2.0</td>\n",
              "      <td>Not too impressed</td>\n",
              "      <td>November 8, 2006</td>\n",
              "      <td>Jeffrey A. Thompson</td>\n",
              "      <td>Iowa City, IA USA</td>\n",
              "      <td>The acting was very good. The pace was adequat...</td>\n",
              "    </tr>\n",
              "  </tbody>\n",
              "</table>\n",
              "</div>"
            ],
            "text/plain": [
              "                                           unique_id  ...                                        review_text\n",
              "0  B00064LJVE:one_of_the_worst_movies_i_have_ever...  ...  This entire movie could have run in only 20 mi...\n",
              "1  B0000TG9E2:another_classic,_ruined_by_disney:p...  ...  If you are looking for a good movie to buy for...\n",
              "2    B000BYA4F6:fun_to_watch:t._cole_\"mrsavidreader\"  ...  Fun to watch but my 9 1/2 yr. old daughter cou...\n",
              "3  B00006IUJ1:did_we_see_the_same_movie?:kelly_tu...  ...  Every review I've read about this movie pops a...\n",
              "4   B000GFLKF8:not_too_impressed:jeffrey_a._thompson  ...  The acting was very good. The pace was adequat...\n",
              "\n",
              "[5 rows x 11 columns]"
            ]
          },
          "metadata": {},
          "execution_count": 5
        }
      ]
    },
    {
      "cell_type": "code",
      "metadata": {
        "id": "F5FvV2HGF7O2",
        "colab": {
          "base_uri": "https://localhost:8080/",
          "height": 293
        },
        "outputId": "9a339252-b414-4adf-99fd-59e6f37c6f48"
      },
      "source": [
        "df_dvd_pos.head()"
      ],
      "execution_count": 6,
      "outputs": [
        {
          "output_type": "execute_result",
          "data": {
            "text/html": [
              "<div>\n",
              "<style scoped>\n",
              "    .dataframe tbody tr th:only-of-type {\n",
              "        vertical-align: middle;\n",
              "    }\n",
              "\n",
              "    .dataframe tbody tr th {\n",
              "        vertical-align: top;\n",
              "    }\n",
              "\n",
              "    .dataframe thead th {\n",
              "        text-align: right;\n",
              "    }\n",
              "</style>\n",
              "<table border=\"1\" class=\"dataframe\">\n",
              "  <thead>\n",
              "    <tr style=\"text-align: right;\">\n",
              "      <th></th>\n",
              "      <th>unique_id</th>\n",
              "      <th>asin</th>\n",
              "      <th>product_name</th>\n",
              "      <th>product_type</th>\n",
              "      <th>helpful</th>\n",
              "      <th>rating</th>\n",
              "      <th>title</th>\n",
              "      <th>date</th>\n",
              "      <th>reviewer</th>\n",
              "      <th>reviewer_location</th>\n",
              "      <th>review_text</th>\n",
              "    </tr>\n",
              "  </thead>\n",
              "  <tbody>\n",
              "    <tr>\n",
              "      <th>0</th>\n",
              "      <td>B000E33VZE:skip_color,_go_directly_to_the_blac...</td>\n",
              "      <td>B000E33VZE</td>\n",
              "      <td>I Dream of Jeannie - The Complete First Season...</td>\n",
              "      <td>dvd</td>\n",
              "      <td>3 of 3</td>\n",
              "      <td>5.0</td>\n",
              "      <td>Skip Color, Go Directly To The Black-And-White</td>\n",
              "      <td>September 8, 2006</td>\n",
              "      <td>The Angry American \"Serious Reader\"</td>\n",
              "      <td>Charlotte, NC USA</td>\n",
              "      <td>I'm not sure why Sony, which now owns I Dream ...</td>\n",
              "    </tr>\n",
              "    <tr>\n",
              "      <th>1</th>\n",
              "      <td>B0000TG9E2:best_american_animated_film_ever:ja...</td>\n",
              "      <td>B0000TG9E2</td>\n",
              "      <td>Alice in Wonderland (Masterpiece Edition): DVD...</td>\n",
              "      <td>dvd</td>\n",
              "      <td>2 of 3</td>\n",
              "      <td>5.0</td>\n",
              "      <td>Best American Animated Film Ever</td>\n",
              "      <td>August 31, 2006</td>\n",
              "      <td>Jason D. Fletcher \"Xmuzik\"</td>\n",
              "      <td>New Orleans</td>\n",
              "      <td>If you don't own this dvd you need to add it t...</td>\n",
              "    </tr>\n",
              "    <tr>\n",
              "      <th>2</th>\n",
              "      <td>0783240295:the_bone_collector:lyuba</td>\n",
              "      <td>0783240295</td>\n",
              "      <td>The Bone Collector: DVD: Olivia Birkelund,Dani...</td>\n",
              "      <td>dvd</td>\n",
              "      <td>1 of 1</td>\n",
              "      <td>4.0</td>\n",
              "      <td>The Bone Collector</td>\n",
              "      <td>June 19, 2006</td>\n",
              "      <td>Lyuba</td>\n",
              "      <td>NaN</td>\n",
              "      <td>Denzel Washington is great but Angelina Jolie ...</td>\n",
              "    </tr>\n",
              "    <tr>\n",
              "      <th>3</th>\n",
              "      <td>B000BVM1UK:_a_gem!:l._tawney_\"bookhaven\"</td>\n",
              "      <td>B000BVM1UK</td>\n",
              "      <td>The House of Eliott - Series 2: DVD: Barbara J...</td>\n",
              "      <td>dvd</td>\n",
              "      <td>5 of 5</td>\n",
              "      <td>5.0</td>\n",
              "      <td>a gem!</td>\n",
              "      <td>April 6, 2006</td>\n",
              "      <td>L. tawney \"bookhaven\"</td>\n",
              "      <td>NaN</td>\n",
              "      <td>I rediscovered this after a long time. This is...</td>\n",
              "    </tr>\n",
              "    <tr>\n",
              "      <th>4</th>\n",
              "      <td>B0000A98ZP:reminiscing.......:a_girl_\"diana\"</td>\n",
              "      <td>B0000A98ZP</td>\n",
              "      <td>The Breakfast Club (High School Reunion Collec...</td>\n",
              "      <td>dvd</td>\n",
              "      <td>NaN</td>\n",
              "      <td>5.0</td>\n",
              "      <td>Reminiscing.......</td>\n",
              "      <td>October 28, 2006</td>\n",
              "      <td>A Girl \"Diana\"</td>\n",
              "      <td>Torrington,  CT  USA</td>\n",
              "      <td>I bought this movie for my coming of age daugh...</td>\n",
              "    </tr>\n",
              "  </tbody>\n",
              "</table>\n",
              "</div>"
            ],
            "text/plain": [
              "                                           unique_id  ...                                        review_text\n",
              "0  B000E33VZE:skip_color,_go_directly_to_the_blac...  ...  I'm not sure why Sony, which now owns I Dream ...\n",
              "1  B0000TG9E2:best_american_animated_film_ever:ja...  ...  If you don't own this dvd you need to add it t...\n",
              "2                0783240295:the_bone_collector:lyuba  ...  Denzel Washington is great but Angelina Jolie ...\n",
              "3           B000BVM1UK:_a_gem!:l._tawney_\"bookhaven\"  ...  I rediscovered this after a long time. This is...\n",
              "4       B0000A98ZP:reminiscing.......:a_girl_\"diana\"  ...  I bought this movie for my coming of age daugh...\n",
              "\n",
              "[5 rows x 11 columns]"
            ]
          },
          "metadata": {},
          "execution_count": 6
        }
      ]
    },
    {
      "cell_type": "code",
      "metadata": {
        "id": "--LC22oQF7Rw",
        "colab": {
          "base_uri": "https://localhost:8080/",
          "height": 276
        },
        "outputId": "dec07932-9559-4fd1-cb5b-ea78da1002f9"
      },
      "source": [
        "df_ele_neg.head()"
      ],
      "execution_count": 7,
      "outputs": [
        {
          "output_type": "execute_result",
          "data": {
            "text/html": [
              "<div>\n",
              "<style scoped>\n",
              "    .dataframe tbody tr th:only-of-type {\n",
              "        vertical-align: middle;\n",
              "    }\n",
              "\n",
              "    .dataframe tbody tr th {\n",
              "        vertical-align: top;\n",
              "    }\n",
              "\n",
              "    .dataframe thead th {\n",
              "        text-align: right;\n",
              "    }\n",
              "</style>\n",
              "<table border=\"1\" class=\"dataframe\">\n",
              "  <thead>\n",
              "    <tr style=\"text-align: right;\">\n",
              "      <th></th>\n",
              "      <th>unique_id</th>\n",
              "      <th>asin</th>\n",
              "      <th>product_name</th>\n",
              "      <th>product_type</th>\n",
              "      <th>helpful</th>\n",
              "      <th>rating</th>\n",
              "      <th>title</th>\n",
              "      <th>date</th>\n",
              "      <th>reviewer</th>\n",
              "      <th>reviewer_location</th>\n",
              "      <th>review_text</th>\n",
              "    </tr>\n",
              "  </thead>\n",
              "  <tbody>\n",
              "    <tr>\n",
              "      <th>0</th>\n",
              "      <td>B00005UKBG:bad:j._brodeur_\"disgusted_consumer\"</td>\n",
              "      <td>B00005UKBG</td>\n",
              "      <td>Atlantic 1316 CD Storage Case (110-Capacity, W...</td>\n",
              "      <td>electronics</td>\n",
              "      <td>15 of 16</td>\n",
              "      <td>2.0</td>\n",
              "      <td>bad</td>\n",
              "      <td>May 4, 2005</td>\n",
              "      <td>J. Brodeur \"disgusted consumer\"</td>\n",
              "      <td>NaN</td>\n",
              "      <td>cons\\ntips extremely easy on carpet and if you...</td>\n",
              "    </tr>\n",
              "    <tr>\n",
              "      <th>1</th>\n",
              "      <td>B00005UKBG:save_your_money!:heidi_myers</td>\n",
              "      <td>B00005UKBG</td>\n",
              "      <td>Atlantic 1316 CD Storage Case (110-Capacity, W...</td>\n",
              "      <td>electronics</td>\n",
              "      <td>4 of 4</td>\n",
              "      <td>1.0</td>\n",
              "      <td>Save your money!</td>\n",
              "      <td>March 18, 2004</td>\n",
              "      <td>Heidi Myers</td>\n",
              "      <td>Tampa, FL</td>\n",
              "      <td>It's a nice look, but it tips over very easily...</td>\n",
              "    </tr>\n",
              "    <tr>\n",
              "      <th>2</th>\n",
              "      <td>B0009O5MWI:horrible_dvd_player:m._martinez</td>\n",
              "      <td>B0009O5MWI</td>\n",
              "      <td>Philips HTS3400D/37 Home Theater System with D...</td>\n",
              "      <td>electronics</td>\n",
              "      <td>1 of 1</td>\n",
              "      <td>1.0</td>\n",
              "      <td>Horrible DVD player</td>\n",
              "      <td>June 23, 2006</td>\n",
              "      <td>M. Martinez</td>\n",
              "      <td>NaN</td>\n",
              "      <td>I have bought and returned three of these unit...</td>\n",
              "    </tr>\n",
              "    <tr>\n",
              "      <th>3</th>\n",
              "      <td>B000067VBM:cases_break_instantly!:f._mcpartlan...</td>\n",
              "      <td>B000067VBM</td>\n",
              "      <td>50-pack Slim CD/DVD Jewel Cases (5mm) Clear: E...</td>\n",
              "      <td>electronics</td>\n",
              "      <td>12 of 13</td>\n",
              "      <td>1.0</td>\n",
              "      <td>Cases break instantly!</td>\n",
              "      <td>October 30, 2005</td>\n",
              "      <td>F. MCPARTLAND \"FMCP\"</td>\n",
              "      <td>Virginia</td>\n",
              "      <td>I knew these were inexpensive CD cases, but I ...</td>\n",
              "    </tr>\n",
              "    <tr>\n",
              "      <th>4</th>\n",
              "      <td>B000093IRC:these_dvd-rs_suck:suzette_truesdell</td>\n",
              "      <td>B000093IRC</td>\n",
              "      <td>Memorex 4.7GB 4x DVD+R Media (25-Pack Spindle)...</td>\n",
              "      <td>electronics</td>\n",
              "      <td>2 of 2</td>\n",
              "      <td>2.0</td>\n",
              "      <td>These DVD-Rs suck</td>\n",
              "      <td>February 11, 2006</td>\n",
              "      <td>Suzette Truesdell</td>\n",
              "      <td>Key Largo, FL</td>\n",
              "      <td>I used a 25 pack of these doing DVD backups, a...</td>\n",
              "    </tr>\n",
              "  </tbody>\n",
              "</table>\n",
              "</div>"
            ],
            "text/plain": [
              "                                           unique_id  ...                                        review_text\n",
              "0     B00005UKBG:bad:j._brodeur_\"disgusted_consumer\"  ...  cons\\ntips extremely easy on carpet and if you...\n",
              "1            B00005UKBG:save_your_money!:heidi_myers  ...  It's a nice look, but it tips over very easily...\n",
              "2         B0009O5MWI:horrible_dvd_player:m._martinez  ...  I have bought and returned three of these unit...\n",
              "3  B000067VBM:cases_break_instantly!:f._mcpartlan...  ...  I knew these were inexpensive CD cases, but I ...\n",
              "4     B000093IRC:these_dvd-rs_suck:suzette_truesdell  ...  I used a 25 pack of these doing DVD backups, a...\n",
              "\n",
              "[5 rows x 11 columns]"
            ]
          },
          "metadata": {},
          "execution_count": 7
        }
      ]
    },
    {
      "cell_type": "code",
      "metadata": {
        "id": "xgS4YE19F7Ut",
        "colab": {
          "base_uri": "https://localhost:8080/",
          "height": 293
        },
        "outputId": "40933d4b-945f-404b-af4d-1b7a1657b924"
      },
      "source": [
        "df_ele_pos.head()"
      ],
      "execution_count": 8,
      "outputs": [
        {
          "output_type": "execute_result",
          "data": {
            "text/html": [
              "<div>\n",
              "<style scoped>\n",
              "    .dataframe tbody tr th:only-of-type {\n",
              "        vertical-align: middle;\n",
              "    }\n",
              "\n",
              "    .dataframe tbody tr th {\n",
              "        vertical-align: top;\n",
              "    }\n",
              "\n",
              "    .dataframe thead th {\n",
              "        text-align: right;\n",
              "    }\n",
              "</style>\n",
              "<table border=\"1\" class=\"dataframe\">\n",
              "  <thead>\n",
              "    <tr style=\"text-align: right;\">\n",
              "      <th></th>\n",
              "      <th>unique_id</th>\n",
              "      <th>asin</th>\n",
              "      <th>product_name</th>\n",
              "      <th>product_type</th>\n",
              "      <th>helpful</th>\n",
              "      <th>rating</th>\n",
              "      <th>title</th>\n",
              "      <th>date</th>\n",
              "      <th>reviewer</th>\n",
              "      <th>reviewer_location</th>\n",
              "      <th>review_text</th>\n",
              "    </tr>\n",
              "  </thead>\n",
              "  <tbody>\n",
              "    <tr>\n",
              "      <th>0</th>\n",
              "      <td>B00006HYUB:everyone_should_own_one:d._john_\"lo...</td>\n",
              "      <td>B00006HYUB</td>\n",
              "      <td>APC Back-UPS ES 500 Backup Battery and Surge P...</td>\n",
              "      <td>electronics</td>\n",
              "      <td>3 of 3</td>\n",
              "      <td>5.0</td>\n",
              "      <td>Everyone should own one</td>\n",
              "      <td>July 31, 2006</td>\n",
              "      <td>D. John \"Looser\"</td>\n",
              "      <td>PA</td>\n",
              "      <td>I purchased this unit due to frequent blackout...</td>\n",
              "    </tr>\n",
              "    <tr>\n",
              "      <th>1</th>\n",
              "      <td>B00006HYUB:breif_review:scott_park</td>\n",
              "      <td>B00006HYUB</td>\n",
              "      <td>APC Back-UPS ES 500 Backup Battery and Surge P...</td>\n",
              "      <td>electronics</td>\n",
              "      <td>11 of 12</td>\n",
              "      <td>5.0</td>\n",
              "      <td>Breif Review</td>\n",
              "      <td>September 26, 2005</td>\n",
              "      <td>Scott Park</td>\n",
              "      <td>New York, NY USA</td>\n",
              "      <td>I ordered 3 APC Back-UPS ES 500s on the recomm...</td>\n",
              "    </tr>\n",
              "    <tr>\n",
              "      <th>2</th>\n",
              "      <td>B00006HYUB:works_fine.:dee_richards_\"deeanalyst\"</td>\n",
              "      <td>B00006HYUB</td>\n",
              "      <td>APC Back-UPS ES 500 Backup Battery and Surge P...</td>\n",
              "      <td>electronics</td>\n",
              "      <td>0 of 2</td>\n",
              "      <td>4.0</td>\n",
              "      <td>Works fine.</td>\n",
              "      <td>September 15, 2005</td>\n",
              "      <td>Dee Richards \"deeanalyst\"</td>\n",
              "      <td>Mobile, AL</td>\n",
              "      <td>Wish the unit had a separate online/offline li...</td>\n",
              "    </tr>\n",
              "    <tr>\n",
              "      <th>3</th>\n",
              "      <td>B000067VBM:affordable_and_effective:jason_dick...</td>\n",
              "      <td>B000067VBM</td>\n",
              "      <td>50-pack Slim CD/DVD Jewel Cases (5mm) Clear: E...</td>\n",
              "      <td>electronics</td>\n",
              "      <td>4 of 4</td>\n",
              "      <td>5.0</td>\n",
              "      <td>Affordable and effective</td>\n",
              "      <td>July 7, 2005</td>\n",
              "      <td>Jason Dickson \"Needs More Money\"</td>\n",
              "      <td>Maryville, TN USA</td>\n",
              "      <td>Cheaper than thick CD cases and less prone to ...</td>\n",
              "    </tr>\n",
              "    <tr>\n",
              "      <th>4</th>\n",
              "      <td>B00008SCFU:it_is_a_good_product_:kiran_k._sing...</td>\n",
              "      <td>B00008SCFU</td>\n",
              "      <td>Kingston 256 MB Secure Digital Card ( SD/256 )...</td>\n",
              "      <td>electronics</td>\n",
              "      <td>NaN</td>\n",
              "      <td>5.0</td>\n",
              "      <td>It is a good product</td>\n",
              "      <td>February 24, 2006</td>\n",
              "      <td>Kiran K. Singarapu</td>\n",
              "      <td>NaN</td>\n",
              "      <td>Hi\\n\\nI brought 256 MB Kingston SD card from A...</td>\n",
              "    </tr>\n",
              "  </tbody>\n",
              "</table>\n",
              "</div>"
            ],
            "text/plain": [
              "                                           unique_id  ...                                        review_text\n",
              "0  B00006HYUB:everyone_should_own_one:d._john_\"lo...  ...  I purchased this unit due to frequent blackout...\n",
              "1                 B00006HYUB:breif_review:scott_park  ...  I ordered 3 APC Back-UPS ES 500s on the recomm...\n",
              "2   B00006HYUB:works_fine.:dee_richards_\"deeanalyst\"  ...  Wish the unit had a separate online/offline li...\n",
              "3  B000067VBM:affordable_and_effective:jason_dick...  ...  Cheaper than thick CD cases and less prone to ...\n",
              "4  B00008SCFU:it_is_a_good_product_:kiran_k._sing...  ...  Hi\\n\\nI brought 256 MB Kingston SD card from A...\n",
              "\n",
              "[5 rows x 11 columns]"
            ]
          },
          "metadata": {},
          "execution_count": 8
        }
      ]
    },
    {
      "cell_type": "code",
      "metadata": {
        "id": "R9kaAP-dF7XS",
        "colab": {
          "base_uri": "https://localhost:8080/",
          "height": 293
        },
        "outputId": "cd4660de-f3fa-416d-d246-c9335b11aea3"
      },
      "source": [
        "df_kit_neg.head()"
      ],
      "execution_count": 9,
      "outputs": [
        {
          "output_type": "execute_result",
          "data": {
            "text/html": [
              "<div>\n",
              "<style scoped>\n",
              "    .dataframe tbody tr th:only-of-type {\n",
              "        vertical-align: middle;\n",
              "    }\n",
              "\n",
              "    .dataframe tbody tr th {\n",
              "        vertical-align: top;\n",
              "    }\n",
              "\n",
              "    .dataframe thead th {\n",
              "        text-align: right;\n",
              "    }\n",
              "</style>\n",
              "<table border=\"1\" class=\"dataframe\">\n",
              "  <thead>\n",
              "    <tr style=\"text-align: right;\">\n",
              "      <th></th>\n",
              "      <th>unique_id</th>\n",
              "      <th>asin</th>\n",
              "      <th>product_name</th>\n",
              "      <th>product_type</th>\n",
              "      <th>helpful</th>\n",
              "      <th>rating</th>\n",
              "      <th>title</th>\n",
              "      <th>date</th>\n",
              "      <th>reviewer</th>\n",
              "      <th>reviewer_location</th>\n",
              "      <th>review_text</th>\n",
              "    </tr>\n",
              "  </thead>\n",
              "  <tbody>\n",
              "    <tr>\n",
              "      <th>0</th>\n",
              "      <td>B0002D31QU:doesn't_keep_my_yappy_cairn_from_ba...</td>\n",
              "      <td>B0002D31QU</td>\n",
              "      <td>Premier Gentle Spray Anti-Bark Dog Collar: Kit...</td>\n",
              "      <td>kitchen &amp; housewares</td>\n",
              "      <td>NaN</td>\n",
              "      <td>2.0</td>\n",
              "      <td>Doesn't keep my yappy Cairn from barking...</td>\n",
              "      <td>November 9, 2006</td>\n",
              "      <td>D. Overton</td>\n",
              "      <td>CA</td>\n",
              "      <td>He just looks away from where the spray emits-...</td>\n",
              "    </tr>\n",
              "    <tr>\n",
              "      <th>1</th>\n",
              "      <td>B0002D31QU:buyer_beware:cmkb396</td>\n",
              "      <td>B0002D31QU</td>\n",
              "      <td>Premier Gentle Spray Anti-Bark Dog Collar: Kit...</td>\n",
              "      <td>kitchen &amp; housewares</td>\n",
              "      <td>1 of 1</td>\n",
              "      <td>1.0</td>\n",
              "      <td>Buyer Beware</td>\n",
              "      <td>November 2, 2006</td>\n",
              "      <td>cmkb396</td>\n",
              "      <td>NaN</td>\n",
              "      <td>Having read the other reviews of this product ...</td>\n",
              "    </tr>\n",
              "    <tr>\n",
              "      <th>2</th>\n",
              "      <td>B0002D31QU:only_sprays_intermittently_with_my_...</td>\n",
              "      <td>B0002D31QU</td>\n",
              "      <td>Premier Gentle Spray Anti-Bark Dog Collar: Kit...</td>\n",
              "      <td>kitchen &amp; housewares</td>\n",
              "      <td>NaN</td>\n",
              "      <td>2.0</td>\n",
              "      <td>Only sprays intermittently with my cocker span...</td>\n",
              "      <td>September 22, 2006</td>\n",
              "      <td>Thomas Baker</td>\n",
              "      <td>Princeton Junction, NJ USA</td>\n",
              "      <td>Sometimes it sprays when she barks, most of th...</td>\n",
              "    </tr>\n",
              "    <tr>\n",
              "      <th>3</th>\n",
              "      <td>B0006N2O0U:save_your_money:robert_p._manwaring...</td>\n",
              "      <td>B0006N2O0U</td>\n",
              "      <td>Zelco Real Wall Clock: Kitchen &amp; Housewares</td>\n",
              "      <td>kitchen &amp; housewares</td>\n",
              "      <td>NaN</td>\n",
              "      <td>1.0</td>\n",
              "      <td>Save your money</td>\n",
              "      <td>November 3, 2006</td>\n",
              "      <td>Robert P. Manwaring \"W�rzburg Wolf\"</td>\n",
              "      <td>Anchorage, AK United States</td>\n",
              "      <td>This item is cheaply made and I sent it back. ...</td>\n",
              "    </tr>\n",
              "    <tr>\n",
              "      <th>4</th>\n",
              "      <td>B000634GCO:i_am_returning_this_product:an_alaskan</td>\n",
              "      <td>B000634GCO</td>\n",
              "      <td>Stationary Bark Control by Petsafe: Kitchen &amp; ...</td>\n",
              "      <td>kitchen &amp; housewares</td>\n",
              "      <td>NaN</td>\n",
              "      <td>1.0</td>\n",
              "      <td>I am returning this product</td>\n",
              "      <td>September 24, 2006</td>\n",
              "      <td>An Alaskan</td>\n",
              "      <td>NaN</td>\n",
              "      <td>Initially, my dogs found the sound interesting...</td>\n",
              "    </tr>\n",
              "  </tbody>\n",
              "</table>\n",
              "</div>"
            ],
            "text/plain": [
              "                                           unique_id  ...                                        review_text\n",
              "0  B0002D31QU:doesn't_keep_my_yappy_cairn_from_ba...  ...  He just looks away from where the spray emits-...\n",
              "1                    B0002D31QU:buyer_beware:cmkb396  ...  Having read the other reviews of this product ...\n",
              "2  B0002D31QU:only_sprays_intermittently_with_my_...  ...  Sometimes it sprays when she barks, most of th...\n",
              "3  B0006N2O0U:save_your_money:robert_p._manwaring...  ...  This item is cheaply made and I sent it back. ...\n",
              "4  B000634GCO:i_am_returning_this_product:an_alaskan  ...  Initially, my dogs found the sound interesting...\n",
              "\n",
              "[5 rows x 11 columns]"
            ]
          },
          "metadata": {},
          "execution_count": 9
        }
      ]
    },
    {
      "cell_type": "code",
      "metadata": {
        "id": "cDTCJvyoF7aT",
        "colab": {
          "base_uri": "https://localhost:8080/",
          "height": 293
        },
        "outputId": "24a495c4-012c-438f-f475-e317599fcc83"
      },
      "source": [
        "df_kit_pos.head()"
      ],
      "execution_count": 10,
      "outputs": [
        {
          "output_type": "execute_result",
          "data": {
            "text/html": [
              "<div>\n",
              "<style scoped>\n",
              "    .dataframe tbody tr th:only-of-type {\n",
              "        vertical-align: middle;\n",
              "    }\n",
              "\n",
              "    .dataframe tbody tr th {\n",
              "        vertical-align: top;\n",
              "    }\n",
              "\n",
              "    .dataframe thead th {\n",
              "        text-align: right;\n",
              "    }\n",
              "</style>\n",
              "<table border=\"1\" class=\"dataframe\">\n",
              "  <thead>\n",
              "    <tr style=\"text-align: right;\">\n",
              "      <th></th>\n",
              "      <th>unique_id</th>\n",
              "      <th>asin</th>\n",
              "      <th>product_name</th>\n",
              "      <th>product_type</th>\n",
              "      <th>helpful</th>\n",
              "      <th>rating</th>\n",
              "      <th>title</th>\n",
              "      <th>date</th>\n",
              "      <th>reviewer</th>\n",
              "      <th>reviewer_location</th>\n",
              "      <th>review_text</th>\n",
              "    </tr>\n",
              "  </thead>\n",
              "  <tbody>\n",
              "    <tr>\n",
              "      <th>0</th>\n",
              "      <td>B00068N1DO:perfectly_fits_the_books'_atmospher...</td>\n",
              "      <td>B00068N1DO</td>\n",
              "      <td>Lemony Snicket's A Series of Unfortunate Event...</td>\n",
              "      <td>kitchen &amp; housewares</td>\n",
              "      <td>NaN</td>\n",
              "      <td>5.0</td>\n",
              "      <td>Perfectly fits the books' atmosphere</td>\n",
              "      <td>October 17, 2004</td>\n",
              "      <td>C. MCCALLISTER \"dr_dolphin\"</td>\n",
              "      <td>The waters of the Great Lakes</td>\n",
              "      <td>For those of you unfamiliar with the \"A Series...</td>\n",
              "    </tr>\n",
              "    <tr>\n",
              "      <th>1</th>\n",
              "      <td>B000634GCO:no_more_doggy_fueds_with_neighbor:e...</td>\n",
              "      <td>B000634GCO</td>\n",
              "      <td>Stationary Bark Control by Petsafe: Kitchen &amp; ...</td>\n",
              "      <td>kitchen &amp; housewares</td>\n",
              "      <td>6 of 6</td>\n",
              "      <td>5.0</td>\n",
              "      <td>no more doggy fueds with neighbor</td>\n",
              "      <td>December 30, 2005</td>\n",
              "      <td>E. Patterson</td>\n",
              "      <td>california</td>\n",
              "      <td>i absolutely love this product. my neighbor ha...</td>\n",
              "    </tr>\n",
              "    <tr>\n",
              "      <th>2</th>\n",
              "      <td>B0006PK1D0:worked_for_us:gadget_mom</td>\n",
              "      <td>B0006PK1D0</td>\n",
              "      <td>Reporter WireFree Intercom System: Kitchen &amp; H...</td>\n",
              "      <td>kitchen &amp; housewares</td>\n",
              "      <td>NaN</td>\n",
              "      <td>4.0</td>\n",
              "      <td>Worked for us</td>\n",
              "      <td>November 3, 2006</td>\n",
              "      <td>Gadget Mom</td>\n",
              "      <td>NY</td>\n",
              "      <td>I purchased 3 units and they work well for us....</td>\n",
              "    </tr>\n",
              "    <tr>\n",
              "      <th>3</th>\n",
              "      <td>B00009K3V1:new_fry-guy_-_pretty_pleased....:br...</td>\n",
              "      <td>B00009K3V1</td>\n",
              "      <td>Waring DF200 Professional Deep Fryer, Brushed ...</td>\n",
              "      <td>kitchen &amp; housewares</td>\n",
              "      <td>8 of 9</td>\n",
              "      <td>4.0</td>\n",
              "      <td>New Fry-guy - pretty pleased....</td>\n",
              "      <td>July 7, 2006</td>\n",
              "      <td>Brian W. Hodgman</td>\n",
              "      <td>Midwest</td>\n",
              "      <td>I've always wanted a deep fryer, and finally d...</td>\n",
              "    </tr>\n",
              "    <tr>\n",
              "      <th>4</th>\n",
              "      <td>B00009K3V1:excellent_fryer:j._white_\"janinenc\"</td>\n",
              "      <td>B00009K3V1</td>\n",
              "      <td>Waring DF200 Professional Deep Fryer, Brushed ...</td>\n",
              "      <td>kitchen &amp; housewares</td>\n",
              "      <td>2 of 2</td>\n",
              "      <td>5.0</td>\n",
              "      <td>Excellent fryer</td>\n",
              "      <td>July 3, 2006</td>\n",
              "      <td>J. White \"janinenc\"</td>\n",
              "      <td>OR United States</td>\n",
              "      <td>Easy to use, easy to clean. Two major requirem...</td>\n",
              "    </tr>\n",
              "  </tbody>\n",
              "</table>\n",
              "</div>"
            ],
            "text/plain": [
              "                                           unique_id  ...                                        review_text\n",
              "0  B00068N1DO:perfectly_fits_the_books'_atmospher...  ...  For those of you unfamiliar with the \"A Series...\n",
              "1  B000634GCO:no_more_doggy_fueds_with_neighbor:e...  ...  i absolutely love this product. my neighbor ha...\n",
              "2                B0006PK1D0:worked_for_us:gadget_mom  ...  I purchased 3 units and they work well for us....\n",
              "3  B00009K3V1:new_fry-guy_-_pretty_pleased....:br...  ...  I've always wanted a deep fryer, and finally d...\n",
              "4     B00009K3V1:excellent_fryer:j._white_\"janinenc\"  ...  Easy to use, easy to clean. Two major requirem...\n",
              "\n",
              "[5 rows x 11 columns]"
            ]
          },
          "metadata": {},
          "execution_count": 10
        }
      ]
    },
    {
      "cell_type": "markdown",
      "metadata": {
        "id": "RAJpfKP6FvHV"
      },
      "source": [
        "**DROPPING ALL THE UNNECESSARY COLUMNS FROM THE DATAFRAMES**"
      ]
    },
    {
      "cell_type": "code",
      "metadata": {
        "id": "q1uBZGAAF7d5"
      },
      "source": [
        "df_books_neg.drop(['unique_id','helpful','date','reviewer','reviewer_location'],axis=1,inplace=True)\n",
        "df_books_pos.drop(['unique_id','helpful','date','reviewer','reviewer_location'],axis=1,inplace=True)\n",
        "df_dvd_neg.drop(['unique_id','helpful','date','reviewer','reviewer_location'],axis=1,inplace=True)\n",
        "df_dvd_pos.drop(['unique_id','helpful','date','reviewer','reviewer_location'],axis=1,inplace=True)\n",
        "df_ele_neg.drop(['unique_id','helpful','date','reviewer','reviewer_location'],axis=1,inplace=True)\n",
        "df_ele_pos.drop(['unique_id','helpful','date','reviewer','reviewer_location'],axis=1,inplace=True)\n",
        "df_kit_neg.drop(['unique_id','helpful','date','reviewer','reviewer_location'],axis=1,inplace=True)\n",
        "df_kit_pos.drop(['unique_id','helpful','date','reviewer','reviewer_location'],axis=1,inplace=True)"
      ],
      "execution_count": 11,
      "outputs": []
    },
    {
      "cell_type": "code",
      "metadata": {
        "id": "MGMHwME2F7fe",
        "colab": {
          "base_uri": "https://localhost:8080/",
          "height": 206
        },
        "outputId": "482afeeb-b2cc-409e-b8c1-5cc849a3c581"
      },
      "source": [
        "df_books_neg.head()"
      ],
      "execution_count": 12,
      "outputs": [
        {
          "output_type": "execute_result",
          "data": {
            "text/html": [
              "<div>\n",
              "<style scoped>\n",
              "    .dataframe tbody tr th:only-of-type {\n",
              "        vertical-align: middle;\n",
              "    }\n",
              "\n",
              "    .dataframe tbody tr th {\n",
              "        vertical-align: top;\n",
              "    }\n",
              "\n",
              "    .dataframe thead th {\n",
              "        text-align: right;\n",
              "    }\n",
              "</style>\n",
              "<table border=\"1\" class=\"dataframe\">\n",
              "  <thead>\n",
              "    <tr style=\"text-align: right;\">\n",
              "      <th></th>\n",
              "      <th>asin</th>\n",
              "      <th>product_name</th>\n",
              "      <th>product_type</th>\n",
              "      <th>rating</th>\n",
              "      <th>title</th>\n",
              "      <th>review_text</th>\n",
              "    </tr>\n",
              "  </thead>\n",
              "  <tbody>\n",
              "    <tr>\n",
              "      <th>0</th>\n",
              "      <td>0312355645</td>\n",
              "      <td>Running with Scissors: A Memoir: Books: August...</td>\n",
              "      <td>books</td>\n",
              "      <td>1.0</td>\n",
              "      <td>Horrible book, horrible.</td>\n",
              "      <td>THis book was horrible.  If it was possible to...</td>\n",
              "    </tr>\n",
              "    <tr>\n",
              "      <th>1</th>\n",
              "      <td>1559278676</td>\n",
              "      <td>Running with Scissors: A Memoir: Books: August...</td>\n",
              "      <td>books</td>\n",
              "      <td>1.0</td>\n",
              "      <td>shallow self-indulgence</td>\n",
              "      <td>I like to use the Amazon reviews when purchasi...</td>\n",
              "    </tr>\n",
              "    <tr>\n",
              "      <th>2</th>\n",
              "      <td>1559278676</td>\n",
              "      <td>Running with Scissors: A Memoir: Books: August...</td>\n",
              "      <td>books</td>\n",
              "      <td>1.0</td>\n",
              "      <td>Horrible book, horrible.</td>\n",
              "      <td>THis book was horrible.  If it was possible to...</td>\n",
              "    </tr>\n",
              "    <tr>\n",
              "      <th>3</th>\n",
              "      <td>0425193373</td>\n",
              "      <td>Fierce Conversations: Achieving Sucess at Work...</td>\n",
              "      <td>books</td>\n",
              "      <td>1.0</td>\n",
              "      <td>Disappointment</td>\n",
              "      <td>I'm not sure who's writing these reviews, but ...</td>\n",
              "    </tr>\n",
              "    <tr>\n",
              "      <th>4</th>\n",
              "      <td>0142004030</td>\n",
              "      <td>Lost in a Good Book (Thursday Next Novels): Bo...</td>\n",
              "      <td>books</td>\n",
              "      <td>2.0</td>\n",
              "      <td>A Disappointing Mess</td>\n",
              "      <td>I picked up the first book in this series (The...</td>\n",
              "    </tr>\n",
              "  </tbody>\n",
              "</table>\n",
              "</div>"
            ],
            "text/plain": [
              "         asin  ...                                        review_text\n",
              "0  0312355645  ...  THis book was horrible.  If it was possible to...\n",
              "1  1559278676  ...  I like to use the Amazon reviews when purchasi...\n",
              "2  1559278676  ...  THis book was horrible.  If it was possible to...\n",
              "3  0425193373  ...  I'm not sure who's writing these reviews, but ...\n",
              "4  0142004030  ...  I picked up the first book in this series (The...\n",
              "\n",
              "[5 rows x 6 columns]"
            ]
          },
          "metadata": {},
          "execution_count": 12
        }
      ]
    },
    {
      "cell_type": "code",
      "metadata": {
        "id": "Et2G_758F7iR",
        "colab": {
          "base_uri": "https://localhost:8080/",
          "height": 206
        },
        "outputId": "4a165617-df13-4cb6-ebcd-247a16739c3d"
      },
      "source": [
        "df_books_pos.head()"
      ],
      "execution_count": 13,
      "outputs": [
        {
          "output_type": "execute_result",
          "data": {
            "text/html": [
              "<div>\n",
              "<style scoped>\n",
              "    .dataframe tbody tr th:only-of-type {\n",
              "        vertical-align: middle;\n",
              "    }\n",
              "\n",
              "    .dataframe tbody tr th {\n",
              "        vertical-align: top;\n",
              "    }\n",
              "\n",
              "    .dataframe thead th {\n",
              "        text-align: right;\n",
              "    }\n",
              "</style>\n",
              "<table border=\"1\" class=\"dataframe\">\n",
              "  <thead>\n",
              "    <tr style=\"text-align: right;\">\n",
              "      <th></th>\n",
              "      <th>asin</th>\n",
              "      <th>product_name</th>\n",
              "      <th>product_type</th>\n",
              "      <th>rating</th>\n",
              "      <th>title</th>\n",
              "      <th>review_text</th>\n",
              "    </tr>\n",
              "  </thead>\n",
              "  <tbody>\n",
              "    <tr>\n",
              "      <th>0</th>\n",
              "      <td>0785758968</td>\n",
              "      <td>Sphere: Books: Michael Crichton</td>\n",
              "      <td>books</td>\n",
              "      <td>5.0</td>\n",
              "      <td>One of the best Crichton novels</td>\n",
              "      <td>Sphere by Michael Crichton is an excellant nov...</td>\n",
              "    </tr>\n",
              "    <tr>\n",
              "      <th>1</th>\n",
              "      <td>0452279550</td>\n",
              "      <td>Healing from the Heart: A Leading Surgeon Comb...</td>\n",
              "      <td>books</td>\n",
              "      <td>4.0</td>\n",
              "      <td>The Medicine of the Future</td>\n",
              "      <td>Dr. Oz is an accomplished heart surgeon in the...</td>\n",
              "    </tr>\n",
              "    <tr>\n",
              "      <th>2</th>\n",
              "      <td>1599620065</td>\n",
              "      <td>Mythology: DC Comics Art of Alex Ross 2007 Cal...</td>\n",
              "      <td>books</td>\n",
              "      <td>5.0</td>\n",
              "      <td>Beautiful!</td>\n",
              "      <td>The most gorgeous artwork in comic books. Cont...</td>\n",
              "    </tr>\n",
              "    <tr>\n",
              "      <th>3</th>\n",
              "      <td>0743277724</td>\n",
              "      <td>Pegasus Descending: A Dave Robicheaux Novel (D...</td>\n",
              "      <td>books</td>\n",
              "      <td>4.0</td>\n",
              "      <td>For lovers of Robicheaux</td>\n",
              "      <td>This book is for lovers of Robicheaux.  His de...</td>\n",
              "    </tr>\n",
              "    <tr>\n",
              "      <th>4</th>\n",
              "      <td>061318114X</td>\n",
              "      <td>Guns, Germs, and Steel: The Fates of Human Soc...</td>\n",
              "      <td>books</td>\n",
              "      <td>5.0</td>\n",
              "      <td>Excellent and broad survey of the development ...</td>\n",
              "      <td>This is going to be a short and sweet review b...</td>\n",
              "    </tr>\n",
              "  </tbody>\n",
              "</table>\n",
              "</div>"
            ],
            "text/plain": [
              "         asin  ...                                        review_text\n",
              "0  0785758968  ...  Sphere by Michael Crichton is an excellant nov...\n",
              "1  0452279550  ...  Dr. Oz is an accomplished heart surgeon in the...\n",
              "2  1599620065  ...  The most gorgeous artwork in comic books. Cont...\n",
              "3  0743277724  ...  This book is for lovers of Robicheaux.  His de...\n",
              "4  061318114X  ...  This is going to be a short and sweet review b...\n",
              "\n",
              "[5 rows x 6 columns]"
            ]
          },
          "metadata": {},
          "execution_count": 13
        }
      ]
    },
    {
      "cell_type": "code",
      "metadata": {
        "id": "10bOgqs5F7l6",
        "colab": {
          "base_uri": "https://localhost:8080/",
          "height": 206
        },
        "outputId": "685004ab-89b6-4a04-857a-68ea30c32455"
      },
      "source": [
        "df_dvd_neg.head()"
      ],
      "execution_count": 14,
      "outputs": [
        {
          "output_type": "execute_result",
          "data": {
            "text/html": [
              "<div>\n",
              "<style scoped>\n",
              "    .dataframe tbody tr th:only-of-type {\n",
              "        vertical-align: middle;\n",
              "    }\n",
              "\n",
              "    .dataframe tbody tr th {\n",
              "        vertical-align: top;\n",
              "    }\n",
              "\n",
              "    .dataframe thead th {\n",
              "        text-align: right;\n",
              "    }\n",
              "</style>\n",
              "<table border=\"1\" class=\"dataframe\">\n",
              "  <thead>\n",
              "    <tr style=\"text-align: right;\">\n",
              "      <th></th>\n",
              "      <th>asin</th>\n",
              "      <th>product_name</th>\n",
              "      <th>product_type</th>\n",
              "      <th>rating</th>\n",
              "      <th>title</th>\n",
              "      <th>review_text</th>\n",
              "    </tr>\n",
              "  </thead>\n",
              "  <tbody>\n",
              "    <tr>\n",
              "      <th>0</th>\n",
              "      <td>B00064LJVE</td>\n",
              "      <td>The Village (Widescreen Edition) (Vista Series...</td>\n",
              "      <td>dvd</td>\n",
              "      <td>1.0</td>\n",
              "      <td>One of the worst movies I have ever seen.</td>\n",
              "      <td>This entire movie could have run in only 20 mi...</td>\n",
              "    </tr>\n",
              "    <tr>\n",
              "      <th>1</th>\n",
              "      <td>B0000TG9E2</td>\n",
              "      <td>Alice in Wonderland (Masterpiece Edition): DVD...</td>\n",
              "      <td>dvd</td>\n",
              "      <td>1.0</td>\n",
              "      <td>Another classic, ruined by Disney</td>\n",
              "      <td>If you are looking for a good movie to buy for...</td>\n",
              "    </tr>\n",
              "    <tr>\n",
              "      <th>2</th>\n",
              "      <td>B000BYA4F6</td>\n",
              "      <td>Sabrina Bryan: Byou - The Hot New Dance Workou...</td>\n",
              "      <td>dvd</td>\n",
              "      <td>2.0</td>\n",
              "      <td>Fun to Watch</td>\n",
              "      <td>Fun to watch but my 9 1/2 yr. old daughter cou...</td>\n",
              "    </tr>\n",
              "    <tr>\n",
              "      <th>3</th>\n",
              "      <td>B00006IUJ1</td>\n",
              "      <td>The Diamond Arm: DVD: Yuri Nikulin,Nina Grebes...</td>\n",
              "      <td>dvd</td>\n",
              "      <td>2.0</td>\n",
              "      <td>Did we see the same movie?</td>\n",
              "      <td>Every review I've read about this movie pops a...</td>\n",
              "    </tr>\n",
              "    <tr>\n",
              "      <th>4</th>\n",
              "      <td>B000GFLKF8</td>\n",
              "      <td>Inside Man (Widescreen Edition): DVD: Denzel W...</td>\n",
              "      <td>dvd</td>\n",
              "      <td>2.0</td>\n",
              "      <td>Not too impressed</td>\n",
              "      <td>The acting was very good. The pace was adequat...</td>\n",
              "    </tr>\n",
              "  </tbody>\n",
              "</table>\n",
              "</div>"
            ],
            "text/plain": [
              "         asin  ...                                        review_text\n",
              "0  B00064LJVE  ...  This entire movie could have run in only 20 mi...\n",
              "1  B0000TG9E2  ...  If you are looking for a good movie to buy for...\n",
              "2  B000BYA4F6  ...  Fun to watch but my 9 1/2 yr. old daughter cou...\n",
              "3  B00006IUJ1  ...  Every review I've read about this movie pops a...\n",
              "4  B000GFLKF8  ...  The acting was very good. The pace was adequat...\n",
              "\n",
              "[5 rows x 6 columns]"
            ]
          },
          "metadata": {},
          "execution_count": 14
        }
      ]
    },
    {
      "cell_type": "code",
      "metadata": {
        "id": "1IqjRABOF7pZ",
        "colab": {
          "base_uri": "https://localhost:8080/",
          "height": 206
        },
        "outputId": "2d80afa4-92bb-4815-d216-02476bc27141"
      },
      "source": [
        "df_dvd_pos.head()"
      ],
      "execution_count": 15,
      "outputs": [
        {
          "output_type": "execute_result",
          "data": {
            "text/html": [
              "<div>\n",
              "<style scoped>\n",
              "    .dataframe tbody tr th:only-of-type {\n",
              "        vertical-align: middle;\n",
              "    }\n",
              "\n",
              "    .dataframe tbody tr th {\n",
              "        vertical-align: top;\n",
              "    }\n",
              "\n",
              "    .dataframe thead th {\n",
              "        text-align: right;\n",
              "    }\n",
              "</style>\n",
              "<table border=\"1\" class=\"dataframe\">\n",
              "  <thead>\n",
              "    <tr style=\"text-align: right;\">\n",
              "      <th></th>\n",
              "      <th>asin</th>\n",
              "      <th>product_name</th>\n",
              "      <th>product_type</th>\n",
              "      <th>rating</th>\n",
              "      <th>title</th>\n",
              "      <th>review_text</th>\n",
              "    </tr>\n",
              "  </thead>\n",
              "  <tbody>\n",
              "    <tr>\n",
              "      <th>0</th>\n",
              "      <td>B000E33VZE</td>\n",
              "      <td>I Dream of Jeannie - The Complete First Season...</td>\n",
              "      <td>dvd</td>\n",
              "      <td>5.0</td>\n",
              "      <td>Skip Color, Go Directly To The Black-And-White</td>\n",
              "      <td>I'm not sure why Sony, which now owns I Dream ...</td>\n",
              "    </tr>\n",
              "    <tr>\n",
              "      <th>1</th>\n",
              "      <td>B0000TG9E2</td>\n",
              "      <td>Alice in Wonderland (Masterpiece Edition): DVD...</td>\n",
              "      <td>dvd</td>\n",
              "      <td>5.0</td>\n",
              "      <td>Best American Animated Film Ever</td>\n",
              "      <td>If you don't own this dvd you need to add it t...</td>\n",
              "    </tr>\n",
              "    <tr>\n",
              "      <th>2</th>\n",
              "      <td>0783240295</td>\n",
              "      <td>The Bone Collector: DVD: Olivia Birkelund,Dani...</td>\n",
              "      <td>dvd</td>\n",
              "      <td>4.0</td>\n",
              "      <td>The Bone Collector</td>\n",
              "      <td>Denzel Washington is great but Angelina Jolie ...</td>\n",
              "    </tr>\n",
              "    <tr>\n",
              "      <th>3</th>\n",
              "      <td>B000BVM1UK</td>\n",
              "      <td>The House of Eliott - Series 2: DVD: Barbara J...</td>\n",
              "      <td>dvd</td>\n",
              "      <td>5.0</td>\n",
              "      <td>a gem!</td>\n",
              "      <td>I rediscovered this after a long time. This is...</td>\n",
              "    </tr>\n",
              "    <tr>\n",
              "      <th>4</th>\n",
              "      <td>B0000A98ZP</td>\n",
              "      <td>The Breakfast Club (High School Reunion Collec...</td>\n",
              "      <td>dvd</td>\n",
              "      <td>5.0</td>\n",
              "      <td>Reminiscing.......</td>\n",
              "      <td>I bought this movie for my coming of age daugh...</td>\n",
              "    </tr>\n",
              "  </tbody>\n",
              "</table>\n",
              "</div>"
            ],
            "text/plain": [
              "         asin  ...                                        review_text\n",
              "0  B000E33VZE  ...  I'm not sure why Sony, which now owns I Dream ...\n",
              "1  B0000TG9E2  ...  If you don't own this dvd you need to add it t...\n",
              "2  0783240295  ...  Denzel Washington is great but Angelina Jolie ...\n",
              "3  B000BVM1UK  ...  I rediscovered this after a long time. This is...\n",
              "4  B0000A98ZP  ...  I bought this movie for my coming of age daugh...\n",
              "\n",
              "[5 rows x 6 columns]"
            ]
          },
          "metadata": {},
          "execution_count": 15
        }
      ]
    },
    {
      "cell_type": "code",
      "metadata": {
        "id": "Tb2v3IfyY3Vp",
        "colab": {
          "base_uri": "https://localhost:8080/",
          "height": 206
        },
        "outputId": "2854337a-206f-400a-b55f-2b864df0b90f"
      },
      "source": [
        "df_ele_neg.head()"
      ],
      "execution_count": 16,
      "outputs": [
        {
          "output_type": "execute_result",
          "data": {
            "text/html": [
              "<div>\n",
              "<style scoped>\n",
              "    .dataframe tbody tr th:only-of-type {\n",
              "        vertical-align: middle;\n",
              "    }\n",
              "\n",
              "    .dataframe tbody tr th {\n",
              "        vertical-align: top;\n",
              "    }\n",
              "\n",
              "    .dataframe thead th {\n",
              "        text-align: right;\n",
              "    }\n",
              "</style>\n",
              "<table border=\"1\" class=\"dataframe\">\n",
              "  <thead>\n",
              "    <tr style=\"text-align: right;\">\n",
              "      <th></th>\n",
              "      <th>asin</th>\n",
              "      <th>product_name</th>\n",
              "      <th>product_type</th>\n",
              "      <th>rating</th>\n",
              "      <th>title</th>\n",
              "      <th>review_text</th>\n",
              "    </tr>\n",
              "  </thead>\n",
              "  <tbody>\n",
              "    <tr>\n",
              "      <th>0</th>\n",
              "      <td>B00005UKBG</td>\n",
              "      <td>Atlantic 1316 CD Storage Case (110-Capacity, W...</td>\n",
              "      <td>electronics</td>\n",
              "      <td>2.0</td>\n",
              "      <td>bad</td>\n",
              "      <td>cons\\ntips extremely easy on carpet and if you...</td>\n",
              "    </tr>\n",
              "    <tr>\n",
              "      <th>1</th>\n",
              "      <td>B00005UKBG</td>\n",
              "      <td>Atlantic 1316 CD Storage Case (110-Capacity, W...</td>\n",
              "      <td>electronics</td>\n",
              "      <td>1.0</td>\n",
              "      <td>Save your money!</td>\n",
              "      <td>It's a nice look, but it tips over very easily...</td>\n",
              "    </tr>\n",
              "    <tr>\n",
              "      <th>2</th>\n",
              "      <td>B0009O5MWI</td>\n",
              "      <td>Philips HTS3400D/37 Home Theater System with D...</td>\n",
              "      <td>electronics</td>\n",
              "      <td>1.0</td>\n",
              "      <td>Horrible DVD player</td>\n",
              "      <td>I have bought and returned three of these unit...</td>\n",
              "    </tr>\n",
              "    <tr>\n",
              "      <th>3</th>\n",
              "      <td>B000067VBM</td>\n",
              "      <td>50-pack Slim CD/DVD Jewel Cases (5mm) Clear: E...</td>\n",
              "      <td>electronics</td>\n",
              "      <td>1.0</td>\n",
              "      <td>Cases break instantly!</td>\n",
              "      <td>I knew these were inexpensive CD cases, but I ...</td>\n",
              "    </tr>\n",
              "    <tr>\n",
              "      <th>4</th>\n",
              "      <td>B000093IRC</td>\n",
              "      <td>Memorex 4.7GB 4x DVD+R Media (25-Pack Spindle)...</td>\n",
              "      <td>electronics</td>\n",
              "      <td>2.0</td>\n",
              "      <td>These DVD-Rs suck</td>\n",
              "      <td>I used a 25 pack of these doing DVD backups, a...</td>\n",
              "    </tr>\n",
              "  </tbody>\n",
              "</table>\n",
              "</div>"
            ],
            "text/plain": [
              "         asin  ...                                        review_text\n",
              "0  B00005UKBG  ...  cons\\ntips extremely easy on carpet and if you...\n",
              "1  B00005UKBG  ...  It's a nice look, but it tips over very easily...\n",
              "2  B0009O5MWI  ...  I have bought and returned three of these unit...\n",
              "3  B000067VBM  ...  I knew these were inexpensive CD cases, but I ...\n",
              "4  B000093IRC  ...  I used a 25 pack of these doing DVD backups, a...\n",
              "\n",
              "[5 rows x 6 columns]"
            ]
          },
          "metadata": {},
          "execution_count": 16
        }
      ]
    },
    {
      "cell_type": "code",
      "metadata": {
        "id": "4F1jIeGTY3d8",
        "colab": {
          "base_uri": "https://localhost:8080/",
          "height": 206
        },
        "outputId": "dcd68e38-dd95-4cea-ce59-335afdbb9a13"
      },
      "source": [
        "df_ele_pos.head()"
      ],
      "execution_count": 17,
      "outputs": [
        {
          "output_type": "execute_result",
          "data": {
            "text/html": [
              "<div>\n",
              "<style scoped>\n",
              "    .dataframe tbody tr th:only-of-type {\n",
              "        vertical-align: middle;\n",
              "    }\n",
              "\n",
              "    .dataframe tbody tr th {\n",
              "        vertical-align: top;\n",
              "    }\n",
              "\n",
              "    .dataframe thead th {\n",
              "        text-align: right;\n",
              "    }\n",
              "</style>\n",
              "<table border=\"1\" class=\"dataframe\">\n",
              "  <thead>\n",
              "    <tr style=\"text-align: right;\">\n",
              "      <th></th>\n",
              "      <th>asin</th>\n",
              "      <th>product_name</th>\n",
              "      <th>product_type</th>\n",
              "      <th>rating</th>\n",
              "      <th>title</th>\n",
              "      <th>review_text</th>\n",
              "    </tr>\n",
              "  </thead>\n",
              "  <tbody>\n",
              "    <tr>\n",
              "      <th>0</th>\n",
              "      <td>B00006HYUB</td>\n",
              "      <td>APC Back-UPS ES 500 Backup Battery and Surge P...</td>\n",
              "      <td>electronics</td>\n",
              "      <td>5.0</td>\n",
              "      <td>Everyone should own one</td>\n",
              "      <td>I purchased this unit due to frequent blackout...</td>\n",
              "    </tr>\n",
              "    <tr>\n",
              "      <th>1</th>\n",
              "      <td>B00006HYUB</td>\n",
              "      <td>APC Back-UPS ES 500 Backup Battery and Surge P...</td>\n",
              "      <td>electronics</td>\n",
              "      <td>5.0</td>\n",
              "      <td>Breif Review</td>\n",
              "      <td>I ordered 3 APC Back-UPS ES 500s on the recomm...</td>\n",
              "    </tr>\n",
              "    <tr>\n",
              "      <th>2</th>\n",
              "      <td>B00006HYUB</td>\n",
              "      <td>APC Back-UPS ES 500 Backup Battery and Surge P...</td>\n",
              "      <td>electronics</td>\n",
              "      <td>4.0</td>\n",
              "      <td>Works fine.</td>\n",
              "      <td>Wish the unit had a separate online/offline li...</td>\n",
              "    </tr>\n",
              "    <tr>\n",
              "      <th>3</th>\n",
              "      <td>B000067VBM</td>\n",
              "      <td>50-pack Slim CD/DVD Jewel Cases (5mm) Clear: E...</td>\n",
              "      <td>electronics</td>\n",
              "      <td>5.0</td>\n",
              "      <td>Affordable and effective</td>\n",
              "      <td>Cheaper than thick CD cases and less prone to ...</td>\n",
              "    </tr>\n",
              "    <tr>\n",
              "      <th>4</th>\n",
              "      <td>B00008SCFU</td>\n",
              "      <td>Kingston 256 MB Secure Digital Card ( SD/256 )...</td>\n",
              "      <td>electronics</td>\n",
              "      <td>5.0</td>\n",
              "      <td>It is a good product</td>\n",
              "      <td>Hi\\n\\nI brought 256 MB Kingston SD card from A...</td>\n",
              "    </tr>\n",
              "  </tbody>\n",
              "</table>\n",
              "</div>"
            ],
            "text/plain": [
              "         asin  ...                                        review_text\n",
              "0  B00006HYUB  ...  I purchased this unit due to frequent blackout...\n",
              "1  B00006HYUB  ...  I ordered 3 APC Back-UPS ES 500s on the recomm...\n",
              "2  B00006HYUB  ...  Wish the unit had a separate online/offline li...\n",
              "3  B000067VBM  ...  Cheaper than thick CD cases and less prone to ...\n",
              "4  B00008SCFU  ...  Hi\\n\\nI brought 256 MB Kingston SD card from A...\n",
              "\n",
              "[5 rows x 6 columns]"
            ]
          },
          "metadata": {},
          "execution_count": 17
        }
      ]
    },
    {
      "cell_type": "code",
      "metadata": {
        "id": "1aoo5hofY3i6",
        "colab": {
          "base_uri": "https://localhost:8080/",
          "height": 206
        },
        "outputId": "eb987814-1962-4e61-f3d2-ec5ee5bc7583"
      },
      "source": [
        "df_kit_neg.head()"
      ],
      "execution_count": 18,
      "outputs": [
        {
          "output_type": "execute_result",
          "data": {
            "text/html": [
              "<div>\n",
              "<style scoped>\n",
              "    .dataframe tbody tr th:only-of-type {\n",
              "        vertical-align: middle;\n",
              "    }\n",
              "\n",
              "    .dataframe tbody tr th {\n",
              "        vertical-align: top;\n",
              "    }\n",
              "\n",
              "    .dataframe thead th {\n",
              "        text-align: right;\n",
              "    }\n",
              "</style>\n",
              "<table border=\"1\" class=\"dataframe\">\n",
              "  <thead>\n",
              "    <tr style=\"text-align: right;\">\n",
              "      <th></th>\n",
              "      <th>asin</th>\n",
              "      <th>product_name</th>\n",
              "      <th>product_type</th>\n",
              "      <th>rating</th>\n",
              "      <th>title</th>\n",
              "      <th>review_text</th>\n",
              "    </tr>\n",
              "  </thead>\n",
              "  <tbody>\n",
              "    <tr>\n",
              "      <th>0</th>\n",
              "      <td>B0002D31QU</td>\n",
              "      <td>Premier Gentle Spray Anti-Bark Dog Collar: Kit...</td>\n",
              "      <td>kitchen &amp; housewares</td>\n",
              "      <td>2.0</td>\n",
              "      <td>Doesn't keep my yappy Cairn from barking...</td>\n",
              "      <td>He just looks away from where the spray emits-...</td>\n",
              "    </tr>\n",
              "    <tr>\n",
              "      <th>1</th>\n",
              "      <td>B0002D31QU</td>\n",
              "      <td>Premier Gentle Spray Anti-Bark Dog Collar: Kit...</td>\n",
              "      <td>kitchen &amp; housewares</td>\n",
              "      <td>1.0</td>\n",
              "      <td>Buyer Beware</td>\n",
              "      <td>Having read the other reviews of this product ...</td>\n",
              "    </tr>\n",
              "    <tr>\n",
              "      <th>2</th>\n",
              "      <td>B0002D31QU</td>\n",
              "      <td>Premier Gentle Spray Anti-Bark Dog Collar: Kit...</td>\n",
              "      <td>kitchen &amp; housewares</td>\n",
              "      <td>2.0</td>\n",
              "      <td>Only sprays intermittently with my cocker span...</td>\n",
              "      <td>Sometimes it sprays when she barks, most of th...</td>\n",
              "    </tr>\n",
              "    <tr>\n",
              "      <th>3</th>\n",
              "      <td>B0006N2O0U</td>\n",
              "      <td>Zelco Real Wall Clock: Kitchen &amp; Housewares</td>\n",
              "      <td>kitchen &amp; housewares</td>\n",
              "      <td>1.0</td>\n",
              "      <td>Save your money</td>\n",
              "      <td>This item is cheaply made and I sent it back. ...</td>\n",
              "    </tr>\n",
              "    <tr>\n",
              "      <th>4</th>\n",
              "      <td>B000634GCO</td>\n",
              "      <td>Stationary Bark Control by Petsafe: Kitchen &amp; ...</td>\n",
              "      <td>kitchen &amp; housewares</td>\n",
              "      <td>1.0</td>\n",
              "      <td>I am returning this product</td>\n",
              "      <td>Initially, my dogs found the sound interesting...</td>\n",
              "    </tr>\n",
              "  </tbody>\n",
              "</table>\n",
              "</div>"
            ],
            "text/plain": [
              "         asin  ...                                        review_text\n",
              "0  B0002D31QU  ...  He just looks away from where the spray emits-...\n",
              "1  B0002D31QU  ...  Having read the other reviews of this product ...\n",
              "2  B0002D31QU  ...  Sometimes it sprays when she barks, most of th...\n",
              "3  B0006N2O0U  ...  This item is cheaply made and I sent it back. ...\n",
              "4  B000634GCO  ...  Initially, my dogs found the sound interesting...\n",
              "\n",
              "[5 rows x 6 columns]"
            ]
          },
          "metadata": {},
          "execution_count": 18
        }
      ]
    },
    {
      "cell_type": "code",
      "metadata": {
        "id": "g6alpIEZY_h_",
        "colab": {
          "base_uri": "https://localhost:8080/",
          "height": 206
        },
        "outputId": "066ba217-2b01-42bc-b33c-e10f165e8813"
      },
      "source": [
        "df_kit_pos.head()"
      ],
      "execution_count": 19,
      "outputs": [
        {
          "output_type": "execute_result",
          "data": {
            "text/html": [
              "<div>\n",
              "<style scoped>\n",
              "    .dataframe tbody tr th:only-of-type {\n",
              "        vertical-align: middle;\n",
              "    }\n",
              "\n",
              "    .dataframe tbody tr th {\n",
              "        vertical-align: top;\n",
              "    }\n",
              "\n",
              "    .dataframe thead th {\n",
              "        text-align: right;\n",
              "    }\n",
              "</style>\n",
              "<table border=\"1\" class=\"dataframe\">\n",
              "  <thead>\n",
              "    <tr style=\"text-align: right;\">\n",
              "      <th></th>\n",
              "      <th>asin</th>\n",
              "      <th>product_name</th>\n",
              "      <th>product_type</th>\n",
              "      <th>rating</th>\n",
              "      <th>title</th>\n",
              "      <th>review_text</th>\n",
              "    </tr>\n",
              "  </thead>\n",
              "  <tbody>\n",
              "    <tr>\n",
              "      <th>0</th>\n",
              "      <td>B00068N1DO</td>\n",
              "      <td>Lemony Snicket's A Series of Unfortunate Event...</td>\n",
              "      <td>kitchen &amp; housewares</td>\n",
              "      <td>5.0</td>\n",
              "      <td>Perfectly fits the books' atmosphere</td>\n",
              "      <td>For those of you unfamiliar with the \"A Series...</td>\n",
              "    </tr>\n",
              "    <tr>\n",
              "      <th>1</th>\n",
              "      <td>B000634GCO</td>\n",
              "      <td>Stationary Bark Control by Petsafe: Kitchen &amp; ...</td>\n",
              "      <td>kitchen &amp; housewares</td>\n",
              "      <td>5.0</td>\n",
              "      <td>no more doggy fueds with neighbor</td>\n",
              "      <td>i absolutely love this product. my neighbor ha...</td>\n",
              "    </tr>\n",
              "    <tr>\n",
              "      <th>2</th>\n",
              "      <td>B0006PK1D0</td>\n",
              "      <td>Reporter WireFree Intercom System: Kitchen &amp; H...</td>\n",
              "      <td>kitchen &amp; housewares</td>\n",
              "      <td>4.0</td>\n",
              "      <td>Worked for us</td>\n",
              "      <td>I purchased 3 units and they work well for us....</td>\n",
              "    </tr>\n",
              "    <tr>\n",
              "      <th>3</th>\n",
              "      <td>B00009K3V1</td>\n",
              "      <td>Waring DF200 Professional Deep Fryer, Brushed ...</td>\n",
              "      <td>kitchen &amp; housewares</td>\n",
              "      <td>4.0</td>\n",
              "      <td>New Fry-guy - pretty pleased....</td>\n",
              "      <td>I've always wanted a deep fryer, and finally d...</td>\n",
              "    </tr>\n",
              "    <tr>\n",
              "      <th>4</th>\n",
              "      <td>B00009K3V1</td>\n",
              "      <td>Waring DF200 Professional Deep Fryer, Brushed ...</td>\n",
              "      <td>kitchen &amp; housewares</td>\n",
              "      <td>5.0</td>\n",
              "      <td>Excellent fryer</td>\n",
              "      <td>Easy to use, easy to clean. Two major requirem...</td>\n",
              "    </tr>\n",
              "  </tbody>\n",
              "</table>\n",
              "</div>"
            ],
            "text/plain": [
              "         asin  ...                                        review_text\n",
              "0  B00068N1DO  ...  For those of you unfamiliar with the \"A Series...\n",
              "1  B000634GCO  ...  i absolutely love this product. my neighbor ha...\n",
              "2  B0006PK1D0  ...  I purchased 3 units and they work well for us....\n",
              "3  B00009K3V1  ...  I've always wanted a deep fryer, and finally d...\n",
              "4  B00009K3V1  ...  Easy to use, easy to clean. Two major requirem...\n",
              "\n",
              "[5 rows x 6 columns]"
            ]
          },
          "metadata": {},
          "execution_count": 19
        }
      ]
    },
    {
      "cell_type": "markdown",
      "metadata": {
        "id": "3CSf8ayoGMdo"
      },
      "source": [
        "**CONCATENATING ALL THE DATAFRAMES TO FORM A SINGLE DATAFRAME**"
      ]
    },
    {
      "cell_type": "code",
      "metadata": {
        "id": "-BHI_PijZOMm"
      },
      "source": [
        "df_data = pd.concat([df_books_neg,df_books_pos,df_dvd_neg,df_dvd_pos,df_ele_neg,df_ele_pos,df_kit_neg,df_kit_pos], axis=0)"
      ],
      "execution_count": 20,
      "outputs": []
    },
    {
      "cell_type": "code",
      "metadata": {
        "colab": {
          "base_uri": "https://localhost:8080/"
        },
        "id": "1QTDn5Qq9dAu",
        "outputId": "2a6d076d-0d57-48a8-cdec-3e1ea8e16036"
      },
      "source": [
        "df_data.shape"
      ],
      "execution_count": 21,
      "outputs": [
        {
          "output_type": "execute_result",
          "data": {
            "text/plain": [
              "(8000, 6)"
            ]
          },
          "metadata": {},
          "execution_count": 21
        }
      ]
    },
    {
      "cell_type": "markdown",
      "metadata": {
        "id": "OH3ClYtR353j"
      },
      "source": [
        "**SAVING THE DATAFRAME AS A CSV FILE**"
      ]
    },
    {
      "cell_type": "code",
      "metadata": {
        "id": "6x2Wg8SKu2WL"
      },
      "source": [
        "df_data.to_csv('Amazon_Reviews.csv')"
      ],
      "execution_count": 22,
      "outputs": []
    },
    {
      "cell_type": "markdown",
      "metadata": {
        "id": "N7By62bzGWOh"
      },
      "source": [
        "**SHUFFLING THE ENTIRE DATASET**"
      ]
    },
    {
      "cell_type": "code",
      "metadata": {
        "id": "lQYJrD3dcfoZ"
      },
      "source": [
        "df_data= df_data.sample(frac = 1)"
      ],
      "execution_count": 23,
      "outputs": []
    },
    {
      "cell_type": "code",
      "metadata": {
        "colab": {
          "base_uri": "https://localhost:8080/",
          "height": 206
        },
        "id": "zZVGuUVeGpNm",
        "outputId": "1bf49687-63e3-44a1-e3a6-590d27d10b7d"
      },
      "source": [
        "df_data.head()"
      ],
      "execution_count": 24,
      "outputs": [
        {
          "output_type": "execute_result",
          "data": {
            "text/html": [
              "<div>\n",
              "<style scoped>\n",
              "    .dataframe tbody tr th:only-of-type {\n",
              "        vertical-align: middle;\n",
              "    }\n",
              "\n",
              "    .dataframe tbody tr th {\n",
              "        vertical-align: top;\n",
              "    }\n",
              "\n",
              "    .dataframe thead th {\n",
              "        text-align: right;\n",
              "    }\n",
              "</style>\n",
              "<table border=\"1\" class=\"dataframe\">\n",
              "  <thead>\n",
              "    <tr style=\"text-align: right;\">\n",
              "      <th></th>\n",
              "      <th>asin</th>\n",
              "      <th>product_name</th>\n",
              "      <th>product_type</th>\n",
              "      <th>rating</th>\n",
              "      <th>title</th>\n",
              "      <th>review_text</th>\n",
              "    </tr>\n",
              "  </thead>\n",
              "  <tbody>\n",
              "    <tr>\n",
              "      <th>521</th>\n",
              "      <td>B0002YE6KE</td>\n",
              "      <td>George Foreman GRV660 8-in-1 Toaster Oven/Broi...</td>\n",
              "      <td>kitchen &amp; housewares</td>\n",
              "      <td>2.0</td>\n",
              "      <td>Jack of all trades, master of none</td>\n",
              "      <td>We purchased the George Foreman 8 in 1 with th...</td>\n",
              "    </tr>\n",
              "    <tr>\n",
              "      <th>672</th>\n",
              "      <td>0321213394</td>\n",
              "      <td>Macromedia Dreamweaver MX 2004 for Windows &amp; M...</td>\n",
              "      <td>books</td>\n",
              "      <td>2.0</td>\n",
              "      <td>Companion web site not there</td>\n",
              "      <td>The companion web site mentioned in the book i...</td>\n",
              "    </tr>\n",
              "    <tr>\n",
              "      <th>1</th>\n",
              "      <td>B0000TG9E2</td>\n",
              "      <td>Alice in Wonderland (Masterpiece Edition): DVD...</td>\n",
              "      <td>dvd</td>\n",
              "      <td>5.0</td>\n",
              "      <td>Best American Animated Film Ever</td>\n",
              "      <td>If you don't own this dvd you need to add it t...</td>\n",
              "    </tr>\n",
              "    <tr>\n",
              "      <th>912</th>\n",
              "      <td>0131405306</td>\n",
              "      <td>Enterprise J2ME: Developing Mobile Java Applic...</td>\n",
              "      <td>books</td>\n",
              "      <td>4.0</td>\n",
              "      <td>Great resource for an experience Java Programmer</td>\n",
              "      <td>I am an experienced Java programmer. This book...</td>\n",
              "    </tr>\n",
              "    <tr>\n",
              "      <th>988</th>\n",
              "      <td>B0009JE7N8</td>\n",
              "      <td>Hot Wheels Acceleracers, Vol. 2 - The Speed of...</td>\n",
              "      <td>dvd</td>\n",
              "      <td>5.0</td>\n",
              "      <td>good job</td>\n",
              "      <td>Shipment was very fast and dvd is just as disc...</td>\n",
              "    </tr>\n",
              "  </tbody>\n",
              "</table>\n",
              "</div>"
            ],
            "text/plain": [
              "           asin  ...                                        review_text\n",
              "521  B0002YE6KE  ...  We purchased the George Foreman 8 in 1 with th...\n",
              "672  0321213394  ...  The companion web site mentioned in the book i...\n",
              "1    B0000TG9E2  ...  If you don't own this dvd you need to add it t...\n",
              "912  0131405306  ...  I am an experienced Java programmer. This book...\n",
              "988  B0009JE7N8  ...  Shipment was very fast and dvd is just as disc...\n",
              "\n",
              "[5 rows x 6 columns]"
            ]
          },
          "metadata": {},
          "execution_count": 24
        }
      ]
    },
    {
      "cell_type": "code",
      "metadata": {
        "id": "d_mZ2Qr3dHPB"
      },
      "source": [
        "df_data['rating'] = np.where((df_data['rating'] < 3), 0, df_data.rating)\n",
        "df_data['rating'] = np.where((df_data['rating'] > 3), 1, df_data.rating)\n",
        "df_data= df_data[df_data['rating'] != 3]"
      ],
      "execution_count": 25,
      "outputs": []
    },
    {
      "cell_type": "code",
      "metadata": {
        "id": "4EO7TCy5HIp0"
      },
      "source": [
        "df_data['Word_counts']=df_data['review_text'].apply(lambda x: len(str(x.split())))"
      ],
      "execution_count": 26,
      "outputs": []
    },
    {
      "cell_type": "code",
      "metadata": {
        "colab": {
          "base_uri": "https://localhost:8080/",
          "height": 206
        },
        "id": "uPeuj508-RDk",
        "outputId": "0dee10a5-c80f-4a6c-9e9b-26c3d72a91ba"
      },
      "source": [
        "df_data.head()"
      ],
      "execution_count": 27,
      "outputs": [
        {
          "output_type": "execute_result",
          "data": {
            "text/html": [
              "<div>\n",
              "<style scoped>\n",
              "    .dataframe tbody tr th:only-of-type {\n",
              "        vertical-align: middle;\n",
              "    }\n",
              "\n",
              "    .dataframe tbody tr th {\n",
              "        vertical-align: top;\n",
              "    }\n",
              "\n",
              "    .dataframe thead th {\n",
              "        text-align: right;\n",
              "    }\n",
              "</style>\n",
              "<table border=\"1\" class=\"dataframe\">\n",
              "  <thead>\n",
              "    <tr style=\"text-align: right;\">\n",
              "      <th></th>\n",
              "      <th>asin</th>\n",
              "      <th>product_name</th>\n",
              "      <th>product_type</th>\n",
              "      <th>rating</th>\n",
              "      <th>title</th>\n",
              "      <th>review_text</th>\n",
              "      <th>Word_counts</th>\n",
              "    </tr>\n",
              "  </thead>\n",
              "  <tbody>\n",
              "    <tr>\n",
              "      <th>521</th>\n",
              "      <td>B0002YE6KE</td>\n",
              "      <td>George Foreman GRV660 8-in-1 Toaster Oven/Broi...</td>\n",
              "      <td>kitchen &amp; housewares</td>\n",
              "      <td>0.0</td>\n",
              "      <td>Jack of all trades, master of none</td>\n",
              "      <td>We purchased the George Foreman 8 in 1 with th...</td>\n",
              "      <td>1084</td>\n",
              "    </tr>\n",
              "    <tr>\n",
              "      <th>672</th>\n",
              "      <td>0321213394</td>\n",
              "      <td>Macromedia Dreamweaver MX 2004 for Windows &amp; M...</td>\n",
              "      <td>books</td>\n",
              "      <td>0.0</td>\n",
              "      <td>Companion web site not there</td>\n",
              "      <td>The companion web site mentioned in the book i...</td>\n",
              "      <td>334</td>\n",
              "    </tr>\n",
              "    <tr>\n",
              "      <th>1</th>\n",
              "      <td>B0000TG9E2</td>\n",
              "      <td>Alice in Wonderland (Masterpiece Edition): DVD...</td>\n",
              "      <td>dvd</td>\n",
              "      <td>1.0</td>\n",
              "      <td>Best American Animated Film Ever</td>\n",
              "      <td>If you don't own this dvd you need to add it t...</td>\n",
              "      <td>209</td>\n",
              "    </tr>\n",
              "    <tr>\n",
              "      <th>912</th>\n",
              "      <td>0131405306</td>\n",
              "      <td>Enterprise J2ME: Developing Mobile Java Applic...</td>\n",
              "      <td>books</td>\n",
              "      <td>1.0</td>\n",
              "      <td>Great resource for an experience Java Programmer</td>\n",
              "      <td>I am an experienced Java programmer. This book...</td>\n",
              "      <td>758</td>\n",
              "    </tr>\n",
              "    <tr>\n",
              "      <th>988</th>\n",
              "      <td>B0009JE7N8</td>\n",
              "      <td>Hot Wheels Acceleracers, Vol. 2 - The Speed of...</td>\n",
              "      <td>dvd</td>\n",
              "      <td>1.0</td>\n",
              "      <td>good job</td>\n",
              "      <td>Shipment was very fast and dvd is just as disc...</td>\n",
              "      <td>132</td>\n",
              "    </tr>\n",
              "  </tbody>\n",
              "</table>\n",
              "</div>"
            ],
            "text/plain": [
              "           asin  ... Word_counts\n",
              "521  B0002YE6KE  ...        1084\n",
              "672  0321213394  ...         334\n",
              "1    B0000TG9E2  ...         209\n",
              "912  0131405306  ...         758\n",
              "988  B0009JE7N8  ...         132\n",
              "\n",
              "[5 rows x 7 columns]"
            ]
          },
          "metadata": {},
          "execution_count": 27
        }
      ]
    },
    {
      "cell_type": "code",
      "metadata": {
        "colab": {
          "base_uri": "https://localhost:8080/",
          "height": 856
        },
        "id": "424n-oFoHUmC",
        "outputId": "e36318b9-fd38-4820-e652-c851caef3305"
      },
      "source": [
        "plt.figure(figsize=(20,14))\n",
        "sns.barplot(x='rating', y='Word_counts', data=df_data)\n",
        "plt.title('Avg no. of words in Reviews Vs. Rating')"
      ],
      "execution_count": 28,
      "outputs": [
        {
          "output_type": "execute_result",
          "data": {
            "text/plain": [
              "Text(0.5, 1.0, 'Avg no. of words in Reviews Vs. Rating')"
            ]
          },
          "metadata": {},
          "execution_count": 28
        },
        {
          "output_type": "display_data",
          "data": {
            "image/png": "[encoded data removed]",
            "text/plain": [
              "<Figure size 1440x1008 with 1 Axes>"
            ]
          },
          "metadata": {
            "needs_background": "light"
          }
        }
      ]
    },
    {
      "cell_type": "markdown",
      "metadata": {
        "id": "JhMMWVEDIW1g"
      },
      "source": [
        "**OBSERVATION:-**\n",
        "\n",
        "1. From the above plot we can see that Avg. No. of Words in Positive Review is slightly more than the Avg. No. of Words in Negative review."
      ]
    },
    {
      "cell_type": "code",
      "metadata": {
        "colab": {
          "base_uri": "https://localhost:8080/"
        },
        "id": "zlWwk41B5Gqt",
        "outputId": "c32d06db-8abe-4a3c-8036-7d7a122c9cdf"
      },
      "source": [
        "print(df_data.isna().sum())"
      ],
      "execution_count": 29,
      "outputs": [
        {
          "output_type": "stream",
          "name": "stdout",
          "text": [
            "asin            0\n",
            "product_name    0\n",
            "product_type    0\n",
            "rating          0\n",
            "title           0\n",
            "review_text     0\n",
            "Word_counts     0\n",
            "dtype: int64\n"
          ]
        }
      ]
    },
    {
      "cell_type": "markdown",
      "metadata": {
        "id": "JmWdB5CmKE_m"
      },
      "source": [
        "**IMPORTING THE TRAIN TEST SPLIT MODULE FROM SKLEARN MODEL SELECTION LIBRARY**"
      ]
    },
    {
      "cell_type": "code",
      "metadata": {
        "id": "la9k_tuL466K"
      },
      "source": [
        "from sklearn.model_selection import train_test_split\n",
        "train,test=train_test_split(df_data, test_size=0.3)"
      ],
      "execution_count": 30,
      "outputs": []
    },
    {
      "cell_type": "code",
      "metadata": {
        "id": "JuekYaKQ469B",
        "colab": {
          "base_uri": "https://localhost:8080/"
        },
        "outputId": "4e041eaf-d015-4ddc-caf8-e9faaa4c4e8f"
      },
      "source": [
        "print(train.shape)\n",
        "print(test.shape)"
      ],
      "execution_count": 31,
      "outputs": [
        {
          "output_type": "stream",
          "name": "stdout",
          "text": [
            "(5600, 7)\n",
            "(2400, 7)\n"
          ]
        }
      ]
    },
    {
      "cell_type": "markdown",
      "metadata": {
        "id": "PbKt6d8OKThg"
      },
      "source": [
        "**IMPORTING THE NLTK TOOLS**"
      ]
    },
    {
      "cell_type": "code",
      "metadata": {
        "id": "ncqu1MSi47AR",
        "colab": {
          "base_uri": "https://localhost:8080/"
        },
        "outputId": "779eb03a-841c-4dcb-bb3f-137052f46b15"
      },
      "source": [
        "import nltk\n",
        "nltk.download('wordnet')\n",
        "nltk.download('stopwords')\n",
        "nltk.download('punkt')\n",
        "from nltk.corpus import stopwords\n",
        "STOPWORDS = set(stopwords.words('english'))\n",
        "from nltk.tokenize import word_tokenize\n",
        "import re"
      ],
      "execution_count": 32,
      "outputs": [
        {
          "output_type": "stream",
          "name": "stdout",
          "text": [
            "[nltk_data] Downloading package wordnet to /root/nltk_data...\n",
            "[nltk_data]   Unzipping corpora/wordnet.zip.\n",
            "[nltk_data] Downloading package stopwords to /root/nltk_data...\n",
            "[nltk_data]   Unzipping corpora/stopwords.zip.\n",
            "[nltk_data] Downloading package punkt to /root/nltk_data...\n",
            "[nltk_data]   Unzipping tokenizers/punkt.zip.\n"
          ]
        }
      ]
    },
    {
      "cell_type": "markdown",
      "metadata": {
        "id": "F6-lzkCEKa42"
      },
      "source": [
        "**IMPORTING THE OTHER NECESSARY LIBRARIES**"
      ]
    },
    {
      "cell_type": "code",
      "metadata": {
        "id": "Ccho-I1247C-",
        "colab": {
          "base_uri": "https://localhost:8080/"
        },
        "outputId": "d42f2211-0329-4942-d398-e94b46149279"
      },
      "source": [
        "!pip install inflect\n",
        "import inflect\n",
        "p = inflect.engine()\n",
        "!pip install contractions\n",
        "import contractions\n",
        "from nltk.stem import WordNetLemmatizer\n",
        "import re\n",
        "from nltk.tokenize import word_tokenize\n",
        "import gensim\n",
        "import string"
      ],
      "execution_count": 33,
      "outputs": [
        {
          "output_type": "stream",
          "name": "stdout",
          "text": [
            "Requirement already satisfied: inflect in /usr/local/lib/python3.7/dist-packages (2.1.0)\n",
            "Collecting contractions\n",
            "  Downloading contractions-0.0.58-py2.py3-none-any.whl (8.0 kB)\n",
            "Collecting textsearch>=0.0.21\n",
            "  Downloading textsearch-0.0.21-py2.py3-none-any.whl (7.5 kB)\n",
            "Collecting anyascii\n",
            "  Downloading anyascii-0.3.0-py3-none-any.whl (284 kB)\n",
            "\u001b[K     |████████████████████████████████| 284 kB 5.4 MB/s \n",
            "\u001b[?25hCollecting pyahocorasick\n",
            "  Downloading pyahocorasick-1.4.2.tar.gz (321 kB)\n",
            "\u001b[K     |████████████████████████████████| 321 kB 41.5 MB/s \n",
            "\u001b[?25hBuilding wheels for collected packages: pyahocorasick\n",
            "  Building wheel for pyahocorasick (setup.py) ... \u001b[?25l\u001b[?25hdone\n",
            "  Created wheel for pyahocorasick: filename=pyahocorasick-1.4.2-cp37-cp37m-linux_x86_64.whl size=85451 sha256=d51629ead26b4bfb072e1f8bc61501e10f791d9966cecc91350b383cf38c8728\n",
            "  Stored in directory: /root/.cache/pip/wheels/25/19/a6/8f363d9939162782bb8439d886469756271abc01f76fbd790f\n",
            "Successfully built pyahocorasick\n",
            "Installing collected packages: pyahocorasick, anyascii, textsearch, contractions\n",
            "Successfully installed anyascii-0.3.0 contractions-0.0.58 pyahocorasick-1.4.2 textsearch-0.0.21\n"
          ]
        }
      ]
    },
    {
      "cell_type": "markdown",
      "metadata": {
        "id": "nNnp9_PqK2Zh"
      },
      "source": [
        "**DEFINING A TEXT PREPROCESSING FUNCTION**"
      ]
    },
    {
      "cell_type": "code",
      "metadata": {
        "id": "XTjb85_k47Ft"
      },
      "source": [
        "def text_Preprocessing(text):\n",
        "  def remove_emoji(text):\n",
        "    emoji_pattern = re.compile(\"[\"\n",
        "                           u\"\\U0001F600-\\U0001F64F\" \n",
        "                           u\"\\U0001F300-\\U0001F5FF\" \n",
        "                           u\"\\U0001F680-\\U0001F6FF\"  \n",
        "                           u\"\\U0001F1E0-\\U0001F1FF\"  \n",
        "                           u\"\\U00002702-\\U000027B0\"\n",
        "                           u\"\\U000024C2-\\U0001F251\"\n",
        "                           \"]+\", flags=re.UNICODE)\n",
        "    return emoji_pattern.sub(r'', text)\n",
        "  reviews =[contractions.fix(text) for text in text]\n",
        "  reviews =[text.lower() for text in reviews]\n",
        "  reviews =[re.sub(r'\\S+@\\S+','',text) for text in reviews]\n",
        "  reviews =[re.sub(r'\\d+','',text) for text in reviews]\n",
        "  reviews =[re.sub(r'[^\\w\\s]','',text) for text in reviews]\n",
        "  reviews =[text.strip() for text in reviews]\n",
        "  reviews =[remove_emoji(text) for text in reviews] \n",
        "\n",
        "  stop_words=set(stopwords.words('english'))\n",
        "  \n",
        "  cleaned_reviews=[]\n",
        "  for review in reviews:\n",
        "    tokens =[word for word in word_tokenize(review) if not word in stop_words]\n",
        "    cleaned_reviews.append(\" \".join(tokens))\n",
        "\n",
        "  lemmatizer = WordNetLemmatizer()\n",
        "  lem_reviews=[]\n",
        "  for review in cleaned_reviews:\n",
        "    lem_reviews.append(\" \".join(list(map(lemmatizer.lemmatize , word_tokenize(review)))))\n",
        "  \n",
        "  return lem_reviews"
      ],
      "execution_count": 34,
      "outputs": []
    },
    {
      "cell_type": "markdown",
      "metadata": {
        "id": "05Njha3RNEie"
      },
      "source": [
        "**PRE-PROCESSING THE TRAIN AND TEST REVIEWS**"
      ]
    },
    {
      "cell_type": "code",
      "metadata": {
        "id": "V9hm37PS9qKZ"
      },
      "source": [
        "t=train['review_text']\n",
        "train['review_text'] =text_Preprocessing(t)"
      ],
      "execution_count": 35,
      "outputs": []
    },
    {
      "cell_type": "code",
      "metadata": {
        "id": "rkVQMOMY47Lf"
      },
      "source": [
        "f=test['review_text']\n",
        "test['review_text'] =text_Preprocessing(f)"
      ],
      "execution_count": 36,
      "outputs": []
    },
    {
      "cell_type": "markdown",
      "metadata": {
        "id": "wYmZtMiENSCr"
      },
      "source": [
        "**WORD COUNTS AFTER PREPROCESSING**"
      ]
    },
    {
      "cell_type": "code",
      "metadata": {
        "id": "aqcs_xBiL1Dx"
      },
      "source": [
        "train['Word_counts_after_preprocess']=train['review_text'].apply(lambda x: len(str(x.split())))\n",
        "test['Word_counts_after_preprocess']=test['review_text'].apply(lambda x: len(str(x.split())))"
      ],
      "execution_count": 37,
      "outputs": []
    },
    {
      "cell_type": "code",
      "metadata": {
        "colab": {
          "base_uri": "https://localhost:8080/"
        },
        "id": "F0WJy3OJLb2G",
        "outputId": "82f7b94e-f81f-488c-b0bf-1200095bf052"
      },
      "source": [
        "l=[10,20,30,40,50,60,70,80,90,100]\n",
        "for ele in l:\n",
        "    print(\"{} percentile of counts is {}\".format(ele,np.percentile(train['Word_counts_after_preprocess'],ele)))"
      ],
      "execution_count": 38,
      "outputs": [
        {
          "output_type": "stream",
          "name": "stdout",
          "text": [
            "10 percentile of counts is 129.0\n",
            "20 percentile of counts is 195.0\n",
            "30 percentile of counts is 263.0\n",
            "40 percentile of counts is 337.0\n",
            "50 percentile of counts is 428.0\n",
            "60 percentile of counts is 527.0\n",
            "70 percentile of counts is 675.5999999999995\n",
            "80 percentile of counts is 927.0\n",
            "90 percentile of counts is 1443.1000000000004\n",
            "100 percentile of counts is 19281.0\n"
          ]
        }
      ]
    },
    {
      "cell_type": "code",
      "metadata": {
        "colab": {
          "base_uri": "https://localhost:8080/"
        },
        "id": "MdJB0SU4LeUB",
        "outputId": "11ec05ba-892a-47df-b3d7-078bb29bfb61"
      },
      "source": [
        "l=[10,20,30,40,50,60,70,80,90,100]\n",
        "for ele in l:\n",
        "    print(\"{} percentile of counts is {}\".format(ele,np.percentile(test['Word_counts_after_preprocess'],ele)))"
      ],
      "execution_count": 39,
      "outputs": [
        {
          "output_type": "stream",
          "name": "stdout",
          "text": [
            "10 percentile of counts is 125.0\n",
            "20 percentile of counts is 202.0\n",
            "30 percentile of counts is 268.0\n",
            "40 percentile of counts is 338.0\n",
            "50 percentile of counts is 425.0\n",
            "60 percentile of counts is 521.0\n",
            "70 percentile of counts is 698.0\n",
            "80 percentile of counts is 965.0\n",
            "90 percentile of counts is 1510.1\n",
            "100 percentile of counts is 7376.0\n"
          ]
        }
      ]
    },
    {
      "cell_type": "markdown",
      "metadata": {
        "id": "1F0eyZdGNav7"
      },
      "source": [
        "**VISUALIZING THE TRAIN SET**"
      ]
    },
    {
      "cell_type": "code",
      "metadata": {
        "colab": {
          "base_uri": "https://localhost:8080/",
          "height": 206
        },
        "id": "zzYf5QIoAm8Q",
        "outputId": "2f7e5b82-1a48-41a5-cb45-27f1c47c2df4"
      },
      "source": [
        "train.head()"
      ],
      "execution_count": 40,
      "outputs": [
        {
          "output_type": "execute_result",
          "data": {
            "text/html": [
              "<div>\n",
              "<style scoped>\n",
              "    .dataframe tbody tr th:only-of-type {\n",
              "        vertical-align: middle;\n",
              "    }\n",
              "\n",
              "    .dataframe tbody tr th {\n",
              "        vertical-align: top;\n",
              "    }\n",
              "\n",
              "    .dataframe thead th {\n",
              "        text-align: right;\n",
              "    }\n",
              "</style>\n",
              "<table border=\"1\" class=\"dataframe\">\n",
              "  <thead>\n",
              "    <tr style=\"text-align: right;\">\n",
              "      <th></th>\n",
              "      <th>asin</th>\n",
              "      <th>product_name</th>\n",
              "      <th>product_type</th>\n",
              "      <th>rating</th>\n",
              "      <th>title</th>\n",
              "      <th>review_text</th>\n",
              "      <th>Word_counts</th>\n",
              "      <th>Word_counts_after_preprocess</th>\n",
              "    </tr>\n",
              "  </thead>\n",
              "  <tbody>\n",
              "    <tr>\n",
              "      <th>225</th>\n",
              "      <td>B000BKI6NM</td>\n",
              "      <td>D-Link Super G with MIMO Wireless Router DI-63...</td>\n",
              "      <td>electronics</td>\n",
              "      <td>1.0</td>\n",
              "      <td>Excellent and stable</td>\n",
              "      <td>using router day set touch since reliable high...</td>\n",
              "      <td>245</td>\n",
              "      <td>88</td>\n",
              "    </tr>\n",
              "    <tr>\n",
              "      <th>100</th>\n",
              "      <td>B00009K3TA</td>\n",
              "      <td>Zojirushi NS-MYC10 Micom Fuzzy Logic 5.5 Cup R...</td>\n",
              "      <td>kitchen &amp; housewares</td>\n",
              "      <td>1.0</td>\n",
              "      <td>Great rice cooker!</td>\n",
              "      <td>super easy use put rice water come perfect ric...</td>\n",
              "      <td>295</td>\n",
              "      <td>202</td>\n",
              "    </tr>\n",
              "    <tr>\n",
              "      <th>328</th>\n",
              "      <td>0142001686</td>\n",
              "      <td>When Character Was King: A Story of Ronald Rea...</td>\n",
              "      <td>books</td>\n",
              "      <td>1.0</td>\n",
              "      <td>The Great Communicator</td>\n",
              "      <td>peggy noonans reagan texture truth unlike rece...</td>\n",
              "      <td>2086</td>\n",
              "      <td>1292</td>\n",
              "    </tr>\n",
              "    <tr>\n",
              "      <th>234</th>\n",
              "      <td>0060529709</td>\n",
              "      <td>Everything Is Illuminated: A Novel: Books: Jon...</td>\n",
              "      <td>books</td>\n",
              "      <td>1.0</td>\n",
              "      <td>Anything truly great is not for everyone...(a ...</td>\n",
              "      <td>recommend people read book choose ignore read ...</td>\n",
              "      <td>2562</td>\n",
              "      <td>1481</td>\n",
              "    </tr>\n",
              "    <tr>\n",
              "      <th>69</th>\n",
              "      <td>B00006JPMF</td>\n",
              "      <td>Lenmar PRO-415 AA NiMH Rechargeable Batteries ...</td>\n",
              "      <td>electronics</td>\n",
              "      <td>0.0</td>\n",
              "      <td>Chinese made Junk - save your money!</td>\n",
              "      <td>tempted cheap price got pack rated mah run jui...</td>\n",
              "      <td>1738</td>\n",
              "      <td>881</td>\n",
              "    </tr>\n",
              "  </tbody>\n",
              "</table>\n",
              "</div>"
            ],
            "text/plain": [
              "           asin  ... Word_counts_after_preprocess\n",
              "225  B000BKI6NM  ...                           88\n",
              "100  B00009K3TA  ...                          202\n",
              "328  0142001686  ...                         1292\n",
              "234  0060529709  ...                         1481\n",
              "69   B00006JPMF  ...                          881\n",
              "\n",
              "[5 rows x 8 columns]"
            ]
          },
          "metadata": {},
          "execution_count": 40
        }
      ]
    },
    {
      "cell_type": "markdown",
      "metadata": {
        "id": "2mGMiGOqNf80"
      },
      "source": [
        "**VISUALIZE THE TEST SET**"
      ]
    },
    {
      "cell_type": "code",
      "metadata": {
        "colab": {
          "base_uri": "https://localhost:8080/",
          "height": 206
        },
        "id": "RI74Tjg4Aorz",
        "outputId": "58023eca-ee19-4d37-db5d-677184fb99fd"
      },
      "source": [
        "test.head()"
      ],
      "execution_count": 41,
      "outputs": [
        {
          "output_type": "execute_result",
          "data": {
            "text/html": [
              "<div>\n",
              "<style scoped>\n",
              "    .dataframe tbody tr th:only-of-type {\n",
              "        vertical-align: middle;\n",
              "    }\n",
              "\n",
              "    .dataframe tbody tr th {\n",
              "        vertical-align: top;\n",
              "    }\n",
              "\n",
              "    .dataframe thead th {\n",
              "        text-align: right;\n",
              "    }\n",
              "</style>\n",
              "<table border=\"1\" class=\"dataframe\">\n",
              "  <thead>\n",
              "    <tr style=\"text-align: right;\">\n",
              "      <th></th>\n",
              "      <th>asin</th>\n",
              "      <th>product_name</th>\n",
              "      <th>product_type</th>\n",
              "      <th>rating</th>\n",
              "      <th>title</th>\n",
              "      <th>review_text</th>\n",
              "      <th>Word_counts</th>\n",
              "      <th>Word_counts_after_preprocess</th>\n",
              "    </tr>\n",
              "  </thead>\n",
              "  <tbody>\n",
              "    <tr>\n",
              "      <th>421</th>\n",
              "      <td>B0006LA5S0</td>\n",
              "      <td>PNY 2 GB Attache USB Hard Drive: Electronics</td>\n",
              "      <td>electronics</td>\n",
              "      <td>1.0</td>\n",
              "      <td>Good for backing up digital pics</td>\n",
              "      <td>complaint flash drive easy use enough storage ...</td>\n",
              "      <td>294</td>\n",
              "      <td>132</td>\n",
              "    </tr>\n",
              "    <tr>\n",
              "      <th>642</th>\n",
              "      <td>B000065V3H</td>\n",
              "      <td>Can't Buy Me Love: DVD: Patrick Dempsey,Amanda...</td>\n",
              "      <td>dvd</td>\n",
              "      <td>1.0</td>\n",
              "      <td>Excellent</td>\n",
              "      <td>awesome bought husband valentine day even year...</td>\n",
              "      <td>160</td>\n",
              "      <td>117</td>\n",
              "    </tr>\n",
              "    <tr>\n",
              "      <th>903</th>\n",
              "      <td>B00067TTZY</td>\n",
              "      <td>Creative Zen Micro 5 GB MP3 Player Black: Elec...</td>\n",
              "      <td>electronics</td>\n",
              "      <td>0.0</td>\n",
              "      <td>disappointed</td>\n",
              "      <td>year later wish money ipod audiojack issue lon...</td>\n",
              "      <td>388</td>\n",
              "      <td>186</td>\n",
              "    </tr>\n",
              "    <tr>\n",
              "      <th>287</th>\n",
              "      <td>0449219771</td>\n",
              "      <td>The Rise and Fall of the Third Reich : A Histo...</td>\n",
              "      <td>books</td>\n",
              "      <td>1.0</td>\n",
              "      <td>Remarkable work</td>\n",
              "      <td>hypnotism defies explanationat least nongerman...</td>\n",
              "      <td>5055</td>\n",
              "      <td>3009</td>\n",
              "    </tr>\n",
              "    <tr>\n",
              "      <th>182</th>\n",
              "      <td>B0001MR140</td>\n",
              "      <td>VTech ip5825 5.8 GHz DSS Cordless Speakerphone...</td>\n",
              "      <td>electronics</td>\n",
              "      <td>0.0</td>\n",
              "      <td>Very disappointing in numerous ways</td>\n",
              "      <td>often find product disappointing interference ...</td>\n",
              "      <td>1618</td>\n",
              "      <td>809</td>\n",
              "    </tr>\n",
              "  </tbody>\n",
              "</table>\n",
              "</div>"
            ],
            "text/plain": [
              "           asin  ... Word_counts_after_preprocess\n",
              "421  B0006LA5S0  ...                          132\n",
              "642  B000065V3H  ...                          117\n",
              "903  B00067TTZY  ...                          186\n",
              "287  0449219771  ...                         3009\n",
              "182  B0001MR140  ...                          809\n",
              "\n",
              "[5 rows x 8 columns]"
            ]
          },
          "metadata": {},
          "execution_count": 41
        }
      ]
    },
    {
      "cell_type": "markdown",
      "metadata": {
        "id": "_anbK1_aGaNo"
      },
      "source": [
        "**BERT**"
      ]
    },
    {
      "cell_type": "code",
      "metadata": {
        "id": "IVelx7G_uP9C"
      },
      "source": [
        "def bert_encode(texts, tokenizer, max_len=512):\n",
        "    all_tokens = []\n",
        "    all_masks = []\n",
        "    all_segments = []\n",
        "    \n",
        "    for text in texts:\n",
        "        text = tokenizer.tokenize(text)\n",
        "            \n",
        "        text = text[:max_len-2]\n",
        "        input_sequence = [\"[CLS]\"] + text + [\"[SEP]\"]\n",
        "        pad_len = max_len - len(input_sequence)\n",
        "        \n",
        "        tokens = tokenizer.convert_tokens_to_ids(input_sequence)\n",
        "        tokens += [0] * pad_len\n",
        "        pad_masks = [1] * len(input_sequence) + [0] * pad_len\n",
        "        segment_ids = [0] * max_len\n",
        "        \n",
        "        all_tokens.append(tokens)\n",
        "        all_masks.append(pad_masks)\n",
        "        all_segments.append(segment_ids)\n",
        "    \n",
        "    return np.array(all_tokens), np.array(all_masks), np.array(all_segments)"
      ],
      "execution_count": null,
      "outputs": []
    },
    {
      "cell_type": "code",
      "metadata": {
        "id": "8WCZtO_WuQAD"
      },
      "source": [
        "import tensorflow_hub as hub\n",
        "module_url = \"https://tfhub.dev/tensorflow/bert_en_uncased_L-24_H-1024_A-16/1\"\n",
        "bert_layer = hub.KerasLayer(module_url, trainable=True)"
      ],
      "execution_count": null,
      "outputs": []
    },
    {
      "cell_type": "code",
      "metadata": {
        "id": "z5CFMQzduQDV"
      },
      "source": [
        "!wget --quiet https://raw.githubusercontent.com/tensorflow/models/master/official/nlp/bert/tokenization.py\n",
        "!pip install bert-for-tf2\n",
        "import numpy as np\n",
        "import tensorflow_hub as hub\n",
        "from bert import bert_tokenization\n",
        "\n",
        "\n",
        "vocab_file = bert_layer.resolved_object.vocab_file.asset_path.numpy()\n",
        "do_lower_case = bert_layer.resolved_object.do_lower_case.numpy()\n",
        "tokenizer = bert_tokenization.FullTokenizer(vocab_file, do_lower_case)"
      ],
      "execution_count": null,
      "outputs": []
    },
    {
      "cell_type": "code",
      "metadata": {
        "id": "5OR97n_2uQGA"
      },
      "source": [
        "train_input = bert_encode(train.review_text.values, tokenizer, max_len=50)\n",
        "test_input = bert_encode(test.review_text.values, tokenizer, max_len=50)\n",
        "train_labels = train.rating.values\n",
        "test_labels = test.rating.values"
      ],
      "execution_count": null,
      "outputs": []
    },
    {
      "cell_type": "code",
      "metadata": {
        "id": "TT6b3bRGuQI2"
      },
      "source": [
        "max_seq_length=1500"
      ],
      "execution_count": null,
      "outputs": []
    },
    {
      "cell_type": "code",
      "metadata": {
        "id": "ZoIVqpBquQLu"
      },
      "source": [
        "def build_model(bert_layer,Dropout_num, max_len=36):\n",
        "    input_word_ids = tf.keras.layers.Input(shape=(max_len,), dtype=tf.int32, name=\"input_word_ids\")\n",
        "    input_mask = tf.keras.layers.Input(shape=(max_len,), dtype=tf.int32, name=\"input_mask\")\n",
        "    segment_ids = tf.keras.layers.Input(shape=(max_len,), dtype=tf.int32, name=\"segment_ids\")\n",
        "\n",
        "    _, sequence_output = bert_layer([input_word_ids, input_mask, segment_ids])\n",
        "    clf_output = sequence_output[:, 0, :]\n",
        "    \n",
        "    x = tf.keras.layers. Dropout(Dropout_num)(clf_output)\n",
        "    out4 = tf.keras.layers. Dense(1, activation='sigmoid')(x)\n",
        "    \n",
        "    model = tf.keras.models.Model(inputs=[input_word_ids, input_mask, segment_ids], outputs=out4)\n",
        "#   model.compile(tf.keras.optimizers.Adam(lr=6e-6), loss='binary_crossentropy', metrics=['accuracy'])\n",
        "    model.compile(tf.keras.optimizers.SGD(learning_rate=0.0001, momentum=0.8), loss='binary_crossentropy', metrics=['accuracy'])\n",
        "    return model"
      ],
      "execution_count": null,
      "outputs": []
    },
    {
      "cell_type": "code",
      "metadata": {
        "id": "bUT2Rft2uQOT"
      },
      "source": [
        "import tensorflow as tf\n",
        "model_BERT = build_model(bert_layer,0, max_len=50)"
      ],
      "execution_count": null,
      "outputs": []
    },
    {
      "cell_type": "code",
      "metadata": {
        "id": "Q0tLpAP0uQRw"
      },
      "source": [
        "train_history = model_BERT.fit(\n",
        "    train_input, train_labels,\n",
        "    validation_data=(test_input, test_labels),\n",
        "    epochs = 10, \n",
        "    batch_size = 32,\n",
        "    verbose=1,\n",
        ")"
      ],
      "execution_count": null,
      "outputs": []
    },
    {
      "cell_type": "code",
      "metadata": {
        "colab": {
          "base_uri": "https://localhost:8080/"
        },
        "id": "vCs6TykUHuvH",
        "outputId": "3ca3dd9c-d5c6-421c-e4ac-5f40724a1438"
      },
      "source": [
        "from google.colab import drive\n",
        "drive.mount('/content/drive')"
      ],
      "execution_count": 47,
      "outputs": [
        {
          "output_type": "stream",
          "name": "stdout",
          "text": [
            "Mounted at /content/drive\n"
          ]
        }
      ]
    },
    {
      "cell_type": "code",
      "metadata": {
        "id": "Ubcfnz-nuQW1"
      },
      "source": [
        "model_BERT.save('/content/drive/MyDrive/Colab Notebooks/BERT_MDSA.h5')"
      ],
      "execution_count": null,
      "outputs": []
    },
    {
      "cell_type": "code",
      "metadata": {
        "id": "svpIfIC4EHgC"
      },
      "source": [
        "from tensorflow.keras.models import Model,load_model\n",
        "import tensorflow as tf\n",
        "path='/content/drive/MyDrive/Colab Notebooks/BERT_MDSA.h5'\n",
        "model=tf.keras.models.load_model((path),custom_objects={'KerasLayer':hub.KerasLayer})"
      ],
      "execution_count": null,
      "outputs": []
    },
    {
      "cell_type": "code",
      "metadata": {
        "id": "PWiNrJJhFRgb"
      },
      "source": [
        "predictions=model.predict(test_input)\n",
        "predictions = predictions.round().astype('float')\n",
        "predictions"
      ],
      "execution_count": null,
      "outputs": []
    },
    {
      "cell_type": "code",
      "metadata": {
        "id": "wG9V74LoFWwI"
      },
      "source": [
        "from sklearn.metrics import accuracy_score\n",
        "Acc=accuracy_score(predictions, test_labels)\n",
        "print(Acc)"
      ],
      "execution_count": null,
      "outputs": []
    },
    {
      "cell_type": "code",
      "metadata": {
        "id": "GruhlppKFbF5"
      },
      "source": [
        "predictions=model.predict(train_input)\n",
        "predictions = predictions.round().astype('float')\n",
        "predictions"
      ],
      "execution_count": null,
      "outputs": []
    },
    {
      "cell_type": "code",
      "metadata": {
        "id": "rSFEscWOFbJy"
      },
      "source": [
        "from sklearn.metrics import accuracy_score\n",
        "Acc=accuracy_score(predictions, train_labels)\n",
        "print(Acc)"
      ],
      "execution_count": null,
      "outputs": []
    },
    {
      "cell_type": "markdown",
      "metadata": {
        "id": "JmXnjCH_AqaZ"
      },
      "source": [
        "**LSTM**"
      ]
    },
    {
      "cell_type": "code",
      "metadata": {
        "id": "WmhWxMt1HiJj"
      },
      "source": [
        "y_train= train['rating']\n",
        "X_train= train\n",
        "X_train.drop('rating', axis=1, inplace = True)\n",
        "\n",
        "y_test= test['rating']\n",
        "X_test= test\n",
        "X_test.drop('rating', axis=1, inplace = True)"
      ],
      "execution_count": 43,
      "outputs": []
    },
    {
      "cell_type": "markdown",
      "metadata": {
        "id": "yiUo7cbQPlF4"
      },
      "source": [
        "**TOKENIZATION**"
      ]
    },
    {
      "cell_type": "code",
      "metadata": {
        "id": "jX_PJXxMHiRG"
      },
      "source": [
        "from keras.preprocessing.text import Tokenizer\n",
        "tokenizer = Tokenizer(num_words= 10000 )\n",
        "tokenizer.fit_on_texts(X_train[\"review_text\"])\n",
        "\n",
        "X_train['text_tok']  = tokenizer.texts_to_sequences(X_train['review_text'].values)\n",
        "X_test['text_tok']  = tokenizer.texts_to_sequences(X_test['review_text'].values)"
      ],
      "execution_count": 44,
      "outputs": []
    },
    {
      "cell_type": "markdown",
      "metadata": {
        "id": "ZzhM-I6mPo5r"
      },
      "source": [
        "**PADDING AND TRUNCATING**"
      ]
    },
    {
      "cell_type": "code",
      "metadata": {
        "id": "jwoFcxYyHiT1"
      },
      "source": [
        "from keras.preprocessing import sequence\n",
        "max_review_length = 1500\n",
        "X_train_pad = sequence.pad_sequences(X_train['text_tok'].values, maxlen=max_review_length , padding='post' )\n",
        "X_test_pad  = sequence.pad_sequences(X_test['text_tok'].values, maxlen=max_review_length , padding='post')"
      ],
      "execution_count": 45,
      "outputs": []
    },
    {
      "cell_type": "markdown",
      "metadata": {
        "id": "tb-2D42wQGjQ"
      },
      "source": [
        "**USING GLOVE VECTORS**"
      ]
    },
    {
      "cell_type": "code",
      "metadata": {
        "id": "YXLrVTI-HiWa"
      },
      "source": [
        "import tensorflow as tf\n",
        "import pickle\n",
        "with open(\"/content/drive/MyDrive/glove_vectors\", 'rb') as f:\n",
        "    glove = pickle.load(f)\n",
        "    glove_words =  set(glove.keys())"
      ],
      "execution_count": 49,
      "outputs": []
    },
    {
      "cell_type": "code",
      "metadata": {
        "id": "MRpdEkkQIqFc"
      },
      "source": [
        "from numpy import zeros\n",
        "max_vocabulary = len(tokenizer.word_index)\n",
        "embedding_matrix = zeros((max_vocabulary+1, 300))\n",
        "for word, i in tokenizer.word_index.items():\n",
        "  if word in glove_words:\n",
        "    embedding_vector = glove[word]\n",
        "    embedding_matrix[i] = embedding_vector"
      ],
      "execution_count": 50,
      "outputs": []
    },
    {
      "cell_type": "code",
      "metadata": {
        "id": "bR7q1tI4IqIZ"
      },
      "source": [
        "from keras.utils import np_utils\n",
        "X_train = X_train_pad\n",
        "X_test = X_test_pad\n",
        "Y_train = y_train\n",
        "Y_test = y_test"
      ],
      "execution_count": 51,
      "outputs": []
    },
    {
      "cell_type": "markdown",
      "metadata": {
        "id": "Pls5WiBHQ4jD"
      },
      "source": [
        "**DEFINING THE MODEL ARCHITECTURE**"
      ]
    },
    {
      "cell_type": "code",
      "metadata": {
        "id": "Cg7Ywks9IqLO",
        "colab": {
          "base_uri": "https://localhost:8080/"
        },
        "outputId": "2bc95818-2798-40f1-fdce-1a08c3d33ada"
      },
      "source": [
        "from tensorflow.keras.layers import Dense, Input , Dropout,Flatten,concatenate,LSTM,Conv1D,BatchNormalization,Bidirectional\n",
        "from tensorflow.keras.regularizers import l2\n",
        "from keras.layers.embeddings import Embedding\n",
        "from tensorflow.keras.models import Model,load_model\n",
        "\n",
        "\n",
        "review = Input(shape=(1500,), name='review_input')\n",
        "\n",
        "X = Embedding(output_dim=300, input_dim=max_vocabulary+1, input_length=1460 , weights=[embedding_matrix],trainable=False)(review)\n",
        "lstm_review = Bidirectional(LSTM(100))(X)\n",
        "\n",
        "model = Dropout(0.5)(lstm_review)\n",
        "\n",
        "model = Flatten()(model)\n",
        "\n",
        "model = Dense(64,activation=\"relu\",kernel_initializer=\"he_normal\" ,kernel_regularizer=l2(0.001))(model)\n",
        "\n",
        "model = Dense(8,activation=\"relu\",kernel_initializer=\"he_normal\" ,kernel_regularizer=l2(0.001))(model)\n",
        "\n",
        "output = Dense(1, activation='sigmoid', name='output')(model)\n",
        "\n",
        "model = Model(inputs=[review ],outputs=[output])\n",
        "\n",
        "print(model.summary())"
      ],
      "execution_count": 52,
      "outputs": [
        {
          "output_type": "stream",
          "name": "stdout",
          "text": [
            "Model: \"model\"\n",
            "_________________________________________________________________\n",
            " Layer (type)                Output Shape              Param #   \n",
            "=================================================================\n",
            " review_input (InputLayer)   [(None, 1500)]            0         \n",
            "                                                                 \n",
            " embedding (Embedding)       (None, 1500, 300)         9794700   \n",
            "                                                                 \n",
            " bidirectional (Bidirectiona  (None, 200)              320800    \n",
            " l)                                                              \n",
            "                                                                 \n",
            " dropout (Dropout)           (None, 200)               0         \n",
            "                                                                 \n",
            " flatten (Flatten)           (None, 200)               0         \n",
            "                                                                 \n",
            " dense (Dense)               (None, 64)                12864     \n",
            "                                                                 \n",
            " dense_1 (Dense)             (None, 8)                 520       \n",
            "                                                                 \n",
            " output (Dense)              (None, 1)                 9         \n",
            "                                                                 \n",
            "=================================================================\n",
            "Total params: 10,128,893\n",
            "Trainable params: 334,193\n",
            "Non-trainable params: 9,794,700\n",
            "_________________________________________________________________\n",
            "None\n"
          ]
        }
      ]
    },
    {
      "cell_type": "markdown",
      "metadata": {
        "id": "CZuScW_2pLfR"
      },
      "source": [
        "**PLOTTING THE MODEL**"
      ]
    },
    {
      "cell_type": "code",
      "metadata": {
        "id": "_7KYEGGJR_vx",
        "colab": {
          "base_uri": "https://localhost:8080/",
          "height": 757
        },
        "outputId": "d14cbe05-430d-4ec0-e9e2-a63ba2d65c4b"
      },
      "source": [
        "from tensorflow.keras.utils import plot_model\n",
        "plot_model(model)"
      ],
      "execution_count": 53,
      "outputs": [
        {
          "output_type": "execute_result",
          "data": {
            "image/png": "[encoded data removed]",
            "text/plain": [
              "<IPython.core.display.Image object>"
            ]
          },
          "metadata": {},
          "execution_count": 53
        }
      ]
    },
    {
      "cell_type": "markdown",
      "metadata": {
        "id": "cP65gfH-pR0i"
      },
      "source": [
        "**USING FIT FUNCTION TO CREATE BARCHES AND TRAIN THE MODEL**"
      ]
    },
    {
      "cell_type": "code",
      "metadata": {
        "id": "LyeHv5vKIqN0",
        "colab": {
          "base_uri": "https://localhost:8080/"
        },
        "outputId": "bc0aba6b-496a-41d9-8a7e-fa5f0da4d165"
      },
      "source": [
        "model.compile(optimizer='adam', loss='binary_crossentropy', metrics=['accuracy'])\n",
        "history = model.fit(X_train, Y_train, batch_size=64, epochs=20, verbose=1, validation_data=(X_test, Y_test))"
      ],
      "execution_count": 54,
      "outputs": [
        {
          "metadata": {
            "tags": null
          },
          "name": "stdout",
          "output_type": "stream",
          "text": [
            "Epoch 1/20\n",
            "88/88 [==============================] - 52s 512ms/step - loss: 0.7071 - accuracy: 0.6768 - val_loss: 0.6256 - val_accuracy: 0.7529\n",
            "Epoch 2/20\n",
            "88/88 [==============================] - 44s 501ms/step - loss: 0.5783 - accuracy: 0.7636 - val_loss: 0.5573 - val_accuracy: 0.7487\n",
            "Epoch 3/20\n",
            "88/88 [==============================] - 44s 499ms/step - loss: 0.5082 - accuracy: 0.7929 - val_loss: 0.5472 - val_accuracy: 0.7504\n",
            "Epoch 4/20\n",
            "88/88 [==============================] - 44s 501ms/step - loss: 0.4662 - accuracy: 0.8143 - val_loss: 0.5271 - val_accuracy: 0.7692\n",
            "Epoch 5/20\n",
            "88/88 [==============================] - 44s 499ms/step - loss: 0.4260 - accuracy: 0.8316 - val_loss: 0.5109 - val_accuracy: 0.7883\n",
            "Epoch 6/20\n",
            "88/88 [==============================] - 44s 501ms/step - loss: 0.3966 - accuracy: 0.8430 - val_loss: 0.4612 - val_accuracy: 0.8000\n",
            "Epoch 7/20\n",
            "88/88 [==============================] - 44s 502ms/step - loss: 0.3639 - accuracy: 0.8577 - val_loss: 0.5229 - val_accuracy: 0.7800\n",
            "Epoch 8/20\n",
            "88/88 [==============================] - 44s 498ms/step - loss: 0.3364 - accuracy: 0.8686 - val_loss: 0.4823 - val_accuracy: 0.8154\n",
            "Epoch 9/20\n",
            "88/88 [==============================] - 44s 501ms/step - loss: 0.2952 - accuracy: 0.8898 - val_loss: 0.4758 - val_accuracy: 0.8129\n",
            "Epoch 10/20\n",
            "88/88 [==============================] - 44s 499ms/step - loss: 0.2495 - accuracy: 0.9120 - val_loss: 0.5199 - val_accuracy: 0.8121\n",
            "Epoch 11/20\n",
            "88/88 [==============================] - 44s 502ms/step - loss: 0.2197 - accuracy: 0.9218 - val_loss: 0.5716 - val_accuracy: 0.8021\n",
            "Epoch 12/20\n",
            "88/88 [==============================] - 44s 502ms/step - loss: 0.2017 - accuracy: 0.9291 - val_loss: 0.5930 - val_accuracy: 0.7925\n",
            "Epoch 13/20\n",
            "88/88 [==============================] - 44s 500ms/step - loss: 0.1525 - accuracy: 0.9507 - val_loss: 0.6467 - val_accuracy: 0.8042\n",
            "Epoch 14/20\n",
            "88/88 [==============================] - 44s 502ms/step - loss: 0.2131 - accuracy: 0.9237 - val_loss: 0.6127 - val_accuracy: 0.8121\n",
            "Epoch 15/20\n",
            "88/88 [==============================] - 44s 501ms/step - loss: 0.1573 - accuracy: 0.9459 - val_loss: 0.6753 - val_accuracy: 0.8075\n",
            "Epoch 16/20\n",
            "88/88 [==============================] - 44s 502ms/step - loss: 0.1168 - accuracy: 0.9664 - val_loss: 0.7494 - val_accuracy: 0.8046\n",
            "Epoch 17/20\n",
            "88/88 [==============================] - 44s 502ms/step - loss: 0.1127 - accuracy: 0.9677 - val_loss: 0.7771 - val_accuracy: 0.8087\n",
            "Epoch 18/20\n",
            "88/88 [==============================] - 44s 502ms/step - loss: 0.0665 - accuracy: 0.9829 - val_loss: 0.8987 - val_accuracy: 0.8046\n",
            "Epoch 19/20\n",
            "88/88 [==============================] - 44s 503ms/step - loss: 0.0553 - accuracy: 0.9893 - val_loss: 0.9187 - val_accuracy: 0.7992\n",
            "Epoch 20/20\n",
            "88/88 [==============================] - 44s 502ms/step - loss: 0.0740 - accuracy: 0.9809 - val_loss: 0.8046 - val_accuracy: 0.8054\n"
          ]
        }
      ]
    },
    {
      "cell_type": "markdown",
      "metadata": {
        "id": "eBEownuSp1HV"
      },
      "source": [
        "**SAVING THE MODEL**"
      ]
    },
    {
      "cell_type": "code",
      "metadata": {
        "id": "JqN6xBEGIqQL"
      },
      "source": [
        "model.save('/content/drive/MyDrive/Kaggle/LSTM_SA.h5')"
      ],
      "execution_count": 57,
      "outputs": []
    },
    {
      "cell_type": "markdown",
      "metadata": {
        "id": "zhHjtoa2p7mO"
      },
      "source": [
        "**LOADING THE MODEL**"
      ]
    },
    {
      "cell_type": "code",
      "metadata": {
        "id": "iL6BwCYYIqSX"
      },
      "source": [
        "path='/content/drive/MyDrive/Kaggle/LSTM_SA.h5'\n",
        "model=tf.keras.models.load_model((path))"
      ],
      "execution_count": 58,
      "outputs": []
    },
    {
      "cell_type": "markdown",
      "metadata": {
        "id": "9vgJG29gqe12"
      },
      "source": [
        "**PREDICTING THE TEST RESULT**"
      ]
    },
    {
      "cell_type": "code",
      "metadata": {
        "id": "w1yRPJjKHiZG",
        "colab": {
          "base_uri": "https://localhost:8080/"
        },
        "outputId": "46720a11-464c-48e1-9844-605f72ea971a"
      },
      "source": [
        "predictions=model.predict(X_test)\n",
        "predictions = predictions.round().astype('float')\n",
        "predictions"
      ],
      "execution_count": 59,
      "outputs": [
        {
          "output_type": "execute_result",
          "data": {
            "text/plain": [
              "array([[1.],\n",
              "       [1.],\n",
              "       [0.],\n",
              "       ...,\n",
              "       [0.],\n",
              "       [1.],\n",
              "       [0.]])"
            ]
          },
          "metadata": {},
          "execution_count": 59
        }
      ]
    },
    {
      "cell_type": "markdown",
      "metadata": {
        "id": "Sss_mx9equ_h"
      },
      "source": [
        "**ACCURACY OF THE TEST RESULT**"
      ]
    },
    {
      "cell_type": "code",
      "metadata": {
        "id": "Ri2QgPpa3XaW",
        "colab": {
          "base_uri": "https://localhost:8080/"
        },
        "outputId": "240412f2-d40e-42e2-f1f6-89406ce86683"
      },
      "source": [
        "from sklearn.metrics import accuracy_score\n",
        "Acc=accuracy_score(predictions, Y_test)\n",
        "print(Acc)"
      ],
      "execution_count": 60,
      "outputs": [
        {
          "output_type": "stream",
          "name": "stdout",
          "text": [
            "0.8054166666666667\n"
          ]
        }
      ]
    },
    {
      "cell_type": "markdown",
      "metadata": {
        "id": "Itsv4lwHq5D2"
      },
      "source": [
        "**PREDICTING THE TRAIN RESULT**"
      ]
    },
    {
      "cell_type": "code",
      "metadata": {
        "id": "DiYtdqwU3Xfx",
        "colab": {
          "base_uri": "https://localhost:8080/"
        },
        "outputId": "ab36290c-211c-44fc-c321-bdcc77df8f4b"
      },
      "source": [
        "predictions=model.predict(X_train)\n",
        "predictions = predictions.round().astype('float')\n",
        "predictions"
      ],
      "execution_count": 61,
      "outputs": [
        {
          "output_type": "execute_result",
          "data": {
            "text/plain": [
              "array([[1.],\n",
              "       [1.],\n",
              "       [1.],\n",
              "       ...,\n",
              "       [0.],\n",
              "       [0.],\n",
              "       [0.]])"
            ]
          },
          "metadata": {},
          "execution_count": 61
        }
      ]
    },
    {
      "cell_type": "markdown",
      "metadata": {
        "id": "rstwDOyZrEzN"
      },
      "source": [
        "**ACCURACY OF THE TRAIN RESULT**"
      ]
    },
    {
      "cell_type": "code",
      "metadata": {
        "id": "r2ZtEeoN3Xjg",
        "colab": {
          "base_uri": "https://localhost:8080/"
        },
        "outputId": "327d0393-dd5e-4087-cfa0-3513058f38d9"
      },
      "source": [
        "from sklearn.metrics import accuracy_score\n",
        "Acc=accuracy_score(predictions, Y_train)\n",
        "print(Acc)"
      ],
      "execution_count": 62,
      "outputs": [
        {
          "output_type": "stream",
          "name": "stdout",
          "text": [
            "0.9973214285714286\n"
          ]
        }
      ]
    }
  ]
}