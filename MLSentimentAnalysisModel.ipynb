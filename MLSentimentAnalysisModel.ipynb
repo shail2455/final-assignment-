{
  "nbformat": 4,
  "nbformat_minor": 0,
  "metadata": {
    "colab": {
      "name": "MLSentimentAnalysisModel.ipynb",
      "provenance": []
    },
    "kernelspec": {
      "name": "python3",
      "display_name": "Python 3"
    },
    "language_info": {
      "name": "python"
    },
    "accelerator": "GPU"
  },
  "cells": [
    {
      "cell_type": "markdown",
      "metadata": {
        "id": "t3Su20HqFfGE"
      },
      "source": [
        "**IMPORTING THE NECESSARY LIBRARIES**"
      ]
    },
    {
      "cell_type": "code",
      "metadata": {
        "id": "YgRiIVfVSgak"
      },
      "source": [
        "import pandas as pd\n",
        "import numpy as np\n",
        "import matplotlib.pyplot as plt\n",
        "import seaborn as sns\n",
        "%matplotlib inline"
      ],
      "execution_count": 1,
      "outputs": []
    },
    {
      "cell_type": "markdown",
      "metadata": {
        "id": "mP56p70sFnbg"
      },
      "source": [
        "**READING THE CSV FILES USING PANDAS**"
      ]
    },
    {
      "cell_type": "code",
      "metadata": {
        "id": "XpVBm4npF7Cx"
      },
      "source": [
        "df_books_neg=pd.read_csv('/content/negative_books.csv')\n",
        "df_books_pos=pd.read_csv('/content/positive_books.csv')\n",
        "df_dvd_neg=pd.read_csv('/content/negative_dvd.csv')\n",
        "df_dvd_pos=pd.read_csv('/content/positive_dvd.csv')\n",
        "df_ele_neg=pd.read_csv('/content/negative_ele.csv')\n",
        "df_ele_pos=pd.read_csv('/content/positive_ele.csv')\n",
        "df_kit_neg=pd.read_csv('/content/negative_kit.csv')\n",
        "df_kit_pos=pd.read_csv('/content/positive_kit.csv')"
      ],
      "execution_count": 2,
      "outputs": []
    },
    {
      "cell_type": "code",
      "metadata": {
        "id": "GWKndHR1F7II",
        "colab": {
          "base_uri": "https://localhost:8080/",
          "height": 293
        },
        "outputId": "4a41a72e-8df5-4963-97ad-4ac01547f82b"
      },
      "source": [
        "df_books_neg.head()"
      ],
      "execution_count": 3,
      "outputs": [
        {
          "output_type": "execute_result",
          "data": {
            "text/html": [
              "<div>\n",
              "<style scoped>\n",
              "    .dataframe tbody tr th:only-of-type {\n",
              "        vertical-align: middle;\n",
              "    }\n",
              "\n",
              "    .dataframe tbody tr th {\n",
              "        vertical-align: top;\n",
              "    }\n",
              "\n",
              "    .dataframe thead th {\n",
              "        text-align: right;\n",
              "    }\n",
              "</style>\n",
              "<table border=\"1\" class=\"dataframe\">\n",
              "  <thead>\n",
              "    <tr style=\"text-align: right;\">\n",
              "      <th></th>\n",
              "      <th>unique_id</th>\n",
              "      <th>asin</th>\n",
              "      <th>product_name</th>\n",
              "      <th>product_type</th>\n",
              "      <th>helpful</th>\n",
              "      <th>rating</th>\n",
              "      <th>title</th>\n",
              "      <th>date</th>\n",
              "      <th>reviewer</th>\n",
              "      <th>reviewer_location</th>\n",
              "      <th>review_text</th>\n",
              "    </tr>\n",
              "  </thead>\n",
              "  <tbody>\n",
              "    <tr>\n",
              "      <th>0</th>\n",
              "      <td>0312355645:horrible_book,_horrible.:mark_gospri</td>\n",
              "      <td>0312355645</td>\n",
              "      <td>Running with Scissors: A Memoir: Books: August...</td>\n",
              "      <td>books</td>\n",
              "      <td>4 of 9</td>\n",
              "      <td>1.0</td>\n",
              "      <td>Horrible book, horrible.</td>\n",
              "      <td>November 14, 2006</td>\n",
              "      <td>Mark Gospri</td>\n",
              "      <td>NaN</td>\n",
              "      <td>THis book was horrible.  If it was possible to...</td>\n",
              "    </tr>\n",
              "    <tr>\n",
              "      <th>1</th>\n",
              "      <td>1559278676:shallow_self-indulgence:joseph_s._p...</td>\n",
              "      <td>1559278676</td>\n",
              "      <td>Running with Scissors: A Memoir: Books: August...</td>\n",
              "      <td>books</td>\n",
              "      <td>1 of 6</td>\n",
              "      <td>1.0</td>\n",
              "      <td>shallow self-indulgence</td>\n",
              "      <td>November 15, 2006</td>\n",
              "      <td>Joseph S. Perrott \"avid reader\"</td>\n",
              "      <td>philadelphia, pa. United States</td>\n",
              "      <td>I like to use the Amazon reviews when purchasi...</td>\n",
              "    </tr>\n",
              "    <tr>\n",
              "      <th>2</th>\n",
              "      <td>1559278676:horrible_book,_horrible.:mark_gospri</td>\n",
              "      <td>1559278676</td>\n",
              "      <td>Running with Scissors: A Memoir: Books: August...</td>\n",
              "      <td>books</td>\n",
              "      <td>4 of 9</td>\n",
              "      <td>1.0</td>\n",
              "      <td>Horrible book, horrible.</td>\n",
              "      <td>November 14, 2006</td>\n",
              "      <td>Mark Gospri</td>\n",
              "      <td>NaN</td>\n",
              "      <td>THis book was horrible.  If it was possible to...</td>\n",
              "    </tr>\n",
              "    <tr>\n",
              "      <th>3</th>\n",
              "      <td>0425193373:disappointment:reader_\"reader\"</td>\n",
              "      <td>0425193373</td>\n",
              "      <td>Fierce Conversations: Achieving Sucess at Work...</td>\n",
              "      <td>books</td>\n",
              "      <td>10 of 13</td>\n",
              "      <td>1.0</td>\n",
              "      <td>Disappointment</td>\n",
              "      <td>March 13, 2006</td>\n",
              "      <td>Reader \"Reader\"</td>\n",
              "      <td>NaN</td>\n",
              "      <td>I'm not sure who's writing these reviews, but ...</td>\n",
              "    </tr>\n",
              "    <tr>\n",
              "      <th>4</th>\n",
              "      <td>0142004030:a_disappointing_mess:a._ross</td>\n",
              "      <td>0142004030</td>\n",
              "      <td>Lost in a Good Book (Thursday Next Novels): Bo...</td>\n",
              "      <td>books</td>\n",
              "      <td>6 of 7</td>\n",
              "      <td>2.0</td>\n",
              "      <td>A Disappointing Mess</td>\n",
              "      <td>May 17, 2006</td>\n",
              "      <td>A. Ross</td>\n",
              "      <td>Washington, DC</td>\n",
              "      <td>I picked up the first book in this series (The...</td>\n",
              "    </tr>\n",
              "  </tbody>\n",
              "</table>\n",
              "</div>"
            ],
            "text/plain": [
              "                                           unique_id  ...                                        review_text\n",
              "0    0312355645:horrible_book,_horrible.:mark_gospri  ...  THis book was horrible.  If it was possible to...\n",
              "1  1559278676:shallow_self-indulgence:joseph_s._p...  ...  I like to use the Amazon reviews when purchasi...\n",
              "2    1559278676:horrible_book,_horrible.:mark_gospri  ...  THis book was horrible.  If it was possible to...\n",
              "3          0425193373:disappointment:reader_\"reader\"  ...  I'm not sure who's writing these reviews, but ...\n",
              "4            0142004030:a_disappointing_mess:a._ross  ...  I picked up the first book in this series (The...\n",
              "\n",
              "[5 rows x 11 columns]"
            ]
          },
          "metadata": {},
          "execution_count": 3
        }
      ]
    },
    {
      "cell_type": "code",
      "metadata": {
        "id": "wfwEYaiCF7Js",
        "colab": {
          "base_uri": "https://localhost:8080/",
          "height": 293
        },
        "outputId": "9881f226-eb84-4b68-e251-5f54e6ff0ee2"
      },
      "source": [
        "df_books_pos.head()"
      ],
      "execution_count": 4,
      "outputs": [
        {
          "output_type": "execute_result",
          "data": {
            "text/html": [
              "<div>\n",
              "<style scoped>\n",
              "    .dataframe tbody tr th:only-of-type {\n",
              "        vertical-align: middle;\n",
              "    }\n",
              "\n",
              "    .dataframe tbody tr th {\n",
              "        vertical-align: top;\n",
              "    }\n",
              "\n",
              "    .dataframe thead th {\n",
              "        text-align: right;\n",
              "    }\n",
              "</style>\n",
              "<table border=\"1\" class=\"dataframe\">\n",
              "  <thead>\n",
              "    <tr style=\"text-align: right;\">\n",
              "      <th></th>\n",
              "      <th>unique_id</th>\n",
              "      <th>asin</th>\n",
              "      <th>product_name</th>\n",
              "      <th>product_type</th>\n",
              "      <th>helpful</th>\n",
              "      <th>rating</th>\n",
              "      <th>title</th>\n",
              "      <th>date</th>\n",
              "      <th>reviewer</th>\n",
              "      <th>reviewer_location</th>\n",
              "      <th>review_text</th>\n",
              "    </tr>\n",
              "  </thead>\n",
              "  <tbody>\n",
              "    <tr>\n",
              "      <th>0</th>\n",
              "      <td>0785758968:one_of_the_best_crichton_novels:jos...</td>\n",
              "      <td>0785758968</td>\n",
              "      <td>Sphere: Books: Michael Crichton</td>\n",
              "      <td>books</td>\n",
              "      <td>0 of 1</td>\n",
              "      <td>5.0</td>\n",
              "      <td>One of the best Crichton novels</td>\n",
              "      <td>July 1, 2006</td>\n",
              "      <td>Joseph M</td>\n",
              "      <td>Colorado, USA</td>\n",
              "      <td>Sphere by Michael Crichton is an excellant nov...</td>\n",
              "    </tr>\n",
              "    <tr>\n",
              "      <th>1</th>\n",
              "      <td>0452279550:the_medicine_of_the_future:wafa_rashed</td>\n",
              "      <td>0452279550</td>\n",
              "      <td>Healing from the Heart: A Leading Surgeon Comb...</td>\n",
              "      <td>books</td>\n",
              "      <td>34 of 41</td>\n",
              "      <td>4.0</td>\n",
              "      <td>The Medicine of the Future</td>\n",
              "      <td>November 6, 2002</td>\n",
              "      <td>Wafa Rashed</td>\n",
              "      <td>Jabriya, KUWAIT</td>\n",
              "      <td>Dr. Oz is an accomplished heart surgeon in the...</td>\n",
              "    </tr>\n",
              "    <tr>\n",
              "      <th>2</th>\n",
              "      <td>1599620065:beautiful!:sarah_silva_\"sar\"</td>\n",
              "      <td>1599620065</td>\n",
              "      <td>Mythology: DC Comics Art of Alex Ross 2007 Cal...</td>\n",
              "      <td>books</td>\n",
              "      <td>NaN</td>\n",
              "      <td>5.0</td>\n",
              "      <td>Beautiful!</td>\n",
              "      <td>June 13, 2006</td>\n",
              "      <td>Sarah Silva \"Sar\"</td>\n",
              "      <td>San Diego, CA USA</td>\n",
              "      <td>The most gorgeous artwork in comic books. Cont...</td>\n",
              "    </tr>\n",
              "    <tr>\n",
              "      <th>3</th>\n",
              "      <td>0743277724:for_lovers_of_robicheaux:g._rousseau</td>\n",
              "      <td>0743277724</td>\n",
              "      <td>Pegasus Descending: A Dave Robicheaux Novel (D...</td>\n",
              "      <td>books</td>\n",
              "      <td>1 of 1</td>\n",
              "      <td>4.0</td>\n",
              "      <td>For lovers of Robicheaux</td>\n",
              "      <td>November 2, 2006</td>\n",
              "      <td>G. Rousseau</td>\n",
              "      <td>Finistere, France</td>\n",
              "      <td>This book is for lovers of Robicheaux.  His de...</td>\n",
              "    </tr>\n",
              "    <tr>\n",
              "      <th>4</th>\n",
              "      <td>061318114X:excellent_and_broad_survey_of_the_d...</td>\n",
              "      <td>061318114X</td>\n",
              "      <td>Guns, Germs, and Steel: The Fates of Human Soc...</td>\n",
              "      <td>books</td>\n",
              "      <td>7 of 9</td>\n",
              "      <td>5.0</td>\n",
              "      <td>Excellent and broad survey of the development ...</td>\n",
              "      <td>October 6, 2006</td>\n",
              "      <td>Patrick D. Goonan \"www.meaningful-life.us\"</td>\n",
              "      <td>Pleasanton, CA</td>\n",
              "      <td>This is going to be a short and sweet review b...</td>\n",
              "    </tr>\n",
              "  </tbody>\n",
              "</table>\n",
              "</div>"
            ],
            "text/plain": [
              "                                           unique_id  ...                                        review_text\n",
              "0  0785758968:one_of_the_best_crichton_novels:jos...  ...  Sphere by Michael Crichton is an excellant nov...\n",
              "1  0452279550:the_medicine_of_the_future:wafa_rashed  ...  Dr. Oz is an accomplished heart surgeon in the...\n",
              "2            1599620065:beautiful!:sarah_silva_\"sar\"  ...  The most gorgeous artwork in comic books. Cont...\n",
              "3    0743277724:for_lovers_of_robicheaux:g._rousseau  ...  This book is for lovers of Robicheaux.  His de...\n",
              "4  061318114X:excellent_and_broad_survey_of_the_d...  ...  This is going to be a short and sweet review b...\n",
              "\n",
              "[5 rows x 11 columns]"
            ]
          },
          "metadata": {},
          "execution_count": 4
        }
      ]
    },
    {
      "cell_type": "code",
      "metadata": {
        "id": "xkE_kaF3F7MT",
        "colab": {
          "base_uri": "https://localhost:8080/",
          "height": 293
        },
        "outputId": "886481ac-3d3e-4aff-f3bd-cf9cf093b585"
      },
      "source": [
        "df_dvd_neg.head()"
      ],
      "execution_count": 5,
      "outputs": [
        {
          "output_type": "execute_result",
          "data": {
            "text/html": [
              "<div>\n",
              "<style scoped>\n",
              "    .dataframe tbody tr th:only-of-type {\n",
              "        vertical-align: middle;\n",
              "    }\n",
              "\n",
              "    .dataframe tbody tr th {\n",
              "        vertical-align: top;\n",
              "    }\n",
              "\n",
              "    .dataframe thead th {\n",
              "        text-align: right;\n",
              "    }\n",
              "</style>\n",
              "<table border=\"1\" class=\"dataframe\">\n",
              "  <thead>\n",
              "    <tr style=\"text-align: right;\">\n",
              "      <th></th>\n",
              "      <th>unique_id</th>\n",
              "      <th>asin</th>\n",
              "      <th>product_name</th>\n",
              "      <th>product_type</th>\n",
              "      <th>helpful</th>\n",
              "      <th>rating</th>\n",
              "      <th>title</th>\n",
              "      <th>date</th>\n",
              "      <th>reviewer</th>\n",
              "      <th>reviewer_location</th>\n",
              "      <th>review_text</th>\n",
              "    </tr>\n",
              "  </thead>\n",
              "  <tbody>\n",
              "    <tr>\n",
              "      <th>0</th>\n",
              "      <td>B00064LJVE:one_of_the_worst_movies_i_have_ever...</td>\n",
              "      <td>B00064LJVE</td>\n",
              "      <td>The Village (Widescreen Edition) (Vista Series...</td>\n",
              "      <td>dvd</td>\n",
              "      <td>0 of 4</td>\n",
              "      <td>1.0</td>\n",
              "      <td>One of the worst movies I have ever seen.</td>\n",
              "      <td>October 29, 2006</td>\n",
              "      <td>Fer360</td>\n",
              "      <td>New England, USA</td>\n",
              "      <td>This entire movie could have run in only 20 mi...</td>\n",
              "    </tr>\n",
              "    <tr>\n",
              "      <th>1</th>\n",
              "      <td>B0000TG9E2:another_classic,_ruined_by_disney:p...</td>\n",
              "      <td>B0000TG9E2</td>\n",
              "      <td>Alice in Wonderland (Masterpiece Edition): DVD...</td>\n",
              "      <td>dvd</td>\n",
              "      <td>2 of 25</td>\n",
              "      <td>1.0</td>\n",
              "      <td>Another classic, ruined by Disney</td>\n",
              "      <td>July 1, 2006</td>\n",
              "      <td>poopear \"i eat $h!7\"</td>\n",
              "      <td>Acidville, CA</td>\n",
              "      <td>If you are looking for a good movie to buy for...</td>\n",
              "    </tr>\n",
              "    <tr>\n",
              "      <th>2</th>\n",
              "      <td>B000BYA4F6:fun_to_watch:t._cole_\"mrsavidreader\"</td>\n",
              "      <td>B000BYA4F6</td>\n",
              "      <td>Sabrina Bryan: Byou - The Hot New Dance Workou...</td>\n",
              "      <td>dvd</td>\n",
              "      <td>9 of 12</td>\n",
              "      <td>2.0</td>\n",
              "      <td>Fun to Watch</td>\n",
              "      <td>March 28, 2006</td>\n",
              "      <td>T. Cole \"mrsavidreader\"</td>\n",
              "      <td>Woodbridge, VA</td>\n",
              "      <td>Fun to watch but my 9 1/2 yr. old daughter cou...</td>\n",
              "    </tr>\n",
              "    <tr>\n",
              "      <th>3</th>\n",
              "      <td>B00006IUJ1:did_we_see_the_same_movie?:kelly_tu...</td>\n",
              "      <td>B00006IUJ1</td>\n",
              "      <td>The Diamond Arm: DVD: Yuri Nikulin,Nina Grebes...</td>\n",
              "      <td>dvd</td>\n",
              "      <td>3 of 25</td>\n",
              "      <td>2.0</td>\n",
              "      <td>Did we see the same movie?</td>\n",
              "      <td>February 16, 2005</td>\n",
              "      <td>Kelly Turner \"Saucybetty\"</td>\n",
              "      <td>Palos Verdes Estates, CA</td>\n",
              "      <td>Every review I've read about this movie pops a...</td>\n",
              "    </tr>\n",
              "    <tr>\n",
              "      <th>4</th>\n",
              "      <td>B000GFLKF8:not_too_impressed:jeffrey_a._thompson</td>\n",
              "      <td>B000GFLKF8</td>\n",
              "      <td>Inside Man (Widescreen Edition): DVD: Denzel W...</td>\n",
              "      <td>dvd</td>\n",
              "      <td>0 of 1</td>\n",
              "      <td>2.0</td>\n",
              "      <td>Not too impressed</td>\n",
              "      <td>November 8, 2006</td>\n",
              "      <td>Jeffrey A. Thompson</td>\n",
              "      <td>Iowa City, IA USA</td>\n",
              "      <td>The acting was very good. The pace was adequat...</td>\n",
              "    </tr>\n",
              "  </tbody>\n",
              "</table>\n",
              "</div>"
            ],
            "text/plain": [
              "                                           unique_id  ...                                        review_text\n",
              "0  B00064LJVE:one_of_the_worst_movies_i_have_ever...  ...  This entire movie could have run in only 20 mi...\n",
              "1  B0000TG9E2:another_classic,_ruined_by_disney:p...  ...  If you are looking for a good movie to buy for...\n",
              "2    B000BYA4F6:fun_to_watch:t._cole_\"mrsavidreader\"  ...  Fun to watch but my 9 1/2 yr. old daughter cou...\n",
              "3  B00006IUJ1:did_we_see_the_same_movie?:kelly_tu...  ...  Every review I've read about this movie pops a...\n",
              "4   B000GFLKF8:not_too_impressed:jeffrey_a._thompson  ...  The acting was very good. The pace was adequat...\n",
              "\n",
              "[5 rows x 11 columns]"
            ]
          },
          "metadata": {},
          "execution_count": 5
        }
      ]
    },
    {
      "cell_type": "code",
      "metadata": {
        "id": "F5FvV2HGF7O2",
        "colab": {
          "base_uri": "https://localhost:8080/",
          "height": 293
        },
        "outputId": "c6fd5714-fe4c-489f-c7ca-076f5a0c2ca5"
      },
      "source": [
        "df_dvd_pos.head()"
      ],
      "execution_count": 6,
      "outputs": [
        {
          "output_type": "execute_result",
          "data": {
            "text/html": [
              "<div>\n",
              "<style scoped>\n",
              "    .dataframe tbody tr th:only-of-type {\n",
              "        vertical-align: middle;\n",
              "    }\n",
              "\n",
              "    .dataframe tbody tr th {\n",
              "        vertical-align: top;\n",
              "    }\n",
              "\n",
              "    .dataframe thead th {\n",
              "        text-align: right;\n",
              "    }\n",
              "</style>\n",
              "<table border=\"1\" class=\"dataframe\">\n",
              "  <thead>\n",
              "    <tr style=\"text-align: right;\">\n",
              "      <th></th>\n",
              "      <th>unique_id</th>\n",
              "      <th>asin</th>\n",
              "      <th>product_name</th>\n",
              "      <th>product_type</th>\n",
              "      <th>helpful</th>\n",
              "      <th>rating</th>\n",
              "      <th>title</th>\n",
              "      <th>date</th>\n",
              "      <th>reviewer</th>\n",
              "      <th>reviewer_location</th>\n",
              "      <th>review_text</th>\n",
              "    </tr>\n",
              "  </thead>\n",
              "  <tbody>\n",
              "    <tr>\n",
              "      <th>0</th>\n",
              "      <td>B000E33VZE:skip_color,_go_directly_to_the_blac...</td>\n",
              "      <td>B000E33VZE</td>\n",
              "      <td>I Dream of Jeannie - The Complete First Season...</td>\n",
              "      <td>dvd</td>\n",
              "      <td>3 of 3</td>\n",
              "      <td>5.0</td>\n",
              "      <td>Skip Color, Go Directly To The Black-And-White</td>\n",
              "      <td>September 8, 2006</td>\n",
              "      <td>The Angry American \"Serious Reader\"</td>\n",
              "      <td>Charlotte, NC USA</td>\n",
              "      <td>I'm not sure why Sony, which now owns I Dream ...</td>\n",
              "    </tr>\n",
              "    <tr>\n",
              "      <th>1</th>\n",
              "      <td>B0000TG9E2:best_american_animated_film_ever:ja...</td>\n",
              "      <td>B0000TG9E2</td>\n",
              "      <td>Alice in Wonderland (Masterpiece Edition): DVD...</td>\n",
              "      <td>dvd</td>\n",
              "      <td>2 of 3</td>\n",
              "      <td>5.0</td>\n",
              "      <td>Best American Animated Film Ever</td>\n",
              "      <td>August 31, 2006</td>\n",
              "      <td>Jason D. Fletcher \"Xmuzik\"</td>\n",
              "      <td>New Orleans</td>\n",
              "      <td>If you don't own this dvd you need to add it t...</td>\n",
              "    </tr>\n",
              "    <tr>\n",
              "      <th>2</th>\n",
              "      <td>0783240295:the_bone_collector:lyuba</td>\n",
              "      <td>0783240295</td>\n",
              "      <td>The Bone Collector: DVD: Olivia Birkelund,Dani...</td>\n",
              "      <td>dvd</td>\n",
              "      <td>1 of 1</td>\n",
              "      <td>4.0</td>\n",
              "      <td>The Bone Collector</td>\n",
              "      <td>June 19, 2006</td>\n",
              "      <td>Lyuba</td>\n",
              "      <td>NaN</td>\n",
              "      <td>Denzel Washington is great but Angelina Jolie ...</td>\n",
              "    </tr>\n",
              "    <tr>\n",
              "      <th>3</th>\n",
              "      <td>B000BVM1UK:_a_gem!:l._tawney_\"bookhaven\"</td>\n",
              "      <td>B000BVM1UK</td>\n",
              "      <td>The House of Eliott - Series 2: DVD: Barbara J...</td>\n",
              "      <td>dvd</td>\n",
              "      <td>5 of 5</td>\n",
              "      <td>5.0</td>\n",
              "      <td>a gem!</td>\n",
              "      <td>April 6, 2006</td>\n",
              "      <td>L. tawney \"bookhaven\"</td>\n",
              "      <td>NaN</td>\n",
              "      <td>I rediscovered this after a long time. This is...</td>\n",
              "    </tr>\n",
              "    <tr>\n",
              "      <th>4</th>\n",
              "      <td>B0000A98ZP:reminiscing.......:a_girl_\"diana\"</td>\n",
              "      <td>B0000A98ZP</td>\n",
              "      <td>The Breakfast Club (High School Reunion Collec...</td>\n",
              "      <td>dvd</td>\n",
              "      <td>NaN</td>\n",
              "      <td>5.0</td>\n",
              "      <td>Reminiscing.......</td>\n",
              "      <td>October 28, 2006</td>\n",
              "      <td>A Girl \"Diana\"</td>\n",
              "      <td>Torrington,  CT  USA</td>\n",
              "      <td>I bought this movie for my coming of age daugh...</td>\n",
              "    </tr>\n",
              "  </tbody>\n",
              "</table>\n",
              "</div>"
            ],
            "text/plain": [
              "                                           unique_id  ...                                        review_text\n",
              "0  B000E33VZE:skip_color,_go_directly_to_the_blac...  ...  I'm not sure why Sony, which now owns I Dream ...\n",
              "1  B0000TG9E2:best_american_animated_film_ever:ja...  ...  If you don't own this dvd you need to add it t...\n",
              "2                0783240295:the_bone_collector:lyuba  ...  Denzel Washington is great but Angelina Jolie ...\n",
              "3           B000BVM1UK:_a_gem!:l._tawney_\"bookhaven\"  ...  I rediscovered this after a long time. This is...\n",
              "4       B0000A98ZP:reminiscing.......:a_girl_\"diana\"  ...  I bought this movie for my coming of age daugh...\n",
              "\n",
              "[5 rows x 11 columns]"
            ]
          },
          "metadata": {},
          "execution_count": 6
        }
      ]
    },
    {
      "cell_type": "code",
      "metadata": {
        "id": "--LC22oQF7Rw",
        "colab": {
          "base_uri": "https://localhost:8080/",
          "height": 276
        },
        "outputId": "56794fa5-6572-4735-e72c-799770a22c0b"
      },
      "source": [
        "df_ele_neg.head()"
      ],
      "execution_count": 7,
      "outputs": [
        {
          "output_type": "execute_result",
          "data": {
            "text/html": [
              "<div>\n",
              "<style scoped>\n",
              "    .dataframe tbody tr th:only-of-type {\n",
              "        vertical-align: middle;\n",
              "    }\n",
              "\n",
              "    .dataframe tbody tr th {\n",
              "        vertical-align: top;\n",
              "    }\n",
              "\n",
              "    .dataframe thead th {\n",
              "        text-align: right;\n",
              "    }\n",
              "</style>\n",
              "<table border=\"1\" class=\"dataframe\">\n",
              "  <thead>\n",
              "    <tr style=\"text-align: right;\">\n",
              "      <th></th>\n",
              "      <th>unique_id</th>\n",
              "      <th>asin</th>\n",
              "      <th>product_name</th>\n",
              "      <th>product_type</th>\n",
              "      <th>helpful</th>\n",
              "      <th>rating</th>\n",
              "      <th>title</th>\n",
              "      <th>date</th>\n",
              "      <th>reviewer</th>\n",
              "      <th>reviewer_location</th>\n",
              "      <th>review_text</th>\n",
              "    </tr>\n",
              "  </thead>\n",
              "  <tbody>\n",
              "    <tr>\n",
              "      <th>0</th>\n",
              "      <td>B00005UKBG:bad:j._brodeur_\"disgusted_consumer\"</td>\n",
              "      <td>B00005UKBG</td>\n",
              "      <td>Atlantic 1316 CD Storage Case (110-Capacity, W...</td>\n",
              "      <td>electronics</td>\n",
              "      <td>15 of 16</td>\n",
              "      <td>2.0</td>\n",
              "      <td>bad</td>\n",
              "      <td>May 4, 2005</td>\n",
              "      <td>J. Brodeur \"disgusted consumer\"</td>\n",
              "      <td>NaN</td>\n",
              "      <td>cons\\ntips extremely easy on carpet and if you...</td>\n",
              "    </tr>\n",
              "    <tr>\n",
              "      <th>1</th>\n",
              "      <td>B00005UKBG:save_your_money!:heidi_myers</td>\n",
              "      <td>B00005UKBG</td>\n",
              "      <td>Atlantic 1316 CD Storage Case (110-Capacity, W...</td>\n",
              "      <td>electronics</td>\n",
              "      <td>4 of 4</td>\n",
              "      <td>1.0</td>\n",
              "      <td>Save your money!</td>\n",
              "      <td>March 18, 2004</td>\n",
              "      <td>Heidi Myers</td>\n",
              "      <td>Tampa, FL</td>\n",
              "      <td>It's a nice look, but it tips over very easily...</td>\n",
              "    </tr>\n",
              "    <tr>\n",
              "      <th>2</th>\n",
              "      <td>B0009O5MWI:horrible_dvd_player:m._martinez</td>\n",
              "      <td>B0009O5MWI</td>\n",
              "      <td>Philips HTS3400D/37 Home Theater System with D...</td>\n",
              "      <td>electronics</td>\n",
              "      <td>1 of 1</td>\n",
              "      <td>1.0</td>\n",
              "      <td>Horrible DVD player</td>\n",
              "      <td>June 23, 2006</td>\n",
              "      <td>M. Martinez</td>\n",
              "      <td>NaN</td>\n",
              "      <td>I have bought and returned three of these unit...</td>\n",
              "    </tr>\n",
              "    <tr>\n",
              "      <th>3</th>\n",
              "      <td>B000067VBM:cases_break_instantly!:f._mcpartlan...</td>\n",
              "      <td>B000067VBM</td>\n",
              "      <td>50-pack Slim CD/DVD Jewel Cases (5mm) Clear: E...</td>\n",
              "      <td>electronics</td>\n",
              "      <td>12 of 13</td>\n",
              "      <td>1.0</td>\n",
              "      <td>Cases break instantly!</td>\n",
              "      <td>October 30, 2005</td>\n",
              "      <td>F. MCPARTLAND \"FMCP\"</td>\n",
              "      <td>Virginia</td>\n",
              "      <td>I knew these were inexpensive CD cases, but I ...</td>\n",
              "    </tr>\n",
              "    <tr>\n",
              "      <th>4</th>\n",
              "      <td>B000093IRC:these_dvd-rs_suck:suzette_truesdell</td>\n",
              "      <td>B000093IRC</td>\n",
              "      <td>Memorex 4.7GB 4x DVD+R Media (25-Pack Spindle)...</td>\n",
              "      <td>electronics</td>\n",
              "      <td>2 of 2</td>\n",
              "      <td>2.0</td>\n",
              "      <td>These DVD-Rs suck</td>\n",
              "      <td>February 11, 2006</td>\n",
              "      <td>Suzette Truesdell</td>\n",
              "      <td>Key Largo, FL</td>\n",
              "      <td>I used a 25 pack of these doing DVD backups, a...</td>\n",
              "    </tr>\n",
              "  </tbody>\n",
              "</table>\n",
              "</div>"
            ],
            "text/plain": [
              "                                           unique_id  ...                                        review_text\n",
              "0     B00005UKBG:bad:j._brodeur_\"disgusted_consumer\"  ...  cons\\ntips extremely easy on carpet and if you...\n",
              "1            B00005UKBG:save_your_money!:heidi_myers  ...  It's a nice look, but it tips over very easily...\n",
              "2         B0009O5MWI:horrible_dvd_player:m._martinez  ...  I have bought and returned three of these unit...\n",
              "3  B000067VBM:cases_break_instantly!:f._mcpartlan...  ...  I knew these were inexpensive CD cases, but I ...\n",
              "4     B000093IRC:these_dvd-rs_suck:suzette_truesdell  ...  I used a 25 pack of these doing DVD backups, a...\n",
              "\n",
              "[5 rows x 11 columns]"
            ]
          },
          "metadata": {},
          "execution_count": 7
        }
      ]
    },
    {
      "cell_type": "code",
      "metadata": {
        "id": "xgS4YE19F7Ut",
        "colab": {
          "base_uri": "https://localhost:8080/",
          "height": 293
        },
        "outputId": "2620b435-68e8-4664-f72c-50f37be479ce"
      },
      "source": [
        "df_ele_pos.head()"
      ],
      "execution_count": 8,
      "outputs": [
        {
          "output_type": "execute_result",
          "data": {
            "text/html": [
              "<div>\n",
              "<style scoped>\n",
              "    .dataframe tbody tr th:only-of-type {\n",
              "        vertical-align: middle;\n",
              "    }\n",
              "\n",
              "    .dataframe tbody tr th {\n",
              "        vertical-align: top;\n",
              "    }\n",
              "\n",
              "    .dataframe thead th {\n",
              "        text-align: right;\n",
              "    }\n",
              "</style>\n",
              "<table border=\"1\" class=\"dataframe\">\n",
              "  <thead>\n",
              "    <tr style=\"text-align: right;\">\n",
              "      <th></th>\n",
              "      <th>unique_id</th>\n",
              "      <th>asin</th>\n",
              "      <th>product_name</th>\n",
              "      <th>product_type</th>\n",
              "      <th>helpful</th>\n",
              "      <th>rating</th>\n",
              "      <th>title</th>\n",
              "      <th>date</th>\n",
              "      <th>reviewer</th>\n",
              "      <th>reviewer_location</th>\n",
              "      <th>review_text</th>\n",
              "    </tr>\n",
              "  </thead>\n",
              "  <tbody>\n",
              "    <tr>\n",
              "      <th>0</th>\n",
              "      <td>B00006HYUB:everyone_should_own_one:d._john_\"lo...</td>\n",
              "      <td>B00006HYUB</td>\n",
              "      <td>APC Back-UPS ES 500 Backup Battery and Surge P...</td>\n",
              "      <td>electronics</td>\n",
              "      <td>3 of 3</td>\n",
              "      <td>5.0</td>\n",
              "      <td>Everyone should own one</td>\n",
              "      <td>July 31, 2006</td>\n",
              "      <td>D. John \"Looser\"</td>\n",
              "      <td>PA</td>\n",
              "      <td>I purchased this unit due to frequent blackout...</td>\n",
              "    </tr>\n",
              "    <tr>\n",
              "      <th>1</th>\n",
              "      <td>B00006HYUB:breif_review:scott_park</td>\n",
              "      <td>B00006HYUB</td>\n",
              "      <td>APC Back-UPS ES 500 Backup Battery and Surge P...</td>\n",
              "      <td>electronics</td>\n",
              "      <td>11 of 12</td>\n",
              "      <td>5.0</td>\n",
              "      <td>Breif Review</td>\n",
              "      <td>September 26, 2005</td>\n",
              "      <td>Scott Park</td>\n",
              "      <td>New York, NY USA</td>\n",
              "      <td>I ordered 3 APC Back-UPS ES 500s on the recomm...</td>\n",
              "    </tr>\n",
              "    <tr>\n",
              "      <th>2</th>\n",
              "      <td>B00006HYUB:works_fine.:dee_richards_\"deeanalyst\"</td>\n",
              "      <td>B00006HYUB</td>\n",
              "      <td>APC Back-UPS ES 500 Backup Battery and Surge P...</td>\n",
              "      <td>electronics</td>\n",
              "      <td>0 of 2</td>\n",
              "      <td>4.0</td>\n",
              "      <td>Works fine.</td>\n",
              "      <td>September 15, 2005</td>\n",
              "      <td>Dee Richards \"deeanalyst\"</td>\n",
              "      <td>Mobile, AL</td>\n",
              "      <td>Wish the unit had a separate online/offline li...</td>\n",
              "    </tr>\n",
              "    <tr>\n",
              "      <th>3</th>\n",
              "      <td>B000067VBM:affordable_and_effective:jason_dick...</td>\n",
              "      <td>B000067VBM</td>\n",
              "      <td>50-pack Slim CD/DVD Jewel Cases (5mm) Clear: E...</td>\n",
              "      <td>electronics</td>\n",
              "      <td>4 of 4</td>\n",
              "      <td>5.0</td>\n",
              "      <td>Affordable and effective</td>\n",
              "      <td>July 7, 2005</td>\n",
              "      <td>Jason Dickson \"Needs More Money\"</td>\n",
              "      <td>Maryville, TN USA</td>\n",
              "      <td>Cheaper than thick CD cases and less prone to ...</td>\n",
              "    </tr>\n",
              "    <tr>\n",
              "      <th>4</th>\n",
              "      <td>B00008SCFU:it_is_a_good_product_:kiran_k._sing...</td>\n",
              "      <td>B00008SCFU</td>\n",
              "      <td>Kingston 256 MB Secure Digital Card ( SD/256 )...</td>\n",
              "      <td>electronics</td>\n",
              "      <td>NaN</td>\n",
              "      <td>5.0</td>\n",
              "      <td>It is a good product</td>\n",
              "      <td>February 24, 2006</td>\n",
              "      <td>Kiran K. Singarapu</td>\n",
              "      <td>NaN</td>\n",
              "      <td>Hi\\n\\nI brought 256 MB Kingston SD card from A...</td>\n",
              "    </tr>\n",
              "  </tbody>\n",
              "</table>\n",
              "</div>"
            ],
            "text/plain": [
              "                                           unique_id  ...                                        review_text\n",
              "0  B00006HYUB:everyone_should_own_one:d._john_\"lo...  ...  I purchased this unit due to frequent blackout...\n",
              "1                 B00006HYUB:breif_review:scott_park  ...  I ordered 3 APC Back-UPS ES 500s on the recomm...\n",
              "2   B00006HYUB:works_fine.:dee_richards_\"deeanalyst\"  ...  Wish the unit had a separate online/offline li...\n",
              "3  B000067VBM:affordable_and_effective:jason_dick...  ...  Cheaper than thick CD cases and less prone to ...\n",
              "4  B00008SCFU:it_is_a_good_product_:kiran_k._sing...  ...  Hi\\n\\nI brought 256 MB Kingston SD card from A...\n",
              "\n",
              "[5 rows x 11 columns]"
            ]
          },
          "metadata": {},
          "execution_count": 8
        }
      ]
    },
    {
      "cell_type": "code",
      "metadata": {
        "id": "R9kaAP-dF7XS",
        "colab": {
          "base_uri": "https://localhost:8080/",
          "height": 293
        },
        "outputId": "6821f7a5-5347-4ad1-e621-79992c9fa6a0"
      },
      "source": [
        "df_kit_neg.head()"
      ],
      "execution_count": 9,
      "outputs": [
        {
          "output_type": "execute_result",
          "data": {
            "text/html": [
              "<div>\n",
              "<style scoped>\n",
              "    .dataframe tbody tr th:only-of-type {\n",
              "        vertical-align: middle;\n",
              "    }\n",
              "\n",
              "    .dataframe tbody tr th {\n",
              "        vertical-align: top;\n",
              "    }\n",
              "\n",
              "    .dataframe thead th {\n",
              "        text-align: right;\n",
              "    }\n",
              "</style>\n",
              "<table border=\"1\" class=\"dataframe\">\n",
              "  <thead>\n",
              "    <tr style=\"text-align: right;\">\n",
              "      <th></th>\n",
              "      <th>unique_id</th>\n",
              "      <th>asin</th>\n",
              "      <th>product_name</th>\n",
              "      <th>product_type</th>\n",
              "      <th>helpful</th>\n",
              "      <th>rating</th>\n",
              "      <th>title</th>\n",
              "      <th>date</th>\n",
              "      <th>reviewer</th>\n",
              "      <th>reviewer_location</th>\n",
              "      <th>review_text</th>\n",
              "    </tr>\n",
              "  </thead>\n",
              "  <tbody>\n",
              "    <tr>\n",
              "      <th>0</th>\n",
              "      <td>B0002D31QU:doesn't_keep_my_yappy_cairn_from_ba...</td>\n",
              "      <td>B0002D31QU</td>\n",
              "      <td>Premier Gentle Spray Anti-Bark Dog Collar: Kit...</td>\n",
              "      <td>kitchen &amp; housewares</td>\n",
              "      <td>NaN</td>\n",
              "      <td>2.0</td>\n",
              "      <td>Doesn't keep my yappy Cairn from barking...</td>\n",
              "      <td>November 9, 2006</td>\n",
              "      <td>D. Overton</td>\n",
              "      <td>CA</td>\n",
              "      <td>He just looks away from where the spray emits-...</td>\n",
              "    </tr>\n",
              "    <tr>\n",
              "      <th>1</th>\n",
              "      <td>B0002D31QU:buyer_beware:cmkb396</td>\n",
              "      <td>B0002D31QU</td>\n",
              "      <td>Premier Gentle Spray Anti-Bark Dog Collar: Kit...</td>\n",
              "      <td>kitchen &amp; housewares</td>\n",
              "      <td>1 of 1</td>\n",
              "      <td>1.0</td>\n",
              "      <td>Buyer Beware</td>\n",
              "      <td>November 2, 2006</td>\n",
              "      <td>cmkb396</td>\n",
              "      <td>NaN</td>\n",
              "      <td>Having read the other reviews of this product ...</td>\n",
              "    </tr>\n",
              "    <tr>\n",
              "      <th>2</th>\n",
              "      <td>B0002D31QU:only_sprays_intermittently_with_my_...</td>\n",
              "      <td>B0002D31QU</td>\n",
              "      <td>Premier Gentle Spray Anti-Bark Dog Collar: Kit...</td>\n",
              "      <td>kitchen &amp; housewares</td>\n",
              "      <td>NaN</td>\n",
              "      <td>2.0</td>\n",
              "      <td>Only sprays intermittently with my cocker span...</td>\n",
              "      <td>September 22, 2006</td>\n",
              "      <td>Thomas Baker</td>\n",
              "      <td>Princeton Junction, NJ USA</td>\n",
              "      <td>Sometimes it sprays when she barks, most of th...</td>\n",
              "    </tr>\n",
              "    <tr>\n",
              "      <th>3</th>\n",
              "      <td>B0006N2O0U:save_your_money:robert_p._manwaring...</td>\n",
              "      <td>B0006N2O0U</td>\n",
              "      <td>Zelco Real Wall Clock: Kitchen &amp; Housewares</td>\n",
              "      <td>kitchen &amp; housewares</td>\n",
              "      <td>NaN</td>\n",
              "      <td>1.0</td>\n",
              "      <td>Save your money</td>\n",
              "      <td>November 3, 2006</td>\n",
              "      <td>Robert P. Manwaring \"W�rzburg Wolf\"</td>\n",
              "      <td>Anchorage, AK United States</td>\n",
              "      <td>This item is cheaply made and I sent it back. ...</td>\n",
              "    </tr>\n",
              "    <tr>\n",
              "      <th>4</th>\n",
              "      <td>B000634GCO:i_am_returning_this_product:an_alaskan</td>\n",
              "      <td>B000634GCO</td>\n",
              "      <td>Stationary Bark Control by Petsafe: Kitchen &amp; ...</td>\n",
              "      <td>kitchen &amp; housewares</td>\n",
              "      <td>NaN</td>\n",
              "      <td>1.0</td>\n",
              "      <td>I am returning this product</td>\n",
              "      <td>September 24, 2006</td>\n",
              "      <td>An Alaskan</td>\n",
              "      <td>NaN</td>\n",
              "      <td>Initially, my dogs found the sound interesting...</td>\n",
              "    </tr>\n",
              "  </tbody>\n",
              "</table>\n",
              "</div>"
            ],
            "text/plain": [
              "                                           unique_id  ...                                        review_text\n",
              "0  B0002D31QU:doesn't_keep_my_yappy_cairn_from_ba...  ...  He just looks away from where the spray emits-...\n",
              "1                    B0002D31QU:buyer_beware:cmkb396  ...  Having read the other reviews of this product ...\n",
              "2  B0002D31QU:only_sprays_intermittently_with_my_...  ...  Sometimes it sprays when she barks, most of th...\n",
              "3  B0006N2O0U:save_your_money:robert_p._manwaring...  ...  This item is cheaply made and I sent it back. ...\n",
              "4  B000634GCO:i_am_returning_this_product:an_alaskan  ...  Initially, my dogs found the sound interesting...\n",
              "\n",
              "[5 rows x 11 columns]"
            ]
          },
          "metadata": {},
          "execution_count": 9
        }
      ]
    },
    {
      "cell_type": "code",
      "metadata": {
        "id": "cDTCJvyoF7aT",
        "colab": {
          "base_uri": "https://localhost:8080/",
          "height": 293
        },
        "outputId": "d59bb815-b8c4-4797-eb07-d6291c56731e"
      },
      "source": [
        "df_kit_pos.head()"
      ],
      "execution_count": null,
      "outputs": [
        {
          "output_type": "execute_result",
          "data": {
            "text/html": [
              "<div>\n",
              "<style scoped>\n",
              "    .dataframe tbody tr th:only-of-type {\n",
              "        vertical-align: middle;\n",
              "    }\n",
              "\n",
              "    .dataframe tbody tr th {\n",
              "        vertical-align: top;\n",
              "    }\n",
              "\n",
              "    .dataframe thead th {\n",
              "        text-align: right;\n",
              "    }\n",
              "</style>\n",
              "<table border=\"1\" class=\"dataframe\">\n",
              "  <thead>\n",
              "    <tr style=\"text-align: right;\">\n",
              "      <th></th>\n",
              "      <th>unique_id</th>\n",
              "      <th>asin</th>\n",
              "      <th>product_name</th>\n",
              "      <th>product_type</th>\n",
              "      <th>helpful</th>\n",
              "      <th>rating</th>\n",
              "      <th>title</th>\n",
              "      <th>date</th>\n",
              "      <th>reviewer</th>\n",
              "      <th>reviewer_location</th>\n",
              "      <th>review_text</th>\n",
              "    </tr>\n",
              "  </thead>\n",
              "  <tbody>\n",
              "    <tr>\n",
              "      <th>0</th>\n",
              "      <td>B00068N1DO:perfectly_fits_the_books'_atmospher...</td>\n",
              "      <td>B00068N1DO</td>\n",
              "      <td>Lemony Snicket's A Series of Unfortunate Event...</td>\n",
              "      <td>kitchen &amp; housewares</td>\n",
              "      <td>NaN</td>\n",
              "      <td>5.0</td>\n",
              "      <td>Perfectly fits the books' atmosphere</td>\n",
              "      <td>October 17, 2004</td>\n",
              "      <td>C. MCCALLISTER \"dr_dolphin\"</td>\n",
              "      <td>The waters of the Great Lakes</td>\n",
              "      <td>For those of you unfamiliar with the \"A Series...</td>\n",
              "    </tr>\n",
              "    <tr>\n",
              "      <th>1</th>\n",
              "      <td>B000634GCO:no_more_doggy_fueds_with_neighbor:e...</td>\n",
              "      <td>B000634GCO</td>\n",
              "      <td>Stationary Bark Control by Petsafe: Kitchen &amp; ...</td>\n",
              "      <td>kitchen &amp; housewares</td>\n",
              "      <td>6 of 6</td>\n",
              "      <td>5.0</td>\n",
              "      <td>no more doggy fueds with neighbor</td>\n",
              "      <td>December 30, 2005</td>\n",
              "      <td>E. Patterson</td>\n",
              "      <td>california</td>\n",
              "      <td>i absolutely love this product. my neighbor ha...</td>\n",
              "    </tr>\n",
              "    <tr>\n",
              "      <th>2</th>\n",
              "      <td>B0006PK1D0:worked_for_us:gadget_mom</td>\n",
              "      <td>B0006PK1D0</td>\n",
              "      <td>Reporter WireFree Intercom System: Kitchen &amp; H...</td>\n",
              "      <td>kitchen &amp; housewares</td>\n",
              "      <td>NaN</td>\n",
              "      <td>4.0</td>\n",
              "      <td>Worked for us</td>\n",
              "      <td>November 3, 2006</td>\n",
              "      <td>Gadget Mom</td>\n",
              "      <td>NY</td>\n",
              "      <td>I purchased 3 units and they work well for us....</td>\n",
              "    </tr>\n",
              "    <tr>\n",
              "      <th>3</th>\n",
              "      <td>B00009K3V1:new_fry-guy_-_pretty_pleased....:br...</td>\n",
              "      <td>B00009K3V1</td>\n",
              "      <td>Waring DF200 Professional Deep Fryer, Brushed ...</td>\n",
              "      <td>kitchen &amp; housewares</td>\n",
              "      <td>8 of 9</td>\n",
              "      <td>4.0</td>\n",
              "      <td>New Fry-guy - pretty pleased....</td>\n",
              "      <td>July 7, 2006</td>\n",
              "      <td>Brian W. Hodgman</td>\n",
              "      <td>Midwest</td>\n",
              "      <td>I've always wanted a deep fryer, and finally d...</td>\n",
              "    </tr>\n",
              "    <tr>\n",
              "      <th>4</th>\n",
              "      <td>B00009K3V1:excellent_fryer:j._white_\"janinenc\"</td>\n",
              "      <td>B00009K3V1</td>\n",
              "      <td>Waring DF200 Professional Deep Fryer, Brushed ...</td>\n",
              "      <td>kitchen &amp; housewares</td>\n",
              "      <td>2 of 2</td>\n",
              "      <td>5.0</td>\n",
              "      <td>Excellent fryer</td>\n",
              "      <td>July 3, 2006</td>\n",
              "      <td>J. White \"janinenc\"</td>\n",
              "      <td>OR United States</td>\n",
              "      <td>Easy to use, easy to clean. Two major requirem...</td>\n",
              "    </tr>\n",
              "  </tbody>\n",
              "</table>\n",
              "</div>"
            ],
            "text/plain": [
              "                                           unique_id  ...                                        review_text\n",
              "0  B00068N1DO:perfectly_fits_the_books'_atmospher...  ...  For those of you unfamiliar with the \"A Series...\n",
              "1  B000634GCO:no_more_doggy_fueds_with_neighbor:e...  ...  i absolutely love this product. my neighbor ha...\n",
              "2                B0006PK1D0:worked_for_us:gadget_mom  ...  I purchased 3 units and they work well for us....\n",
              "3  B00009K3V1:new_fry-guy_-_pretty_pleased....:br...  ...  I've always wanted a deep fryer, and finally d...\n",
              "4     B00009K3V1:excellent_fryer:j._white_\"janinenc\"  ...  Easy to use, easy to clean. Two major requirem...\n",
              "\n",
              "[5 rows x 11 columns]"
            ]
          },
          "metadata": {},
          "execution_count": 12
        }
      ]
    },
    {
      "cell_type": "markdown",
      "metadata": {
        "id": "RAJpfKP6FvHV"
      },
      "source": [
        "**DROPPING ALL THE UNNECESSARY COLUMNS FROM THE DATAFRAMES**"
      ]
    },
    {
      "cell_type": "code",
      "metadata": {
        "id": "q1uBZGAAF7d5"
      },
      "source": [
        "df_books_neg.drop(['unique_id','helpful','date','reviewer','reviewer_location'],axis=1,inplace=True)\n",
        "df_books_pos.drop(['unique_id','helpful','date','reviewer','reviewer_location'],axis=1,inplace=True)\n",
        "df_dvd_neg.drop(['unique_id','helpful','date','reviewer','reviewer_location'],axis=1,inplace=True)\n",
        "df_dvd_pos.drop(['unique_id','helpful','date','reviewer','reviewer_location'],axis=1,inplace=True)\n",
        "df_ele_neg.drop(['unique_id','helpful','date','reviewer','reviewer_location'],axis=1,inplace=True)\n",
        "df_ele_pos.drop(['unique_id','helpful','date','reviewer','reviewer_location'],axis=1,inplace=True)\n",
        "df_kit_neg.drop(['unique_id','helpful','date','reviewer','reviewer_location'],axis=1,inplace=True)\n",
        "df_kit_pos.drop(['unique_id','helpful','date','reviewer','reviewer_location'],axis=1,inplace=True)"
      ],
      "execution_count": 10,
      "outputs": []
    },
    {
      "cell_type": "code",
      "metadata": {
        "id": "MGMHwME2F7fe",
        "colab": {
          "base_uri": "https://localhost:8080/",
          "height": 206
        },
        "outputId": "8a1e506c-7142-4c4c-b9fb-55b2dd452d05"
      },
      "source": [
        "df_books_neg.head()"
      ],
      "execution_count": 11,
      "outputs": [
        {
          "output_type": "execute_result",
          "data": {
            "text/html": [
              "<div>\n",
              "<style scoped>\n",
              "    .dataframe tbody tr th:only-of-type {\n",
              "        vertical-align: middle;\n",
              "    }\n",
              "\n",
              "    .dataframe tbody tr th {\n",
              "        vertical-align: top;\n",
              "    }\n",
              "\n",
              "    .dataframe thead th {\n",
              "        text-align: right;\n",
              "    }\n",
              "</style>\n",
              "<table border=\"1\" class=\"dataframe\">\n",
              "  <thead>\n",
              "    <tr style=\"text-align: right;\">\n",
              "      <th></th>\n",
              "      <th>asin</th>\n",
              "      <th>product_name</th>\n",
              "      <th>product_type</th>\n",
              "      <th>rating</th>\n",
              "      <th>title</th>\n",
              "      <th>review_text</th>\n",
              "    </tr>\n",
              "  </thead>\n",
              "  <tbody>\n",
              "    <tr>\n",
              "      <th>0</th>\n",
              "      <td>0312355645</td>\n",
              "      <td>Running with Scissors: A Memoir: Books: August...</td>\n",
              "      <td>books</td>\n",
              "      <td>1.0</td>\n",
              "      <td>Horrible book, horrible.</td>\n",
              "      <td>THis book was horrible.  If it was possible to...</td>\n",
              "    </tr>\n",
              "    <tr>\n",
              "      <th>1</th>\n",
              "      <td>1559278676</td>\n",
              "      <td>Running with Scissors: A Memoir: Books: August...</td>\n",
              "      <td>books</td>\n",
              "      <td>1.0</td>\n",
              "      <td>shallow self-indulgence</td>\n",
              "      <td>I like to use the Amazon reviews when purchasi...</td>\n",
              "    </tr>\n",
              "    <tr>\n",
              "      <th>2</th>\n",
              "      <td>1559278676</td>\n",
              "      <td>Running with Scissors: A Memoir: Books: August...</td>\n",
              "      <td>books</td>\n",
              "      <td>1.0</td>\n",
              "      <td>Horrible book, horrible.</td>\n",
              "      <td>THis book was horrible.  If it was possible to...</td>\n",
              "    </tr>\n",
              "    <tr>\n",
              "      <th>3</th>\n",
              "      <td>0425193373</td>\n",
              "      <td>Fierce Conversations: Achieving Sucess at Work...</td>\n",
              "      <td>books</td>\n",
              "      <td>1.0</td>\n",
              "      <td>Disappointment</td>\n",
              "      <td>I'm not sure who's writing these reviews, but ...</td>\n",
              "    </tr>\n",
              "    <tr>\n",
              "      <th>4</th>\n",
              "      <td>0142004030</td>\n",
              "      <td>Lost in a Good Book (Thursday Next Novels): Bo...</td>\n",
              "      <td>books</td>\n",
              "      <td>2.0</td>\n",
              "      <td>A Disappointing Mess</td>\n",
              "      <td>I picked up the first book in this series (The...</td>\n",
              "    </tr>\n",
              "  </tbody>\n",
              "</table>\n",
              "</div>"
            ],
            "text/plain": [
              "         asin  ...                                        review_text\n",
              "0  0312355645  ...  THis book was horrible.  If it was possible to...\n",
              "1  1559278676  ...  I like to use the Amazon reviews when purchasi...\n",
              "2  1559278676  ...  THis book was horrible.  If it was possible to...\n",
              "3  0425193373  ...  I'm not sure who's writing these reviews, but ...\n",
              "4  0142004030  ...  I picked up the first book in this series (The...\n",
              "\n",
              "[5 rows x 6 columns]"
            ]
          },
          "metadata": {},
          "execution_count": 11
        }
      ]
    },
    {
      "cell_type": "code",
      "metadata": {
        "id": "Et2G_758F7iR",
        "colab": {
          "base_uri": "https://localhost:8080/",
          "height": 206
        },
        "outputId": "223d747f-6c95-444e-ad0f-6f909693a129"
      },
      "source": [
        "df_books_pos.head()"
      ],
      "execution_count": 12,
      "outputs": [
        {
          "output_type": "execute_result",
          "data": {
            "text/html": [
              "<div>\n",
              "<style scoped>\n",
              "    .dataframe tbody tr th:only-of-type {\n",
              "        vertical-align: middle;\n",
              "    }\n",
              "\n",
              "    .dataframe tbody tr th {\n",
              "        vertical-align: top;\n",
              "    }\n",
              "\n",
              "    .dataframe thead th {\n",
              "        text-align: right;\n",
              "    }\n",
              "</style>\n",
              "<table border=\"1\" class=\"dataframe\">\n",
              "  <thead>\n",
              "    <tr style=\"text-align: right;\">\n",
              "      <th></th>\n",
              "      <th>asin</th>\n",
              "      <th>product_name</th>\n",
              "      <th>product_type</th>\n",
              "      <th>rating</th>\n",
              "      <th>title</th>\n",
              "      <th>review_text</th>\n",
              "    </tr>\n",
              "  </thead>\n",
              "  <tbody>\n",
              "    <tr>\n",
              "      <th>0</th>\n",
              "      <td>0785758968</td>\n",
              "      <td>Sphere: Books: Michael Crichton</td>\n",
              "      <td>books</td>\n",
              "      <td>5.0</td>\n",
              "      <td>One of the best Crichton novels</td>\n",
              "      <td>Sphere by Michael Crichton is an excellant nov...</td>\n",
              "    </tr>\n",
              "    <tr>\n",
              "      <th>1</th>\n",
              "      <td>0452279550</td>\n",
              "      <td>Healing from the Heart: A Leading Surgeon Comb...</td>\n",
              "      <td>books</td>\n",
              "      <td>4.0</td>\n",
              "      <td>The Medicine of the Future</td>\n",
              "      <td>Dr. Oz is an accomplished heart surgeon in the...</td>\n",
              "    </tr>\n",
              "    <tr>\n",
              "      <th>2</th>\n",
              "      <td>1599620065</td>\n",
              "      <td>Mythology: DC Comics Art of Alex Ross 2007 Cal...</td>\n",
              "      <td>books</td>\n",
              "      <td>5.0</td>\n",
              "      <td>Beautiful!</td>\n",
              "      <td>The most gorgeous artwork in comic books. Cont...</td>\n",
              "    </tr>\n",
              "    <tr>\n",
              "      <th>3</th>\n",
              "      <td>0743277724</td>\n",
              "      <td>Pegasus Descending: A Dave Robicheaux Novel (D...</td>\n",
              "      <td>books</td>\n",
              "      <td>4.0</td>\n",
              "      <td>For lovers of Robicheaux</td>\n",
              "      <td>This book is for lovers of Robicheaux.  His de...</td>\n",
              "    </tr>\n",
              "    <tr>\n",
              "      <th>4</th>\n",
              "      <td>061318114X</td>\n",
              "      <td>Guns, Germs, and Steel: The Fates of Human Soc...</td>\n",
              "      <td>books</td>\n",
              "      <td>5.0</td>\n",
              "      <td>Excellent and broad survey of the development ...</td>\n",
              "      <td>This is going to be a short and sweet review b...</td>\n",
              "    </tr>\n",
              "  </tbody>\n",
              "</table>\n",
              "</div>"
            ],
            "text/plain": [
              "         asin  ...                                        review_text\n",
              "0  0785758968  ...  Sphere by Michael Crichton is an excellant nov...\n",
              "1  0452279550  ...  Dr. Oz is an accomplished heart surgeon in the...\n",
              "2  1599620065  ...  The most gorgeous artwork in comic books. Cont...\n",
              "3  0743277724  ...  This book is for lovers of Robicheaux.  His de...\n",
              "4  061318114X  ...  This is going to be a short and sweet review b...\n",
              "\n",
              "[5 rows x 6 columns]"
            ]
          },
          "metadata": {},
          "execution_count": 12
        }
      ]
    },
    {
      "cell_type": "code",
      "metadata": {
        "id": "10bOgqs5F7l6",
        "colab": {
          "base_uri": "https://localhost:8080/",
          "height": 206
        },
        "outputId": "aba9843f-3377-47d6-a9e7-b4e581b7f213"
      },
      "source": [
        "df_dvd_neg.head()"
      ],
      "execution_count": 13,
      "outputs": [
        {
          "output_type": "execute_result",
          "data": {
            "text/html": [
              "<div>\n",
              "<style scoped>\n",
              "    .dataframe tbody tr th:only-of-type {\n",
              "        vertical-align: middle;\n",
              "    }\n",
              "\n",
              "    .dataframe tbody tr th {\n",
              "        vertical-align: top;\n",
              "    }\n",
              "\n",
              "    .dataframe thead th {\n",
              "        text-align: right;\n",
              "    }\n",
              "</style>\n",
              "<table border=\"1\" class=\"dataframe\">\n",
              "  <thead>\n",
              "    <tr style=\"text-align: right;\">\n",
              "      <th></th>\n",
              "      <th>asin</th>\n",
              "      <th>product_name</th>\n",
              "      <th>product_type</th>\n",
              "      <th>rating</th>\n",
              "      <th>title</th>\n",
              "      <th>review_text</th>\n",
              "    </tr>\n",
              "  </thead>\n",
              "  <tbody>\n",
              "    <tr>\n",
              "      <th>0</th>\n",
              "      <td>B00064LJVE</td>\n",
              "      <td>The Village (Widescreen Edition) (Vista Series...</td>\n",
              "      <td>dvd</td>\n",
              "      <td>1.0</td>\n",
              "      <td>One of the worst movies I have ever seen.</td>\n",
              "      <td>This entire movie could have run in only 20 mi...</td>\n",
              "    </tr>\n",
              "    <tr>\n",
              "      <th>1</th>\n",
              "      <td>B0000TG9E2</td>\n",
              "      <td>Alice in Wonderland (Masterpiece Edition): DVD...</td>\n",
              "      <td>dvd</td>\n",
              "      <td>1.0</td>\n",
              "      <td>Another classic, ruined by Disney</td>\n",
              "      <td>If you are looking for a good movie to buy for...</td>\n",
              "    </tr>\n",
              "    <tr>\n",
              "      <th>2</th>\n",
              "      <td>B000BYA4F6</td>\n",
              "      <td>Sabrina Bryan: Byou - The Hot New Dance Workou...</td>\n",
              "      <td>dvd</td>\n",
              "      <td>2.0</td>\n",
              "      <td>Fun to Watch</td>\n",
              "      <td>Fun to watch but my 9 1/2 yr. old daughter cou...</td>\n",
              "    </tr>\n",
              "    <tr>\n",
              "      <th>3</th>\n",
              "      <td>B00006IUJ1</td>\n",
              "      <td>The Diamond Arm: DVD: Yuri Nikulin,Nina Grebes...</td>\n",
              "      <td>dvd</td>\n",
              "      <td>2.0</td>\n",
              "      <td>Did we see the same movie?</td>\n",
              "      <td>Every review I've read about this movie pops a...</td>\n",
              "    </tr>\n",
              "    <tr>\n",
              "      <th>4</th>\n",
              "      <td>B000GFLKF8</td>\n",
              "      <td>Inside Man (Widescreen Edition): DVD: Denzel W...</td>\n",
              "      <td>dvd</td>\n",
              "      <td>2.0</td>\n",
              "      <td>Not too impressed</td>\n",
              "      <td>The acting was very good. The pace was adequat...</td>\n",
              "    </tr>\n",
              "  </tbody>\n",
              "</table>\n",
              "</div>"
            ],
            "text/plain": [
              "         asin  ...                                        review_text\n",
              "0  B00064LJVE  ...  This entire movie could have run in only 20 mi...\n",
              "1  B0000TG9E2  ...  If you are looking for a good movie to buy for...\n",
              "2  B000BYA4F6  ...  Fun to watch but my 9 1/2 yr. old daughter cou...\n",
              "3  B00006IUJ1  ...  Every review I've read about this movie pops a...\n",
              "4  B000GFLKF8  ...  The acting was very good. The pace was adequat...\n",
              "\n",
              "[5 rows x 6 columns]"
            ]
          },
          "metadata": {},
          "execution_count": 13
        }
      ]
    },
    {
      "cell_type": "code",
      "metadata": {
        "id": "1IqjRABOF7pZ",
        "colab": {
          "base_uri": "https://localhost:8080/",
          "height": 206
        },
        "outputId": "4a410589-72e2-4589-a58f-162e4410a9b4"
      },
      "source": [
        "df_dvd_pos.head()"
      ],
      "execution_count": 14,
      "outputs": [
        {
          "output_type": "execute_result",
          "data": {
            "text/html": [
              "<div>\n",
              "<style scoped>\n",
              "    .dataframe tbody tr th:only-of-type {\n",
              "        vertical-align: middle;\n",
              "    }\n",
              "\n",
              "    .dataframe tbody tr th {\n",
              "        vertical-align: top;\n",
              "    }\n",
              "\n",
              "    .dataframe thead th {\n",
              "        text-align: right;\n",
              "    }\n",
              "</style>\n",
              "<table border=\"1\" class=\"dataframe\">\n",
              "  <thead>\n",
              "    <tr style=\"text-align: right;\">\n",
              "      <th></th>\n",
              "      <th>asin</th>\n",
              "      <th>product_name</th>\n",
              "      <th>product_type</th>\n",
              "      <th>rating</th>\n",
              "      <th>title</th>\n",
              "      <th>review_text</th>\n",
              "    </tr>\n",
              "  </thead>\n",
              "  <tbody>\n",
              "    <tr>\n",
              "      <th>0</th>\n",
              "      <td>B000E33VZE</td>\n",
              "      <td>I Dream of Jeannie - The Complete First Season...</td>\n",
              "      <td>dvd</td>\n",
              "      <td>5.0</td>\n",
              "      <td>Skip Color, Go Directly To The Black-And-White</td>\n",
              "      <td>I'm not sure why Sony, which now owns I Dream ...</td>\n",
              "    </tr>\n",
              "    <tr>\n",
              "      <th>1</th>\n",
              "      <td>B0000TG9E2</td>\n",
              "      <td>Alice in Wonderland (Masterpiece Edition): DVD...</td>\n",
              "      <td>dvd</td>\n",
              "      <td>5.0</td>\n",
              "      <td>Best American Animated Film Ever</td>\n",
              "      <td>If you don't own this dvd you need to add it t...</td>\n",
              "    </tr>\n",
              "    <tr>\n",
              "      <th>2</th>\n",
              "      <td>0783240295</td>\n",
              "      <td>The Bone Collector: DVD: Olivia Birkelund,Dani...</td>\n",
              "      <td>dvd</td>\n",
              "      <td>4.0</td>\n",
              "      <td>The Bone Collector</td>\n",
              "      <td>Denzel Washington is great but Angelina Jolie ...</td>\n",
              "    </tr>\n",
              "    <tr>\n",
              "      <th>3</th>\n",
              "      <td>B000BVM1UK</td>\n",
              "      <td>The House of Eliott - Series 2: DVD: Barbara J...</td>\n",
              "      <td>dvd</td>\n",
              "      <td>5.0</td>\n",
              "      <td>a gem!</td>\n",
              "      <td>I rediscovered this after a long time. This is...</td>\n",
              "    </tr>\n",
              "    <tr>\n",
              "      <th>4</th>\n",
              "      <td>B0000A98ZP</td>\n",
              "      <td>The Breakfast Club (High School Reunion Collec...</td>\n",
              "      <td>dvd</td>\n",
              "      <td>5.0</td>\n",
              "      <td>Reminiscing.......</td>\n",
              "      <td>I bought this movie for my coming of age daugh...</td>\n",
              "    </tr>\n",
              "  </tbody>\n",
              "</table>\n",
              "</div>"
            ],
            "text/plain": [
              "         asin  ...                                        review_text\n",
              "0  B000E33VZE  ...  I'm not sure why Sony, which now owns I Dream ...\n",
              "1  B0000TG9E2  ...  If you don't own this dvd you need to add it t...\n",
              "2  0783240295  ...  Denzel Washington is great but Angelina Jolie ...\n",
              "3  B000BVM1UK  ...  I rediscovered this after a long time. This is...\n",
              "4  B0000A98ZP  ...  I bought this movie for my coming of age daugh...\n",
              "\n",
              "[5 rows x 6 columns]"
            ]
          },
          "metadata": {},
          "execution_count": 14
        }
      ]
    },
    {
      "cell_type": "code",
      "metadata": {
        "id": "Tb2v3IfyY3Vp",
        "colab": {
          "base_uri": "https://localhost:8080/",
          "height": 206
        },
        "outputId": "35eb8135-dd0f-4abf-84eb-eda5ec4dde25"
      },
      "source": [
        "df_ele_neg.head()"
      ],
      "execution_count": 15,
      "outputs": [
        {
          "output_type": "execute_result",
          "data": {
            "text/html": [
              "<div>\n",
              "<style scoped>\n",
              "    .dataframe tbody tr th:only-of-type {\n",
              "        vertical-align: middle;\n",
              "    }\n",
              "\n",
              "    .dataframe tbody tr th {\n",
              "        vertical-align: top;\n",
              "    }\n",
              "\n",
              "    .dataframe thead th {\n",
              "        text-align: right;\n",
              "    }\n",
              "</style>\n",
              "<table border=\"1\" class=\"dataframe\">\n",
              "  <thead>\n",
              "    <tr style=\"text-align: right;\">\n",
              "      <th></th>\n",
              "      <th>asin</th>\n",
              "      <th>product_name</th>\n",
              "      <th>product_type</th>\n",
              "      <th>rating</th>\n",
              "      <th>title</th>\n",
              "      <th>review_text</th>\n",
              "    </tr>\n",
              "  </thead>\n",
              "  <tbody>\n",
              "    <tr>\n",
              "      <th>0</th>\n",
              "      <td>B00005UKBG</td>\n",
              "      <td>Atlantic 1316 CD Storage Case (110-Capacity, W...</td>\n",
              "      <td>electronics</td>\n",
              "      <td>2.0</td>\n",
              "      <td>bad</td>\n",
              "      <td>cons\\ntips extremely easy on carpet and if you...</td>\n",
              "    </tr>\n",
              "    <tr>\n",
              "      <th>1</th>\n",
              "      <td>B00005UKBG</td>\n",
              "      <td>Atlantic 1316 CD Storage Case (110-Capacity, W...</td>\n",
              "      <td>electronics</td>\n",
              "      <td>1.0</td>\n",
              "      <td>Save your money!</td>\n",
              "      <td>It's a nice look, but it tips over very easily...</td>\n",
              "    </tr>\n",
              "    <tr>\n",
              "      <th>2</th>\n",
              "      <td>B0009O5MWI</td>\n",
              "      <td>Philips HTS3400D/37 Home Theater System with D...</td>\n",
              "      <td>electronics</td>\n",
              "      <td>1.0</td>\n",
              "      <td>Horrible DVD player</td>\n",
              "      <td>I have bought and returned three of these unit...</td>\n",
              "    </tr>\n",
              "    <tr>\n",
              "      <th>3</th>\n",
              "      <td>B000067VBM</td>\n",
              "      <td>50-pack Slim CD/DVD Jewel Cases (5mm) Clear: E...</td>\n",
              "      <td>electronics</td>\n",
              "      <td>1.0</td>\n",
              "      <td>Cases break instantly!</td>\n",
              "      <td>I knew these were inexpensive CD cases, but I ...</td>\n",
              "    </tr>\n",
              "    <tr>\n",
              "      <th>4</th>\n",
              "      <td>B000093IRC</td>\n",
              "      <td>Memorex 4.7GB 4x DVD+R Media (25-Pack Spindle)...</td>\n",
              "      <td>electronics</td>\n",
              "      <td>2.0</td>\n",
              "      <td>These DVD-Rs suck</td>\n",
              "      <td>I used a 25 pack of these doing DVD backups, a...</td>\n",
              "    </tr>\n",
              "  </tbody>\n",
              "</table>\n",
              "</div>"
            ],
            "text/plain": [
              "         asin  ...                                        review_text\n",
              "0  B00005UKBG  ...  cons\\ntips extremely easy on carpet and if you...\n",
              "1  B00005UKBG  ...  It's a nice look, but it tips over very easily...\n",
              "2  B0009O5MWI  ...  I have bought and returned three of these unit...\n",
              "3  B000067VBM  ...  I knew these were inexpensive CD cases, but I ...\n",
              "4  B000093IRC  ...  I used a 25 pack of these doing DVD backups, a...\n",
              "\n",
              "[5 rows x 6 columns]"
            ]
          },
          "metadata": {},
          "execution_count": 15
        }
      ]
    },
    {
      "cell_type": "code",
      "metadata": {
        "id": "4F1jIeGTY3d8",
        "colab": {
          "base_uri": "https://localhost:8080/",
          "height": 206
        },
        "outputId": "e6fbdd8f-53a6-42e0-b90d-590c7925ec44"
      },
      "source": [
        "df_ele_pos.head()"
      ],
      "execution_count": 16,
      "outputs": [
        {
          "output_type": "execute_result",
          "data": {
            "text/html": [
              "<div>\n",
              "<style scoped>\n",
              "    .dataframe tbody tr th:only-of-type {\n",
              "        vertical-align: middle;\n",
              "    }\n",
              "\n",
              "    .dataframe tbody tr th {\n",
              "        vertical-align: top;\n",
              "    }\n",
              "\n",
              "    .dataframe thead th {\n",
              "        text-align: right;\n",
              "    }\n",
              "</style>\n",
              "<table border=\"1\" class=\"dataframe\">\n",
              "  <thead>\n",
              "    <tr style=\"text-align: right;\">\n",
              "      <th></th>\n",
              "      <th>asin</th>\n",
              "      <th>product_name</th>\n",
              "      <th>product_type</th>\n",
              "      <th>rating</th>\n",
              "      <th>title</th>\n",
              "      <th>review_text</th>\n",
              "    </tr>\n",
              "  </thead>\n",
              "  <tbody>\n",
              "    <tr>\n",
              "      <th>0</th>\n",
              "      <td>B00006HYUB</td>\n",
              "      <td>APC Back-UPS ES 500 Backup Battery and Surge P...</td>\n",
              "      <td>electronics</td>\n",
              "      <td>5.0</td>\n",
              "      <td>Everyone should own one</td>\n",
              "      <td>I purchased this unit due to frequent blackout...</td>\n",
              "    </tr>\n",
              "    <tr>\n",
              "      <th>1</th>\n",
              "      <td>B00006HYUB</td>\n",
              "      <td>APC Back-UPS ES 500 Backup Battery and Surge P...</td>\n",
              "      <td>electronics</td>\n",
              "      <td>5.0</td>\n",
              "      <td>Breif Review</td>\n",
              "      <td>I ordered 3 APC Back-UPS ES 500s on the recomm...</td>\n",
              "    </tr>\n",
              "    <tr>\n",
              "      <th>2</th>\n",
              "      <td>B00006HYUB</td>\n",
              "      <td>APC Back-UPS ES 500 Backup Battery and Surge P...</td>\n",
              "      <td>electronics</td>\n",
              "      <td>4.0</td>\n",
              "      <td>Works fine.</td>\n",
              "      <td>Wish the unit had a separate online/offline li...</td>\n",
              "    </tr>\n",
              "    <tr>\n",
              "      <th>3</th>\n",
              "      <td>B000067VBM</td>\n",
              "      <td>50-pack Slim CD/DVD Jewel Cases (5mm) Clear: E...</td>\n",
              "      <td>electronics</td>\n",
              "      <td>5.0</td>\n",
              "      <td>Affordable and effective</td>\n",
              "      <td>Cheaper than thick CD cases and less prone to ...</td>\n",
              "    </tr>\n",
              "    <tr>\n",
              "      <th>4</th>\n",
              "      <td>B00008SCFU</td>\n",
              "      <td>Kingston 256 MB Secure Digital Card ( SD/256 )...</td>\n",
              "      <td>electronics</td>\n",
              "      <td>5.0</td>\n",
              "      <td>It is a good product</td>\n",
              "      <td>Hi\\n\\nI brought 256 MB Kingston SD card from A...</td>\n",
              "    </tr>\n",
              "  </tbody>\n",
              "</table>\n",
              "</div>"
            ],
            "text/plain": [
              "         asin  ...                                        review_text\n",
              "0  B00006HYUB  ...  I purchased this unit due to frequent blackout...\n",
              "1  B00006HYUB  ...  I ordered 3 APC Back-UPS ES 500s on the recomm...\n",
              "2  B00006HYUB  ...  Wish the unit had a separate online/offline li...\n",
              "3  B000067VBM  ...  Cheaper than thick CD cases and less prone to ...\n",
              "4  B00008SCFU  ...  Hi\\n\\nI brought 256 MB Kingston SD card from A...\n",
              "\n",
              "[5 rows x 6 columns]"
            ]
          },
          "metadata": {},
          "execution_count": 16
        }
      ]
    },
    {
      "cell_type": "code",
      "metadata": {
        "id": "1aoo5hofY3i6",
        "colab": {
          "base_uri": "https://localhost:8080/",
          "height": 206
        },
        "outputId": "3eb4c5a9-5f67-4fbd-ac28-96021ff42403"
      },
      "source": [
        "df_kit_neg.head()"
      ],
      "execution_count": null,
      "outputs": [
        {
          "output_type": "execute_result",
          "data": {
            "text/html": [
              "<div>\n",
              "<style scoped>\n",
              "    .dataframe tbody tr th:only-of-type {\n",
              "        vertical-align: middle;\n",
              "    }\n",
              "\n",
              "    .dataframe tbody tr th {\n",
              "        vertical-align: top;\n",
              "    }\n",
              "\n",
              "    .dataframe thead th {\n",
              "        text-align: right;\n",
              "    }\n",
              "</style>\n",
              "<table border=\"1\" class=\"dataframe\">\n",
              "  <thead>\n",
              "    <tr style=\"text-align: right;\">\n",
              "      <th></th>\n",
              "      <th>asin</th>\n",
              "      <th>product_name</th>\n",
              "      <th>product_type</th>\n",
              "      <th>rating</th>\n",
              "      <th>title</th>\n",
              "      <th>review_text</th>\n",
              "    </tr>\n",
              "  </thead>\n",
              "  <tbody>\n",
              "    <tr>\n",
              "      <th>0</th>\n",
              "      <td>B0002D31QU</td>\n",
              "      <td>Premier Gentle Spray Anti-Bark Dog Collar: Kit...</td>\n",
              "      <td>kitchen &amp; housewares</td>\n",
              "      <td>2.0</td>\n",
              "      <td>Doesn't keep my yappy Cairn from barking...</td>\n",
              "      <td>He just looks away from where the spray emits-...</td>\n",
              "    </tr>\n",
              "    <tr>\n",
              "      <th>1</th>\n",
              "      <td>B0002D31QU</td>\n",
              "      <td>Premier Gentle Spray Anti-Bark Dog Collar: Kit...</td>\n",
              "      <td>kitchen &amp; housewares</td>\n",
              "      <td>1.0</td>\n",
              "      <td>Buyer Beware</td>\n",
              "      <td>Having read the other reviews of this product ...</td>\n",
              "    </tr>\n",
              "    <tr>\n",
              "      <th>2</th>\n",
              "      <td>B0002D31QU</td>\n",
              "      <td>Premier Gentle Spray Anti-Bark Dog Collar: Kit...</td>\n",
              "      <td>kitchen &amp; housewares</td>\n",
              "      <td>2.0</td>\n",
              "      <td>Only sprays intermittently with my cocker span...</td>\n",
              "      <td>Sometimes it sprays when she barks, most of th...</td>\n",
              "    </tr>\n",
              "    <tr>\n",
              "      <th>3</th>\n",
              "      <td>B0006N2O0U</td>\n",
              "      <td>Zelco Real Wall Clock: Kitchen &amp; Housewares</td>\n",
              "      <td>kitchen &amp; housewares</td>\n",
              "      <td>1.0</td>\n",
              "      <td>Save your money</td>\n",
              "      <td>This item is cheaply made and I sent it back. ...</td>\n",
              "    </tr>\n",
              "    <tr>\n",
              "      <th>4</th>\n",
              "      <td>B000634GCO</td>\n",
              "      <td>Stationary Bark Control by Petsafe: Kitchen &amp; ...</td>\n",
              "      <td>kitchen &amp; housewares</td>\n",
              "      <td>1.0</td>\n",
              "      <td>I am returning this product</td>\n",
              "      <td>Initially, my dogs found the sound interesting...</td>\n",
              "    </tr>\n",
              "  </tbody>\n",
              "</table>\n",
              "</div>"
            ],
            "text/plain": [
              "         asin  ...                                        review_text\n",
              "0  B0002D31QU  ...  He just looks away from where the spray emits-...\n",
              "1  B0002D31QU  ...  Having read the other reviews of this product ...\n",
              "2  B0002D31QU  ...  Sometimes it sprays when she barks, most of th...\n",
              "3  B0006N2O0U  ...  This item is cheaply made and I sent it back. ...\n",
              "4  B000634GCO  ...  Initially, my dogs found the sound interesting...\n",
              "\n",
              "[5 rows x 6 columns]"
            ]
          },
          "metadata": {},
          "execution_count": 20
        }
      ]
    },
    {
      "cell_type": "code",
      "metadata": {
        "id": "g6alpIEZY_h_",
        "colab": {
          "base_uri": "https://localhost:8080/",
          "height": 206
        },
        "outputId": "ec5a178a-f2ed-44dc-af12-d4e77faef226"
      },
      "source": [
        "df_kit_pos.head()"
      ],
      "execution_count": 17,
      "outputs": [
        {
          "output_type": "execute_result",
          "data": {
            "text/html": [
              "<div>\n",
              "<style scoped>\n",
              "    .dataframe tbody tr th:only-of-type {\n",
              "        vertical-align: middle;\n",
              "    }\n",
              "\n",
              "    .dataframe tbody tr th {\n",
              "        vertical-align: top;\n",
              "    }\n",
              "\n",
              "    .dataframe thead th {\n",
              "        text-align: right;\n",
              "    }\n",
              "</style>\n",
              "<table border=\"1\" class=\"dataframe\">\n",
              "  <thead>\n",
              "    <tr style=\"text-align: right;\">\n",
              "      <th></th>\n",
              "      <th>asin</th>\n",
              "      <th>product_name</th>\n",
              "      <th>product_type</th>\n",
              "      <th>rating</th>\n",
              "      <th>title</th>\n",
              "      <th>review_text</th>\n",
              "    </tr>\n",
              "  </thead>\n",
              "  <tbody>\n",
              "    <tr>\n",
              "      <th>0</th>\n",
              "      <td>B00068N1DO</td>\n",
              "      <td>Lemony Snicket's A Series of Unfortunate Event...</td>\n",
              "      <td>kitchen &amp; housewares</td>\n",
              "      <td>5.0</td>\n",
              "      <td>Perfectly fits the books' atmosphere</td>\n",
              "      <td>For those of you unfamiliar with the \"A Series...</td>\n",
              "    </tr>\n",
              "    <tr>\n",
              "      <th>1</th>\n",
              "      <td>B000634GCO</td>\n",
              "      <td>Stationary Bark Control by Petsafe: Kitchen &amp; ...</td>\n",
              "      <td>kitchen &amp; housewares</td>\n",
              "      <td>5.0</td>\n",
              "      <td>no more doggy fueds with neighbor</td>\n",
              "      <td>i absolutely love this product. my neighbor ha...</td>\n",
              "    </tr>\n",
              "    <tr>\n",
              "      <th>2</th>\n",
              "      <td>B0006PK1D0</td>\n",
              "      <td>Reporter WireFree Intercom System: Kitchen &amp; H...</td>\n",
              "      <td>kitchen &amp; housewares</td>\n",
              "      <td>4.0</td>\n",
              "      <td>Worked for us</td>\n",
              "      <td>I purchased 3 units and they work well for us....</td>\n",
              "    </tr>\n",
              "    <tr>\n",
              "      <th>3</th>\n",
              "      <td>B00009K3V1</td>\n",
              "      <td>Waring DF200 Professional Deep Fryer, Brushed ...</td>\n",
              "      <td>kitchen &amp; housewares</td>\n",
              "      <td>4.0</td>\n",
              "      <td>New Fry-guy - pretty pleased....</td>\n",
              "      <td>I've always wanted a deep fryer, and finally d...</td>\n",
              "    </tr>\n",
              "    <tr>\n",
              "      <th>4</th>\n",
              "      <td>B00009K3V1</td>\n",
              "      <td>Waring DF200 Professional Deep Fryer, Brushed ...</td>\n",
              "      <td>kitchen &amp; housewares</td>\n",
              "      <td>5.0</td>\n",
              "      <td>Excellent fryer</td>\n",
              "      <td>Easy to use, easy to clean. Two major requirem...</td>\n",
              "    </tr>\n",
              "  </tbody>\n",
              "</table>\n",
              "</div>"
            ],
            "text/plain": [
              "         asin  ...                                        review_text\n",
              "0  B00068N1DO  ...  For those of you unfamiliar with the \"A Series...\n",
              "1  B000634GCO  ...  i absolutely love this product. my neighbor ha...\n",
              "2  B0006PK1D0  ...  I purchased 3 units and they work well for us....\n",
              "3  B00009K3V1  ...  I've always wanted a deep fryer, and finally d...\n",
              "4  B00009K3V1  ...  Easy to use, easy to clean. Two major requirem...\n",
              "\n",
              "[5 rows x 6 columns]"
            ]
          },
          "metadata": {},
          "execution_count": 17
        }
      ]
    },
    {
      "cell_type": "markdown",
      "metadata": {
        "id": "3CSf8ayoGMdo"
      },
      "source": [
        "**CONCATENATING ALL THE DATAFRAMES TO FORM A SINGLE DATAFRAME**"
      ]
    },
    {
      "cell_type": "code",
      "metadata": {
        "id": "-BHI_PijZOMm"
      },
      "source": [
        "df_data = pd.concat([df_books_neg,df_books_pos,df_dvd_neg,df_dvd_pos,df_ele_neg,df_ele_pos,df_kit_neg,df_kit_pos], axis=0)"
      ],
      "execution_count": 18,
      "outputs": []
    },
    {
      "cell_type": "code",
      "metadata": {
        "colab": {
          "base_uri": "https://localhost:8080/"
        },
        "id": "1QTDn5Qq9dAu",
        "outputId": "5591833a-88e7-45b1-9ded-b86129d14667"
      },
      "source": [
        "df_data.shape"
      ],
      "execution_count": 19,
      "outputs": [
        {
          "output_type": "execute_result",
          "data": {
            "text/plain": [
              "(8000, 6)"
            ]
          },
          "metadata": {},
          "execution_count": 19
        }
      ]
    },
    {
      "cell_type": "markdown",
      "metadata": {
        "id": "OH3ClYtR353j"
      },
      "source": [
        "**SAVING THE DATAFRAME AS A CSV FILE**"
      ]
    },
    {
      "cell_type": "code",
      "metadata": {
        "id": "6x2Wg8SKu2WL"
      },
      "source": [
        "df_data.to_csv('Amazon_Reviews.csv')"
      ],
      "execution_count": 20,
      "outputs": []
    },
    {
      "cell_type": "markdown",
      "metadata": {
        "id": "N7By62bzGWOh"
      },
      "source": [
        "**SHUFFLING THE ENTIRE DATASET**"
      ]
    },
    {
      "cell_type": "code",
      "metadata": {
        "id": "lQYJrD3dcfoZ"
      },
      "source": [
        "df_data= df_data.sample(frac = 1)"
      ],
      "execution_count": null,
      "outputs": []
    },
    {
      "cell_type": "code",
      "metadata": {
        "colab": {
          "base_uri": "https://localhost:8080/",
          "height": 206
        },
        "id": "zZVGuUVeGpNm",
        "outputId": "74749f60-a047-4658-be70-097f9c3a3b8e"
      },
      "source": [
        "df_data.head()"
      ],
      "execution_count": null,
      "outputs": [
        {
          "output_type": "execute_result",
          "data": {
            "text/html": [
              "<div>\n",
              "<style scoped>\n",
              "    .dataframe tbody tr th:only-of-type {\n",
              "        vertical-align: middle;\n",
              "    }\n",
              "\n",
              "    .dataframe tbody tr th {\n",
              "        vertical-align: top;\n",
              "    }\n",
              "\n",
              "    .dataframe thead th {\n",
              "        text-align: right;\n",
              "    }\n",
              "</style>\n",
              "<table border=\"1\" class=\"dataframe\">\n",
              "  <thead>\n",
              "    <tr style=\"text-align: right;\">\n",
              "      <th></th>\n",
              "      <th>asin</th>\n",
              "      <th>product_name</th>\n",
              "      <th>product_type</th>\n",
              "      <th>rating</th>\n",
              "      <th>title</th>\n",
              "      <th>review_text</th>\n",
              "    </tr>\n",
              "  </thead>\n",
              "  <tbody>\n",
              "    <tr>\n",
              "      <th>824</th>\n",
              "      <td>B000FIHN8O</td>\n",
              "      <td>Threshold - The Complete Series: DVD: John Sho...</td>\n",
              "      <td>dvd</td>\n",
              "      <td>4.0</td>\n",
              "      <td>Potentially Promising; Hence Its Sudden Suffoc...</td>\n",
              "      <td>CBS's THRESHOLD held the promise of a good sci...</td>\n",
              "    </tr>\n",
              "    <tr>\n",
              "      <th>132</th>\n",
              "      <td>B00004SGFP</td>\n",
              "      <td>KitchenAid RVSA Slicer/Shredder Attachment for...</td>\n",
              "      <td>kitchen &amp; housewares</td>\n",
              "      <td>4.0</td>\n",
              "      <td>Shred away</td>\n",
              "      <td>This is a great shredder.  Absolutly the best ...</td>\n",
              "    </tr>\n",
              "    <tr>\n",
              "      <th>810</th>\n",
              "      <td>B00007ELEC</td>\n",
              "      <td>.com for Murder: DVD: Nastassja Kinski,Nicolle...</td>\n",
              "      <td>dvd</td>\n",
              "      <td>1.0</td>\n",
              "      <td>.crap for movie</td>\n",
              "      <td>Where to start with this bad movie?\\n\\nAs if t...</td>\n",
              "    </tr>\n",
              "    <tr>\n",
              "      <th>416</th>\n",
              "      <td>B0000VLKW6</td>\n",
              "      <td>Yoga Complete for Weight Loss: DVD: Yoga for W...</td>\n",
              "      <td>dvd</td>\n",
              "      <td>1.0</td>\n",
              "      <td>Skip this!</td>\n",
              "      <td>Terrible voice, depressing indoor scenery, inc...</td>\n",
              "    </tr>\n",
              "    <tr>\n",
              "      <th>30</th>\n",
              "      <td>B00006L58I</td>\n",
              "      <td>KitchenAid KSM90WH Ultra Power 300-Watt 4-1/2-...</td>\n",
              "      <td>kitchen &amp; housewares</td>\n",
              "      <td>5.0</td>\n",
              "      <td>The more you use it, the more you will love it.</td>\n",
              "      <td>I absolutely love my KitchenAid mixer.  I like...</td>\n",
              "    </tr>\n",
              "  </tbody>\n",
              "</table>\n",
              "</div>"
            ],
            "text/plain": [
              "           asin  ...                                        review_text\n",
              "824  B000FIHN8O  ...  CBS's THRESHOLD held the promise of a good sci...\n",
              "132  B00004SGFP  ...  This is a great shredder.  Absolutly the best ...\n",
              "810  B00007ELEC  ...  Where to start with this bad movie?\\n\\nAs if t...\n",
              "416  B0000VLKW6  ...  Terrible voice, depressing indoor scenery, inc...\n",
              "30   B00006L58I  ...  I absolutely love my KitchenAid mixer.  I like...\n",
              "\n",
              "[5 rows x 6 columns]"
            ]
          },
          "metadata": {},
          "execution_count": 25
        }
      ]
    },
    {
      "cell_type": "code",
      "metadata": {
        "id": "d_mZ2Qr3dHPB"
      },
      "source": [
        "df_data['rating'] = np.where((df_data['rating'] < 3), 0, df_data.rating)\n",
        "df_data['rating'] = np.where((df_data['rating'] > 3), 1, df_data.rating)\n",
        "df_data= df_data[df_data['rating'] != 3]"
      ],
      "execution_count": null,
      "outputs": []
    },
    {
      "cell_type": "code",
      "metadata": {
        "id": "4EO7TCy5HIp0"
      },
      "source": [
        "df_data['Word_counts']=df_data['review_text'].apply(lambda x: len(str(x.split())))"
      ],
      "execution_count": null,
      "outputs": []
    },
    {
      "cell_type": "code",
      "metadata": {
        "colab": {
          "base_uri": "https://localhost:8080/",
          "height": 206
        },
        "id": "uPeuj508-RDk",
        "outputId": "4c70f5f8-8a86-4016-a385-318006546efe"
      },
      "source": [
        "df_data.head()"
      ],
      "execution_count": null,
      "outputs": [
        {
          "output_type": "execute_result",
          "data": {
            "text/html": [
              "<div>\n",
              "<style scoped>\n",
              "    .dataframe tbody tr th:only-of-type {\n",
              "        vertical-align: middle;\n",
              "    }\n",
              "\n",
              "    .dataframe tbody tr th {\n",
              "        vertical-align: top;\n",
              "    }\n",
              "\n",
              "    .dataframe thead th {\n",
              "        text-align: right;\n",
              "    }\n",
              "</style>\n",
              "<table border=\"1\" class=\"dataframe\">\n",
              "  <thead>\n",
              "    <tr style=\"text-align: right;\">\n",
              "      <th></th>\n",
              "      <th>asin</th>\n",
              "      <th>product_name</th>\n",
              "      <th>product_type</th>\n",
              "      <th>rating</th>\n",
              "      <th>title</th>\n",
              "      <th>review_text</th>\n",
              "      <th>Word_counts</th>\n",
              "    </tr>\n",
              "  </thead>\n",
              "  <tbody>\n",
              "    <tr>\n",
              "      <th>824</th>\n",
              "      <td>B000FIHN8O</td>\n",
              "      <td>Threshold - The Complete Series: DVD: John Sho...</td>\n",
              "      <td>dvd</td>\n",
              "      <td>1.0</td>\n",
              "      <td>Potentially Promising; Hence Its Sudden Suffoc...</td>\n",
              "      <td>CBS's THRESHOLD held the promise of a good sci...</td>\n",
              "      <td>2498</td>\n",
              "    </tr>\n",
              "    <tr>\n",
              "      <th>132</th>\n",
              "      <td>B00004SGFP</td>\n",
              "      <td>KitchenAid RVSA Slicer/Shredder Attachment for...</td>\n",
              "      <td>kitchen &amp; housewares</td>\n",
              "      <td>1.0</td>\n",
              "      <td>Shred away</td>\n",
              "      <td>This is a great shredder.  Absolutly the best ...</td>\n",
              "      <td>962</td>\n",
              "    </tr>\n",
              "    <tr>\n",
              "      <th>810</th>\n",
              "      <td>B00007ELEC</td>\n",
              "      <td>.com for Murder: DVD: Nastassja Kinski,Nicolle...</td>\n",
              "      <td>dvd</td>\n",
              "      <td>0.0</td>\n",
              "      <td>.crap for movie</td>\n",
              "      <td>Where to start with this bad movie?\\n\\nAs if t...</td>\n",
              "      <td>1618</td>\n",
              "    </tr>\n",
              "    <tr>\n",
              "      <th>416</th>\n",
              "      <td>B0000VLKW6</td>\n",
              "      <td>Yoga Complete for Weight Loss: DVD: Yoga for W...</td>\n",
              "      <td>dvd</td>\n",
              "      <td>0.0</td>\n",
              "      <td>Skip this!</td>\n",
              "      <td>Terrible voice, depressing indoor scenery, inc...</td>\n",
              "      <td>167</td>\n",
              "    </tr>\n",
              "    <tr>\n",
              "      <th>30</th>\n",
              "      <td>B00006L58I</td>\n",
              "      <td>KitchenAid KSM90WH Ultra Power 300-Watt 4-1/2-...</td>\n",
              "      <td>kitchen &amp; housewares</td>\n",
              "      <td>1.0</td>\n",
              "      <td>The more you use it, the more you will love it.</td>\n",
              "      <td>I absolutely love my KitchenAid mixer.  I like...</td>\n",
              "      <td>1011</td>\n",
              "    </tr>\n",
              "  </tbody>\n",
              "</table>\n",
              "</div>"
            ],
            "text/plain": [
              "           asin  ... Word_counts\n",
              "824  B000FIHN8O  ...        2498\n",
              "132  B00004SGFP  ...         962\n",
              "810  B00007ELEC  ...        1618\n",
              "416  B0000VLKW6  ...         167\n",
              "30   B00006L58I  ...        1011\n",
              "\n",
              "[5 rows x 7 columns]"
            ]
          },
          "metadata": {},
          "execution_count": 28
        }
      ]
    },
    {
      "cell_type": "code",
      "metadata": {
        "colab": {
          "base_uri": "https://localhost:8080/",
          "height": 856
        },
        "id": "424n-oFoHUmC",
        "outputId": "3db35952-27f1-43d0-f652-57ce3fb0b365"
      },
      "source": [
        "plt.figure(figsize=(20,14))\n",
        "sns.barplot(x='rating', y='Word_counts', data=df_data)\n",
        "plt.title('Avg no. of words in Reviews Vs. Rating')"
      ],
      "execution_count": null,
      "outputs": [
        {
          "output_type": "execute_result",
          "data": {
            "text/plain": [
              "Text(0.5, 1.0, 'Avg no. of words in Reviews Vs. Rating')"
            ]
          },
          "metadata": {},
          "execution_count": 29
        },
        {
          "output_type": "display_data",
          "data": {
            "image/png": "[encoded data removed]",
            "text/plain": [
              "<Figure size 1440x1008 with 1 Axes>"
            ]
          },
          "metadata": {
            "needs_background": "light"
          }
        }
      ]
    },
    {
      "cell_type": "markdown",
      "metadata": {
        "id": "JhMMWVEDIW1g"
      },
      "source": [
        "**OBSERVATION:-**\n",
        "\n",
        "1. From the above plot we can see that Avg. No. of Words in Positive Review is slightly more than the Avg. No. of Words in Negative review."
      ]
    },
    {
      "cell_type": "code",
      "metadata": {
        "colab": {
          "base_uri": "https://localhost:8080/"
        },
        "id": "zlWwk41B5Gqt",
        "outputId": "4201238f-b6af-4c13-c290-8acf1a6f07af"
      },
      "source": [
        "print(df_data.isna().sum())"
      ],
      "execution_count": null,
      "outputs": [
        {
          "output_type": "stream",
          "name": "stdout",
          "text": [
            "asin            0\n",
            "product_name    0\n",
            "product_type    0\n",
            "rating          0\n",
            "title           0\n",
            "review_text     0\n",
            "Word_counts     0\n",
            "dtype: int64\n"
          ]
        }
      ]
    },
    {
      "cell_type": "markdown",
      "metadata": {
        "id": "JmWdB5CmKE_m"
      },
      "source": [
        "**IMPORTING THE TRAIN TEST SPLIT MODULE FROM SKLEARN MODEL SELECTION LIBRARY**"
      ]
    },
    {
      "cell_type": "code",
      "metadata": {
        "id": "la9k_tuL466K"
      },
      "source": [
        "from sklearn.model_selection import train_test_split\n",
        "train,test=train_test_split(df_data, test_size=0.3)"
      ],
      "execution_count": null,
      "outputs": []
    },
    {
      "cell_type": "code",
      "metadata": {
        "id": "JuekYaKQ469B",
        "colab": {
          "base_uri": "https://localhost:8080/"
        },
        "outputId": "57881d85-d876-40e8-97b6-f02944b7a65e"
      },
      "source": [
        "print(train.shape)\n",
        "print(test.shape)"
      ],
      "execution_count": null,
      "outputs": [
        {
          "output_type": "stream",
          "name": "stdout",
          "text": [
            "(5600, 7)\n",
            "(2400, 7)\n"
          ]
        }
      ]
    },
    {
      "cell_type": "markdown",
      "metadata": {
        "id": "PbKt6d8OKThg"
      },
      "source": [
        "**IMPORTING THE NLTK TOOLS**"
      ]
    },
    {
      "cell_type": "code",
      "metadata": {
        "id": "ncqu1MSi47AR",
        "colab": {
          "base_uri": "https://localhost:8080/"
        },
        "outputId": "e2ce25fb-da0c-4ca4-9b0a-33f1fd214a49"
      },
      "source": [
        "import nltk\n",
        "nltk.download('wordnet')\n",
        "nltk.download('stopwords')\n",
        "nltk.download('punkt')\n",
        "from nltk.corpus import stopwords\n",
        "STOPWORDS = set(stopwords.words('english'))\n",
        "from nltk.tokenize import word_tokenize\n",
        "import re"
      ],
      "execution_count": null,
      "outputs": [
        {
          "output_type": "stream",
          "name": "stdout",
          "text": [
            "[nltk_data] Downloading package wordnet to /root/nltk_data...\n",
            "[nltk_data]   Unzipping corpora/wordnet.zip.\n",
            "[nltk_data] Downloading package stopwords to /root/nltk_data...\n",
            "[nltk_data]   Unzipping corpora/stopwords.zip.\n",
            "[nltk_data] Downloading package punkt to /root/nltk_data...\n",
            "[nltk_data]   Unzipping tokenizers/punkt.zip.\n"
          ]
        }
      ]
    },
    {
      "cell_type": "markdown",
      "metadata": {
        "id": "F6-lzkCEKa42"
      },
      "source": [
        "**IMPORTING THE OTHER NECESSARY LIBRARIES**"
      ]
    },
    {
      "cell_type": "code",
      "metadata": {
        "id": "Ccho-I1247C-",
        "colab": {
          "base_uri": "https://localhost:8080/"
        },
        "outputId": "fc0c0640-390f-4917-8bdc-aa9e5fc9e0f9"
      },
      "source": [
        "!pip install inflect\n",
        "import inflect\n",
        "p = inflect.engine()\n",
        "!pip install contractions\n",
        "import contractions\n",
        "from nltk.stem import WordNetLemmatizer\n",
        "import re\n",
        "from nltk.tokenize import word_tokenize\n",
        "import gensim\n",
        "import string"
      ],
      "execution_count": null,
      "outputs": [
        {
          "output_type": "stream",
          "name": "stdout",
          "text": [
            "Requirement already satisfied: inflect in /usr/local/lib/python3.7/dist-packages (2.1.0)\n",
            "Collecting contractions\n",
            "  Downloading contractions-0.0.58-py2.py3-none-any.whl (8.0 kB)\n",
            "Collecting textsearch>=0.0.21\n",
            "  Downloading textsearch-0.0.21-py2.py3-none-any.whl (7.5 kB)\n",
            "Collecting anyascii\n",
            "  Downloading anyascii-0.3.0-py3-none-any.whl (284 kB)\n",
            "\u001b[K     |████████████████████████████████| 284 kB 5.4 MB/s \n",
            "\u001b[?25hCollecting pyahocorasick\n",
            "  Downloading pyahocorasick-1.4.2.tar.gz (321 kB)\n",
            "\u001b[K     |████████████████████████████████| 321 kB 41.7 MB/s \n",
            "\u001b[?25hBuilding wheels for collected packages: pyahocorasick\n",
            "  Building wheel for pyahocorasick (setup.py) ... \u001b[?25l\u001b[?25hdone\n",
            "  Created wheel for pyahocorasick: filename=pyahocorasick-1.4.2-cp37-cp37m-linux_x86_64.whl size=85455 sha256=2396c895be44c29a1069ae0628f508d4dd1eb1c7508b86175b0c53addbf56eb9\n",
            "  Stored in directory: /root/.cache/pip/wheels/25/19/a6/8f363d9939162782bb8439d886469756271abc01f76fbd790f\n",
            "Successfully built pyahocorasick\n",
            "Installing collected packages: pyahocorasick, anyascii, textsearch, contractions\n",
            "Successfully installed anyascii-0.3.0 contractions-0.0.58 pyahocorasick-1.4.2 textsearch-0.0.21\n"
          ]
        }
      ]
    },
    {
      "cell_type": "markdown",
      "metadata": {
        "id": "nNnp9_PqK2Zh"
      },
      "source": [
        "**DEFINING A TEXT PREPROCESSING FUNCTION**"
      ]
    },
    {
      "cell_type": "code",
      "metadata": {
        "id": "XTjb85_k47Ft"
      },
      "source": [
        "def text_Preprocessing(text):\n",
        "  def remove_emoji(text):\n",
        "    emoji_pattern = re.compile(\"[\"\n",
        "                           u\"\\U0001F600-\\U0001F64F\" \n",
        "                           u\"\\U0001F300-\\U0001F5FF\" \n",
        "                           u\"\\U0001F680-\\U0001F6FF\"  \n",
        "                           u\"\\U0001F1E0-\\U0001F1FF\"  \n",
        "                           u\"\\U00002702-\\U000027B0\"\n",
        "                           u\"\\U000024C2-\\U0001F251\"\n",
        "                           \"]+\", flags=re.UNICODE)\n",
        "    return emoji_pattern.sub(r'', text)\n",
        "  reviews =[contractions.fix(text) for text in text]\n",
        "  reviews =[text.lower() for text in reviews]\n",
        "  reviews =[re.sub(r'\\S+@\\S+','',text) for text in reviews]\n",
        "  reviews =[re.sub(r'\\d+','',text) for text in reviews]\n",
        "  reviews =[re.sub(r'[^\\w\\s]','',text) for text in reviews]\n",
        "  reviews =[text.strip() for text in reviews]\n",
        "  reviews =[remove_emoji(text) for text in reviews] \n",
        "\n",
        "  stop_words=set(stopwords.words('english'))\n",
        "  \n",
        "  cleaned_reviews=[]\n",
        "  for review in reviews:\n",
        "    tokens =[word for word in word_tokenize(review) if not word in stop_words]\n",
        "    cleaned_reviews.append(\" \".join(tokens))\n",
        "\n",
        "  lemmatizer = WordNetLemmatizer()\n",
        "  lem_reviews=[]\n",
        "  for review in cleaned_reviews:\n",
        "    lem_reviews.append(\" \".join(list(map(lemmatizer.lemmatize , word_tokenize(review)))))\n",
        "  \n",
        "  return lem_reviews"
      ],
      "execution_count": null,
      "outputs": []
    },
    {
      "cell_type": "markdown",
      "metadata": {
        "id": "05Njha3RNEie"
      },
      "source": [
        "**PRE-PROCESSING THE TRAIN AND TEST REVIEWS**"
      ]
    },
    {
      "cell_type": "code",
      "metadata": {
        "id": "V9hm37PS9qKZ"
      },
      "source": [
        "t=train['review_text']\n",
        "train['review_text'] =text_Preprocessing(t)"
      ],
      "execution_count": null,
      "outputs": []
    },
    {
      "cell_type": "code",
      "metadata": {
        "id": "rkVQMOMY47Lf"
      },
      "source": [
        "f=test['review_text']\n",
        "test['review_text'] =text_Preprocessing(f)"
      ],
      "execution_count": null,
      "outputs": []
    },
    {
      "cell_type": "markdown",
      "metadata": {
        "id": "wYmZtMiENSCr"
      },
      "source": [
        "**WORD COUNTS AFTER PREPROCESSING**"
      ]
    },
    {
      "cell_type": "code",
      "metadata": {
        "id": "aqcs_xBiL1Dx"
      },
      "source": [
        "train['Word_counts_after_preprocess']=train['review_text'].apply(lambda x: len(str(x.split())))\n",
        "test['Word_counts_after_preprocess']=test['review_text'].apply(lambda x: len(str(x.split())))"
      ],
      "execution_count": null,
      "outputs": []
    },
    {
      "cell_type": "code",
      "metadata": {
        "colab": {
          "base_uri": "https://localhost:8080/"
        },
        "id": "F0WJy3OJLb2G",
        "outputId": "7454533d-e26b-4945-ba56-6395635c8e06"
      },
      "source": [
        "l=[10,20,30,40,50,60,70,80,90,100]\n",
        "for ele in l:\n",
        "    print(\"{} percentile of counts is {}\".format(ele,np.percentile(train['Word_counts_after_preprocess'],ele)))"
      ],
      "execution_count": null,
      "outputs": [
        {
          "output_type": "stream",
          "name": "stdout",
          "text": [
            "10 percentile of counts is 128.0\n",
            "20 percentile of counts is 198.0\n",
            "30 percentile of counts is 264.0\n",
            "40 percentile of counts is 335.0\n",
            "50 percentile of counts is 423.0\n",
            "60 percentile of counts is 524.0\n",
            "70 percentile of counts is 680.2999999999997\n",
            "80 percentile of counts is 931.0\n",
            "90 percentile of counts is 1439.1000000000004\n",
            "100 percentile of counts is 19281.0\n"
          ]
        }
      ]
    },
    {
      "cell_type": "code",
      "metadata": {
        "colab": {
          "base_uri": "https://localhost:8080/"
        },
        "id": "MdJB0SU4LeUB",
        "outputId": "b872c438-7d35-49ee-dd82-7193b6c58a29"
      },
      "source": [
        "l=[10,20,30,40,50,60,70,80,90,100]\n",
        "for ele in l:\n",
        "    print(\"{} percentile of counts is {}\".format(ele,np.percentile(test['Word_counts_after_preprocess'],ele)))"
      ],
      "execution_count": null,
      "outputs": [
        {
          "output_type": "stream",
          "name": "stdout",
          "text": [
            "10 percentile of counts is 128.0\n",
            "20 percentile of counts is 195.0\n",
            "30 percentile of counts is 269.69999999999993\n",
            "40 percentile of counts is 344.6\n",
            "50 percentile of counts is 437.0\n",
            "60 percentile of counts is 533.3999999999999\n",
            "70 percentile of counts is 683.3\n",
            "80 percentile of counts is 958.0\n",
            "90 percentile of counts is 1487.4999999999995\n",
            "100 percentile of counts is 6564.0\n"
          ]
        }
      ]
    },
    {
      "cell_type": "markdown",
      "metadata": {
        "id": "1F0eyZdGNav7"
      },
      "source": [
        "**VISUALIZING THE TRAIN SET**"
      ]
    },
    {
      "cell_type": "code",
      "metadata": {
        "colab": {
          "base_uri": "https://localhost:8080/",
          "height": 206
        },
        "id": "zzYf5QIoAm8Q",
        "outputId": "e06c14ce-88d7-4b9f-d841-5ad61d3d0d1d"
      },
      "source": [
        "train.head()"
      ],
      "execution_count": null,
      "outputs": [
        {
          "output_type": "execute_result",
          "data": {
            "text/html": [
              "<div>\n",
              "<style scoped>\n",
              "    .dataframe tbody tr th:only-of-type {\n",
              "        vertical-align: middle;\n",
              "    }\n",
              "\n",
              "    .dataframe tbody tr th {\n",
              "        vertical-align: top;\n",
              "    }\n",
              "\n",
              "    .dataframe thead th {\n",
              "        text-align: right;\n",
              "    }\n",
              "</style>\n",
              "<table border=\"1\" class=\"dataframe\">\n",
              "  <thead>\n",
              "    <tr style=\"text-align: right;\">\n",
              "      <th></th>\n",
              "      <th>asin</th>\n",
              "      <th>product_name</th>\n",
              "      <th>product_type</th>\n",
              "      <th>rating</th>\n",
              "      <th>title</th>\n",
              "      <th>review_text</th>\n",
              "      <th>Word_counts</th>\n",
              "      <th>Word_counts_after_preprocess</th>\n",
              "    </tr>\n",
              "  </thead>\n",
              "  <tbody>\n",
              "    <tr>\n",
              "      <th>98</th>\n",
              "      <td>B0000E2FKR</td>\n",
              "      <td>Simply Hard Anodized Nonstick Roaster with Fla...</td>\n",
              "      <td>kitchen &amp; housewares</td>\n",
              "      <td>1.0</td>\n",
              "      <td>Thanksgiving clean up</td>\n",
              "      <td>cleaning easy roaster pan used would allow jui...</td>\n",
              "      <td>277</td>\n",
              "      <td>134</td>\n",
              "    </tr>\n",
              "    <tr>\n",
              "      <th>848</th>\n",
              "      <td>B0009UV7GW</td>\n",
              "      <td>Final Fantasy Unlimited - The Complete Collect...</td>\n",
              "      <td>dvd</td>\n",
              "      <td>1.0</td>\n",
              "      <td>Really Good Series... Not Long Enough Though</td>\n",
              "      <td>ok series exactly like final fantasy game elem...</td>\n",
              "      <td>1585</td>\n",
              "      <td>824</td>\n",
              "    </tr>\n",
              "    <tr>\n",
              "      <th>739</th>\n",
              "      <td>B00004SW3J</td>\n",
              "      <td>Jubilee Acrylic Martini Picks, Set of 6: Kitch...</td>\n",
              "      <td>kitchen &amp; housewares</td>\n",
              "      <td>1.0</td>\n",
              "      <td>Nice-looking martini picks</td>\n",
              "      <td>best one seen far love martini design great ba...</td>\n",
              "      <td>146</td>\n",
              "      <td>79</td>\n",
              "    </tr>\n",
              "    <tr>\n",
              "      <th>218</th>\n",
              "      <td>B0001YFX7U</td>\n",
              "      <td>Ridata 8x 4.7 GB DVD+R Spindle (100 Discs): El...</td>\n",
              "      <td>electronics</td>\n",
              "      <td>0.0</td>\n",
              "      <td>Want to donate your money to Ridata plus pay t...</td>\n",
              "      <td>buy ridata disc</td>\n",
              "      <td>42</td>\n",
              "      <td>25</td>\n",
              "    </tr>\n",
              "    <tr>\n",
              "      <th>89</th>\n",
              "      <td>B00008EM7W</td>\n",
              "      <td>Memorex CD/DVD Compact LabelMaker System: Elec...</td>\n",
              "      <td>electronics</td>\n",
              "      <td>1.0</td>\n",
              "      <td>iMac user</td>\n",
              "      <td>product good value performed well fairly easy ...</td>\n",
              "      <td>336</td>\n",
              "      <td>203</td>\n",
              "    </tr>\n",
              "  </tbody>\n",
              "</table>\n",
              "</div>"
            ],
            "text/plain": [
              "           asin  ... Word_counts_after_preprocess\n",
              "98   B0000E2FKR  ...                          134\n",
              "848  B0009UV7GW  ...                          824\n",
              "739  B00004SW3J  ...                           79\n",
              "218  B0001YFX7U  ...                           25\n",
              "89   B00008EM7W  ...                          203\n",
              "\n",
              "[5 rows x 8 columns]"
            ]
          },
          "metadata": {},
          "execution_count": 41
        }
      ]
    },
    {
      "cell_type": "markdown",
      "metadata": {
        "id": "2mGMiGOqNf80"
      },
      "source": [
        "**VISUALIZE THE TEST SET**"
      ]
    },
    {
      "cell_type": "code",
      "metadata": {
        "colab": {
          "base_uri": "https://localhost:8080/",
          "height": 206
        },
        "id": "RI74Tjg4Aorz",
        "outputId": "1586ee9a-9c5e-48cd-cb14-3695ebd04614"
      },
      "source": [
        "test.head()"
      ],
      "execution_count": null,
      "outputs": [
        {
          "output_type": "execute_result",
          "data": {
            "text/html": [
              "<div>\n",
              "<style scoped>\n",
              "    .dataframe tbody tr th:only-of-type {\n",
              "        vertical-align: middle;\n",
              "    }\n",
              "\n",
              "    .dataframe tbody tr th {\n",
              "        vertical-align: top;\n",
              "    }\n",
              "\n",
              "    .dataframe thead th {\n",
              "        text-align: right;\n",
              "    }\n",
              "</style>\n",
              "<table border=\"1\" class=\"dataframe\">\n",
              "  <thead>\n",
              "    <tr style=\"text-align: right;\">\n",
              "      <th></th>\n",
              "      <th>asin</th>\n",
              "      <th>product_name</th>\n",
              "      <th>product_type</th>\n",
              "      <th>rating</th>\n",
              "      <th>title</th>\n",
              "      <th>review_text</th>\n",
              "      <th>Word_counts</th>\n",
              "      <th>Word_counts_after_preprocess</th>\n",
              "    </tr>\n",
              "  </thead>\n",
              "  <tbody>\n",
              "    <tr>\n",
              "      <th>495</th>\n",
              "      <td>0790737345</td>\n",
              "      <td>City of Angels: DVD: Nicolas Cage,Meg Ryan,And...</td>\n",
              "      <td>dvd</td>\n",
              "      <td>0.0</td>\n",
              "      <td>Chick Flick Hell</td>\n",
              "      <td>warning spoiler believe people excuse woman gi...</td>\n",
              "      <td>2655</td>\n",
              "      <td>1487</td>\n",
              "    </tr>\n",
              "    <tr>\n",
              "      <th>178</th>\n",
              "      <td>B0006GAI6Y</td>\n",
              "      <td>Shall We Dance? (Widescreen Edition): DVD: Pet...</td>\n",
              "      <td>dvd</td>\n",
              "      <td>0.0</td>\n",
              "      <td>Nope</td>\n",
              "      <td>movie mother recommended lame way middleaged m...</td>\n",
              "      <td>1053</td>\n",
              "      <td>546</td>\n",
              "    </tr>\n",
              "    <tr>\n",
              "      <th>755</th>\n",
              "      <td>B000H6AK7A</td>\n",
              "      <td>LitterMaid Elite LME9000 Mega Advanced Automat...</td>\n",
              "      <td>kitchen &amp; housewares</td>\n",
              "      <td>0.0</td>\n",
              "      <td>worse than scooping everyday</td>\n",
              "      <td>bought box month ago stopped using month ago t...</td>\n",
              "      <td>2072</td>\n",
              "      <td>1059</td>\n",
              "    </tr>\n",
              "    <tr>\n",
              "      <th>733</th>\n",
              "      <td>B00006B9WD</td>\n",
              "      <td>Cyber Acoustics CA2015 2.0 Computer Speakers(2...</td>\n",
              "      <td>electronics</td>\n",
              "      <td>1.0</td>\n",
              "      <td>Cheap and clever</td>\n",
              "      <td>needed speaker system batch new workstation pr...</td>\n",
              "      <td>918</td>\n",
              "      <td>586</td>\n",
              "    </tr>\n",
              "    <tr>\n",
              "      <th>282</th>\n",
              "      <td>B0006DOY0S</td>\n",
              "      <td>Vornado EH1-0028-06 Digital Vortex Heater, DVT...</td>\n",
              "      <td>kitchen &amp; housewares</td>\n",
              "      <td>1.0</td>\n",
              "      <td>Totally Worth It!</td>\n",
              "      <td>reading review hearing radio went ahead shelle...</td>\n",
              "      <td>1337</td>\n",
              "      <td>699</td>\n",
              "    </tr>\n",
              "  </tbody>\n",
              "</table>\n",
              "</div>"
            ],
            "text/plain": [
              "           asin  ... Word_counts_after_preprocess\n",
              "495  0790737345  ...                         1487\n",
              "178  B0006GAI6Y  ...                          546\n",
              "755  B000H6AK7A  ...                         1059\n",
              "733  B00006B9WD  ...                          586\n",
              "282  B0006DOY0S  ...                          699\n",
              "\n",
              "[5 rows x 8 columns]"
            ]
          },
          "metadata": {},
          "execution_count": 42
        }
      ]
    },
    {
      "cell_type": "markdown",
      "metadata": {
        "id": "_anbK1_aGaNo"
      },
      "source": [
        "**BERT**"
      ]
    },
    {
      "cell_type": "code",
      "metadata": {
        "id": "IVelx7G_uP9C"
      },
      "source": [
        "def bert_encode(texts, tokenizer, max_len=512):\n",
        "    all_tokens = []\n",
        "    all_masks = []\n",
        "    all_segments = []\n",
        "    \n",
        "    for text in texts:\n",
        "        text = tokenizer.tokenize(text)\n",
        "            \n",
        "        text = text[:max_len-2]\n",
        "        input_sequence = [\"[CLS]\"] + text + [\"[SEP]\"]\n",
        "        pad_len = max_len - len(input_sequence)\n",
        "        \n",
        "        tokens = tokenizer.convert_tokens_to_ids(input_sequence)\n",
        "        tokens += [0] * pad_len\n",
        "        pad_masks = [1] * len(input_sequence) + [0] * pad_len\n",
        "        segment_ids = [0] * max_len\n",
        "        \n",
        "        all_tokens.append(tokens)\n",
        "        all_masks.append(pad_masks)\n",
        "        all_segments.append(segment_ids)\n",
        "    \n",
        "    return np.array(all_tokens), np.array(all_masks), np.array(all_segments)"
      ],
      "execution_count": null,
      "outputs": []
    },
    {
      "cell_type": "code",
      "metadata": {
        "id": "8WCZtO_WuQAD"
      },
      "source": [
        "import tensorflow_hub as hub\n",
        "module_url = \"https://tfhub.dev/tensorflow/bert_en_uncased_L-24_H-1024_A-16/1\"\n",
        "bert_layer = hub.KerasLayer(module_url, trainable=True)"
      ],
      "execution_count": null,
      "outputs": []
    },
    {
      "cell_type": "code",
      "metadata": {
        "id": "z5CFMQzduQDV",
        "colab": {
          "base_uri": "https://localhost:8080/"
        },
        "outputId": "d24cfc8a-4178-4142-9d97-106035fcc9eb"
      },
      "source": [
        "!wget --quiet https://raw.githubusercontent.com/tensorflow/models/master/official/nlp/bert/tokenization.py\n",
        "!pip install bert-for-tf2\n",
        "import numpy as np\n",
        "import tensorflow_hub as hub\n",
        "from bert import bert_tokenization\n",
        "\n",
        "\n",
        "vocab_file = bert_layer.resolved_object.vocab_file.asset_path.numpy()\n",
        "do_lower_case = bert_layer.resolved_object.do_lower_case.numpy()\n",
        "tokenizer = bert_tokenization.FullTokenizer(vocab_file, do_lower_case)"
      ],
      "execution_count": null,
      "outputs": [
        {
          "output_type": "stream",
          "name": "stdout",
          "text": [
            "Collecting bert-for-tf2\n",
            "  Downloading bert-for-tf2-0.14.9.tar.gz (41 kB)\n",
            "\u001b[?25l\r\u001b[K     |████████                        | 10 kB 20.8 MB/s eta 0:00:01\r\u001b[K     |████████████████                | 20 kB 20.4 MB/s eta 0:00:01\r\u001b[K     |███████████████████████▉        | 30 kB 15.6 MB/s eta 0:00:01\r\u001b[K     |███████████████████████████████▉| 40 kB 14.2 MB/s eta 0:00:01\r\u001b[K     |████████████████████████████████| 41 kB 129 kB/s \n",
            "\u001b[?25hCollecting py-params>=0.9.6\n",
            "  Downloading py-params-0.10.2.tar.gz (7.4 kB)\n",
            "Collecting params-flow>=0.8.0\n",
            "  Downloading params-flow-0.8.2.tar.gz (22 kB)\n",
            "Requirement already satisfied: numpy in /usr/local/lib/python3.7/dist-packages (from params-flow>=0.8.0->bert-for-tf2) (1.19.5)\n",
            "Requirement already satisfied: tqdm in /usr/local/lib/python3.7/dist-packages (from params-flow>=0.8.0->bert-for-tf2) (4.62.3)\n",
            "Building wheels for collected packages: bert-for-tf2, params-flow, py-params\n",
            "  Building wheel for bert-for-tf2 (setup.py) ... \u001b[?25l\u001b[?25hdone\n",
            "  Created wheel for bert-for-tf2: filename=bert_for_tf2-0.14.9-py3-none-any.whl size=30534 sha256=d94d6d66a458f3b4b14beb00ca952fb62a52c26f5c5011cc7da76a4809817088\n",
            "  Stored in directory: /root/.cache/pip/wheels/47/b6/e5/8c76ec779f54bc5c2f1b57d2200bb9c77616da83873e8acb53\n",
            "  Building wheel for params-flow (setup.py) ... \u001b[?25l\u001b[?25hdone\n",
            "  Created wheel for params-flow: filename=params_flow-0.8.2-py3-none-any.whl size=19473 sha256=34b013f11fb25453c589ab01261c3ed0a725574634f0e26cadce90f931bc8dd5\n",
            "  Stored in directory: /root/.cache/pip/wheels/0e/fc/d2/a44fff33af0f233d7def6e7de413006d57c10e10ad736fe8f5\n",
            "  Building wheel for py-params (setup.py) ... \u001b[?25l\u001b[?25hdone\n",
            "  Created wheel for py-params: filename=py_params-0.10.2-py3-none-any.whl size=7912 sha256=66a89c399492410937b482361bec07c1d9c17a24a4896d50718cca42393e0fe9\n",
            "  Stored in directory: /root/.cache/pip/wheels/e1/11/67/33cc51bbee127cb8fb2ba549cd29109b2f22da43ddf9969716\n",
            "Successfully built bert-for-tf2 params-flow py-params\n",
            "Installing collected packages: py-params, params-flow, bert-for-tf2\n",
            "Successfully installed bert-for-tf2-0.14.9 params-flow-0.8.2 py-params-0.10.2\n"
          ]
        }
      ]
    },
    {
      "cell_type": "code",
      "metadata": {
        "id": "5OR97n_2uQGA"
      },
      "source": [
        "train_input = bert_encode(train.review_text.values, tokenizer, max_len=50)\n",
        "test_input = bert_encode(test.review_text.values, tokenizer, max_len=50)\n",
        "train_labels = train.rating.values\n",
        "test_labels = test.rating.values"
      ],
      "execution_count": null,
      "outputs": []
    },
    {
      "cell_type": "code",
      "metadata": {
        "id": "TT6b3bRGuQI2"
      },
      "source": [
        "max_seq_length=1500"
      ],
      "execution_count": null,
      "outputs": []
    },
    {
      "cell_type": "code",
      "metadata": {
        "id": "ZoIVqpBquQLu"
      },
      "source": [
        "def build_model(bert_layer,Dropout_num, max_len=36):\n",
        "    input_word_ids = tf.keras.layers.Input(shape=(max_len,), dtype=tf.int32, name=\"input_word_ids\")\n",
        "    input_mask = tf.keras.layers.Input(shape=(max_len,), dtype=tf.int32, name=\"input_mask\")\n",
        "    segment_ids = tf.keras.layers.Input(shape=(max_len,), dtype=tf.int32, name=\"segment_ids\")\n",
        "\n",
        "    _, sequence_output = bert_layer([input_word_ids, input_mask, segment_ids])\n",
        "    clf_output = sequence_output[:, 0, :]\n",
        "    \n",
        "    x = tf.keras.layers. Dropout(Dropout_num)(clf_output)\n",
        "    out4 = tf.keras.layers. Dense(1, activation='sigmoid')(x)\n",
        "    \n",
        "    model = tf.keras.models.Model(inputs=[input_word_ids, input_mask, segment_ids], outputs=out4)\n",
        "#   model.compile(tf.keras.optimizers.Adam(lr=6e-6), loss='binary_crossentropy', metrics=['accuracy'])\n",
        "    model.compile(tf.keras.optimizers.SGD(learning_rate=0.0001, momentum=0.8), loss='binary_crossentropy', metrics=['accuracy'])\n",
        "    return model"
      ],
      "execution_count": null,
      "outputs": []
    },
    {
      "cell_type": "code",
      "metadata": {
        "id": "bUT2Rft2uQOT"
      },
      "source": [
        "import tensorflow as tf\n",
        "model_BERT = build_model(bert_layer,0, max_len=50)"
      ],
      "execution_count": null,
      "outputs": []
    },
    {
      "cell_type": "code",
      "metadata": {
        "id": "Q0tLpAP0uQRw",
        "colab": {
          "base_uri": "https://localhost:8080/"
        },
        "outputId": "66ae0873-daac-4e87-cb81-92823aef8b5d"
      },
      "source": [
        "train_history = model_BERT.fit(\n",
        "    train_input, train_labels,\n",
        "    validation_data=(test_input, test_labels),\n",
        "    epochs = 10, \n",
        "    batch_size = 32,\n",
        "    verbose=1,\n",
        ")"
      ],
      "execution_count": null,
      "outputs": [
        {
          "output_type": "stream",
          "name": "stdout",
          "text": [
            "Epoch 1/10\n",
            "175/175 [==============================] - 445s 2s/step - loss: 0.6600 - accuracy: 0.6198 - val_loss: 0.6170 - val_accuracy: 0.6971\n",
            "Epoch 2/10\n",
            "175/175 [==============================] - 368s 2s/step - loss: 0.5563 - accuracy: 0.7330 - val_loss: 0.5018 - val_accuracy: 0.7600\n",
            "Epoch 3/10\n",
            "175/175 [==============================] - 402s 2s/step - loss: 0.4755 - accuracy: 0.7768 - val_loss: 0.4690 - val_accuracy: 0.7850\n",
            "Epoch 4/10\n",
            "175/175 [==============================] - 402s 2s/step - loss: 0.4370 - accuracy: 0.7970 - val_loss: 0.4518 - val_accuracy: 0.7879\n",
            "Epoch 5/10\n",
            "175/175 [==============================] - 402s 2s/step - loss: 0.4071 - accuracy: 0.8171 - val_loss: 0.4406 - val_accuracy: 0.7925\n",
            "Epoch 6/10\n",
            "175/175 [==============================] - 368s 2s/step - loss: 0.3784 - accuracy: 0.8309 - val_loss: 0.4325 - val_accuracy: 0.7996\n",
            "Epoch 7/10\n",
            "175/175 [==============================] - 405s 2s/step - loss: 0.3504 - accuracy: 0.8461 - val_loss: 0.4348 - val_accuracy: 0.8021\n",
            "Epoch 8/10\n",
            "175/175 [==============================] - 372s 2s/step - loss: 0.3201 - accuracy: 0.8611 - val_loss: 0.4313 - val_accuracy: 0.8071\n",
            "Epoch 9/10\n",
            "175/175 [==============================] - 406s 2s/step - loss: 0.2907 - accuracy: 0.8807 - val_loss: 0.4390 - val_accuracy: 0.8037\n",
            "Epoch 10/10\n",
            "175/175 [==============================] - 372s 2s/step - loss: 0.2585 - accuracy: 0.8980 - val_loss: 0.4498 - val_accuracy: 0.8087\n"
          ]
        }
      ]
    },
    {
      "cell_type": "code",
      "metadata": {
        "colab": {
          "base_uri": "https://localhost:8080/"
        },
        "id": "vCs6TykUHuvH",
        "outputId": "c8ca7721-6aba-456d-f3e7-d6fd120d5a86"
      },
      "source": [
        "from google.colab import drive\n",
        "drive.mount('/content/drive')"
      ],
      "execution_count": null,
      "outputs": [
        {
          "output_type": "stream",
          "name": "stdout",
          "text": [
            "Mounted at /content/drive\n"
          ]
        }
      ]
    },
    {
      "cell_type": "code",
      "metadata": {
        "id": "Ubcfnz-nuQW1"
      },
      "source": [
        "model_BERT.save('/content/drive/MyDrive/Colab Notebooks/BERT_MDSA.h5')"
      ],
      "execution_count": null,
      "outputs": []
    },
    {
      "cell_type": "code",
      "metadata": {
        "id": "svpIfIC4EHgC"
      },
      "source": [
        "from tensorflow.keras.models import Model,load_model\n",
        "import tensorflow as tf\n",
        "path='/content/drive/MyDrive/Colab Notebooks/BERT_MDSA.h5'\n",
        "model=tf.keras.models.load_model((path),custom_objects={'KerasLayer':hub.KerasLayer})"
      ],
      "execution_count": null,
      "outputs": []
    },
    {
      "cell_type": "code",
      "metadata": {
        "colab": {
          "base_uri": "https://localhost:8080/"
        },
        "id": "PWiNrJJhFRgb",
        "outputId": "7200f207-3c9e-4602-89c4-834ad4e18244"
      },
      "source": [
        "predictions=model.predict(test_input)\n",
        "predictions = predictions.round().astype('float')\n",
        "predictions"
      ],
      "execution_count": null,
      "outputs": [
        {
          "output_type": "execute_result",
          "data": {
            "text/plain": [
              "array([[0.],\n",
              "       [0.],\n",
              "       [0.],\n",
              "       ...,\n",
              "       [0.],\n",
              "       [0.],\n",
              "       [1.]])"
            ]
          },
          "metadata": {},
          "execution_count": 72
        }
      ]
    },
    {
      "cell_type": "code",
      "metadata": {
        "colab": {
          "base_uri": "https://localhost:8080/"
        },
        "id": "wG9V74LoFWwI",
        "outputId": "c937539f-24d4-4e20-abe2-f9b8535246e9"
      },
      "source": [
        "from sklearn.metrics import accuracy_score\n",
        "Acc=accuracy_score(predictions, test_labels)\n",
        "print(Acc)"
      ],
      "execution_count": null,
      "outputs": [
        {
          "output_type": "stream",
          "name": "stdout",
          "text": [
            "0.80875\n"
          ]
        }
      ]
    },
    {
      "cell_type": "code",
      "metadata": {
        "colab": {
          "base_uri": "https://localhost:8080/"
        },
        "id": "GruhlppKFbF5",
        "outputId": "11a4be0d-2b7e-42b4-b7a6-8752ee6446dd"
      },
      "source": [
        "predictions=model.predict(train_input)\n",
        "predictions = predictions.round().astype('float')\n",
        "predictions"
      ],
      "execution_count": null,
      "outputs": [
        {
          "output_type": "execute_result",
          "data": {
            "text/plain": [
              "array([[1.],\n",
              "       [1.],\n",
              "       [1.],\n",
              "       ...,\n",
              "       [0.],\n",
              "       [1.],\n",
              "       [1.]])"
            ]
          },
          "metadata": {},
          "execution_count": 74
        }
      ]
    },
    {
      "cell_type": "code",
      "metadata": {
        "colab": {
          "base_uri": "https://localhost:8080/"
        },
        "id": "rSFEscWOFbJy",
        "outputId": "a9e16f7a-2c84-4b39-8358-97d53aebed8b"
      },
      "source": [
        "from sklearn.metrics import accuracy_score\n",
        "Acc=accuracy_score(predictions, train_labels)\n",
        "print(Acc)"
      ],
      "execution_count": null,
      "outputs": [
        {
          "output_type": "stream",
          "name": "stdout",
          "text": [
            "0.9196428571428571\n"
          ]
        }
      ]
    },
    {
      "cell_type": "markdown",
      "metadata": {
        "id": "JmXnjCH_AqaZ"
      },
      "source": [
        "**LSTM**"
      ]
    },
    {
      "cell_type": "code",
      "metadata": {
        "id": "WmhWxMt1HiJj"
      },
      "source": [
        "y_train= train['rating']\n",
        "X_train= train\n",
        "X_train.drop('rating', axis=1, inplace = True)\n",
        "\n",
        "y_test= test['rating']\n",
        "X_test= test\n",
        "X_test.drop('rating', axis=1, inplace = True)"
      ],
      "execution_count": null,
      "outputs": []
    },
    {
      "cell_type": "markdown",
      "metadata": {
        "id": "yiUo7cbQPlF4"
      },
      "source": [
        "**TOKENIZATION**"
      ]
    },
    {
      "cell_type": "code",
      "metadata": {
        "id": "jX_PJXxMHiRG"
      },
      "source": [
        "from keras.preprocessing.text import Tokenizer\n",
        "tokenizer = Tokenizer(num_words= 10000 )\n",
        "tokenizer.fit_on_texts(X_train[\"review_text\"])\n",
        "\n",
        "X_train['text_tok']  = tokenizer.texts_to_sequences(X_train['review_text'].values)\n",
        "X_test['text_tok']  = tokenizer.texts_to_sequences(X_test['review_text'].values)"
      ],
      "execution_count": null,
      "outputs": []
    },
    {
      "cell_type": "markdown",
      "metadata": {
        "id": "ZzhM-I6mPo5r"
      },
      "source": [
        "**PADDING AND TRUNCATING**"
      ]
    },
    {
      "cell_type": "code",
      "metadata": {
        "id": "jwoFcxYyHiT1"
      },
      "source": [
        "from keras.preprocessing import sequence\n",
        "max_review_length = 1500\n",
        "X_train_pad = sequence.pad_sequences(X_train['text_tok'].values, maxlen=max_review_length , padding='post' )\n",
        "X_test_pad  = sequence.pad_sequences(X_test['text_tok'].values, maxlen=max_review_length , padding='post')"
      ],
      "execution_count": null,
      "outputs": []
    },
    {
      "cell_type": "markdown",
      "metadata": {
        "id": "tb-2D42wQGjQ"
      },
      "source": [
        "**USING GLOVE VECTORS**"
      ]
    },
    {
      "cell_type": "code",
      "metadata": {
        "id": "YXLrVTI-HiWa"
      },
      "source": [
        "import tensorflow as tf\n",
        "import pickle\n",
        "with open('/content/drive/MyDrive/Colab Notebooks/glove_vectors', 'rb') as f:\n",
        "    glove = pickle.load(f)\n",
        "    glove_words =  set(glove.keys())"
      ],
      "execution_count": null,
      "outputs": []
    },
    {
      "cell_type": "code",
      "metadata": {
        "id": "MRpdEkkQIqFc"
      },
      "source": [
        "from numpy import zeros\n",
        "max_vocabulary = len(tokenizer.word_index)\n",
        "embedding_matrix = zeros((max_vocabulary+1, 300))\n",
        "for word, i in tokenizer.word_index.items():\n",
        "  if word in glove_words:\n",
        "    embedding_vector = glove[word]\n",
        "    embedding_matrix[i] = embedding_vector"
      ],
      "execution_count": null,
      "outputs": []
    },
    {
      "cell_type": "code",
      "metadata": {
        "id": "bR7q1tI4IqIZ"
      },
      "source": [
        "from keras.utils import np_utils\n",
        "X_train = X_train_pad\n",
        "X_test = X_test_pad\n",
        "Y_train = y_train\n",
        "Y_test = y_test"
      ],
      "execution_count": null,
      "outputs": []
    },
    {
      "cell_type": "markdown",
      "metadata": {
        "id": "Pls5WiBHQ4jD"
      },
      "source": [
        "**DEFINING THE MODEL ARCHITECTURE**"
      ]
    },
    {
      "cell_type": "code",
      "metadata": {
        "id": "Cg7Ywks9IqLO"
      },
      "source": [
        "from tensorflow.keras.layers import Dense, Input , Dropout,Flatten,concatenate,LSTM,Conv1D,BatchNormalization,Bidirectional\n",
        "from tensorflow.keras.regularizers import l2\n",
        "from keras.layers.embeddings import Embedding\n",
        "from tensorflow.keras.models import Model,load_model\n",
        "\n",
        "\n",
        "review = Input(shape=(1500,), name='review_input')\n",
        "\n",
        "X = Embedding(output_dim=300, input_dim=max_vocabulary+1, input_length=1460 , weights=[embedding_matrix],trainable=False)(review)\n",
        "lstm_review = Bidirectional(LSTM(100))(X)\n",
        "\n",
        "model = Dropout(0.5)(lstm_review)\n",
        "\n",
        "model = Flatten()(model)\n",
        "\n",
        "model = Dense(64,activation=\"relu\",kernel_initializer=\"he_normal\" ,kernel_regularizer=l2(0.001))(model)\n",
        "\n",
        "model = Dense(8,activation=\"relu\",kernel_initializer=\"he_normal\" ,kernel_regularizer=l2(0.001))(model)\n",
        "\n",
        "output = Dense(1, activation='sigmoid', name='output')(model)\n",
        "\n",
        "model = Model(inputs=[review ],outputs=[output])\n",
        "\n",
        "print(model.summary())"
      ],
      "execution_count": null,
      "outputs": []
    },
    {
      "cell_type": "markdown",
      "metadata": {
        "id": "CZuScW_2pLfR"
      },
      "source": [
        "**PLOTTING THE MODEL**"
      ]
    },
    {
      "cell_type": "code",
      "metadata": {
        "id": "_7KYEGGJR_vx"
      },
      "source": [
        "from tensorflow.keras.utils import plot_model\n",
        "plot_model(model)"
      ],
      "execution_count": null,
      "outputs": []
    },
    {
      "cell_type": "markdown",
      "metadata": {
        "id": "cP65gfH-pR0i"
      },
      "source": [
        "**USING FIT FUNCTION TO CREATE BARCHES AND TRAIN THE MODEL**"
      ]
    },
    {
      "cell_type": "code",
      "metadata": {
        "id": "LyeHv5vKIqN0"
      },
      "source": [
        "model.compile(optimizer='adam', loss='binary_crossentropy', metrics=['accuracy'])\n",
        "history = model.fit(X_train, Y_train, batch_size=64, epochs=15, verbose=1, validation_data=(X_test, Y_test))"
      ],
      "execution_count": null,
      "outputs": []
    },
    {
      "cell_type": "markdown",
      "metadata": {
        "id": "eBEownuSp1HV"
      },
      "source": [
        "**SAVING THE MODEL**"
      ]
    },
    {
      "cell_type": "code",
      "metadata": {
        "id": "JqN6xBEGIqQL"
      },
      "source": [
        "model.save('/content/drive/MyDrive/Colab Notebooks/LSTM_MDSA.h5')"
      ],
      "execution_count": null,
      "outputs": []
    },
    {
      "cell_type": "markdown",
      "metadata": {
        "id": "zhHjtoa2p7mO"
      },
      "source": [
        "**LOADING THE MODEL**"
      ]
    },
    {
      "cell_type": "code",
      "metadata": {
        "id": "iL6BwCYYIqSX"
      },
      "source": [
        "path='/content/drive/MyDrive/Colab Notebooks/LSTM_MDSA.h5'\n",
        "model=tf.keras.models.load_model((path))"
      ],
      "execution_count": null,
      "outputs": []
    },
    {
      "cell_type": "markdown",
      "metadata": {
        "id": "9vgJG29gqe12"
      },
      "source": [
        "**PREDICTING THE TEST RESULT**"
      ]
    },
    {
      "cell_type": "code",
      "metadata": {
        "id": "w1yRPJjKHiZG"
      },
      "source": [
        "predictions=model.predict(X_test)\n",
        "predictions = predictions.round().astype('float')\n",
        "predictions"
      ],
      "execution_count": null,
      "outputs": []
    },
    {
      "cell_type": "markdown",
      "metadata": {
        "id": "Sss_mx9equ_h"
      },
      "source": [
        "**ACCURACY OF THE TEST RESULT**"
      ]
    },
    {
      "cell_type": "code",
      "metadata": {
        "id": "Ri2QgPpa3XaW"
      },
      "source": [
        "from sklearn.metrics import accuracy_score\n",
        "Acc=accuracy_score(predictions, Y_test)\n",
        "print(Acc)"
      ],
      "execution_count": null,
      "outputs": []
    },
    {
      "cell_type": "markdown",
      "metadata": {
        "id": "Itsv4lwHq5D2"
      },
      "source": [
        "**PREDICTING THE TRAIN RESULT**"
      ]
    },
    {
      "cell_type": "code",
      "metadata": {
        "id": "DiYtdqwU3Xfx"
      },
      "source": [
        "predictions=model.predict(X_train)\n",
        "predictions = predictions.round().astype('float')\n",
        "predictions"
      ],
      "execution_count": null,
      "outputs": []
    },
    {
      "cell_type": "markdown",
      "metadata": {
        "id": "rstwDOyZrEzN"
      },
      "source": [
        "**ACCURACY OF THE TRAIN RESULT**"
      ]
    },
    {
      "cell_type": "code",
      "metadata": {
        "id": "r2ZtEeoN3Xjg"
      },
      "source": [
        "from sklearn.metrics import accuracy_score\n",
        "Acc=accuracy_score(predictions, Y_train)\n",
        "print(Acc)"
      ],
      "execution_count": null,
      "outputs": []
    }
  ]
}